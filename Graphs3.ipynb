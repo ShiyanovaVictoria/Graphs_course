{
 "cells": [
  {
   "cell_type": "markdown",
   "id": "fcbd92b3",
   "metadata": {},
   "source": [
    "# Laba 3"
   ]
  },
  {
   "cell_type": "code",
   "execution_count": 1,
   "id": "a66b6eb9",
   "metadata": {},
   "outputs": [],
   "source": [
    "import numpy as np\n",
    "from graphblas import Matrix, Vector\n",
    "from graphblas import dtypes\n",
    "from graphblas import binary, semiring"
   ]
  },
  {
   "cell_type": "markdown",
   "id": "808bdd0f",
   "metadata": {},
   "source": [
    "# #1 Bellman–Ford (1 стартовая вершина)"
   ]
  },
  {
   "cell_type": "code",
   "execution_count": 2,
   "id": "96be9f86",
   "metadata": {},
   "outputs": [],
   "source": [
    "def Bellman_Ford(A, vertex):\n",
    "    \n",
    "    m = A.nrows\n",
    "    v = Vector(A.dtype, m)\n",
    "    v[vertex] << 0\n",
    "    \n",
    "    w = v.dup()\n",
    "    for i in range(m - 1):\n",
    "        w_old = w.dup()\n",
    "        w(binary.min) << w.vxm(A, semiring.min_plus)\n",
    "        if w.isequal(w_old):\n",
    "            break\n",
    "            \n",
    "    w_old = w.dup()\n",
    "    w(binary.min) << w.vxm(A, semiring.min_plus)\n",
    "    if not w.isequal(w_old):\n",
    "        raise RuntimeError('Цикл отрицательного веса')\n",
    " \n",
    "    final = []\n",
    "    for i in range(m):\n",
    "        if w[i].value is None:\n",
    "            final.append(float('inf'))\n",
    "        else:\n",
    "            final.append(w[i].value)\n",
    "    return final"
   ]
  },
  {
   "cell_type": "markdown",
   "id": "277295f9",
   "metadata": {},
   "source": [
    "# #2 Bellman–Ford (несколько стартовых вершин)"
   ]
  },
  {
   "cell_type": "code",
   "execution_count": 3,
   "id": "15e5053a",
   "metadata": {},
   "outputs": [],
   "source": [
    "def Bellman_Ford2(A, massiv):\n",
    "    \n",
    "    n = A.ncols\n",
    "    m = massiv.size\n",
    "    \n",
    "    v = Matrix(dtypes.INT32, m, n)\n",
    "    for i in range(m):\n",
    "        v[i, massiv[i]] << 0\n",
    "        \n",
    "    w = v.dup()\n",
    "    for i in range(n - 1):\n",
    "        w_old = w.dup()\n",
    "        for i in range(m):\n",
    "            w[i, :](binary.min) << w[i, :].vxm(A, semiring.min_plus)\n",
    "        if w.isequal(w_old):\n",
    "            break\n",
    "    \n",
    "    w_old = w.dup()\n",
    "    w(binary.min) << w.vxm(A, semiring.min_plus)\n",
    "    if not w.isequal(w_old):\n",
    "        raise RuntimeError('Цикл отрицательного веса')\n",
    "\n",
    "    final = {}\n",
    "    for i in range(m):\n",
    "        values = []\n",
    "        for j in range(n):\n",
    "            if w[i, j].value is None: \n",
    "                values.append(float('inf'))\n",
    "            else:\n",
    "                values.append(w[i, j].value)\n",
    "        final[massiv[i]] = (values)\n",
    "    return final"
   ]
  },
  {
   "cell_type": "markdown",
   "id": "c772bcc5",
   "metadata": {},
   "source": [
    "# #3 Floyd–Warshall"
   ]
  },
  {
   "cell_type": "code",
   "execution_count": 4,
   "id": "5b563229",
   "metadata": {},
   "outputs": [],
   "source": [
    "def FloydWarshall(matrix):\n",
    "    \n",
    "    dist = matrix.dup()\n",
    "    n = matrix.nrows\n",
    "    temp_dist = matrix.dup()\n",
    "    \n",
    "    for k in range(n):\n",
    "        \n",
    "        dist_col = Matrix(dtypes.INT32, n, n)\n",
    "        dist_row = Matrix(dtypes.INT32, n, n)\n",
    "        dist_col[:, k] = dist[:, k].dup()\n",
    "        dist_row[k, :] = dist[k, :].dup()\n",
    "        temp_dist << dist_col.mxm(dist_row, semiring.min_plus)\n",
    "\n",
    "        dist << dist.ewise_add(temp_dist, op=\"min\")\n",
    "        \n",
    "    dist1 = dist.dup()\n",
    "    temp_dist1 = temp_dist.dup()\n",
    "    dist_col1 = Matrix(dtypes.INT32, n, n)\n",
    "    dist_row1 = Matrix(dtypes.INT32, n, n)\n",
    "    dist_col1[:, k] = dist1[:, k].dup()\n",
    "    dist_row1[k, :] = dist1[k, :].dup()\n",
    "    temp_dist1 << dist_col1.mxm(dist_row1, semiring.min_plus)\n",
    "    dist1 << dist1.ewise_add(temp_dist1, op=\"min\")\n",
    "    \n",
    "    if not dist1.isequal(dist):\n",
    "        raise RuntimeError('Цикл отрицательного веса')\n",
    "\n",
    "    result = {}\n",
    "    for i in range(n):\n",
    "        val_list = []\n",
    "        for j in range(n):\n",
    "            if i == j:\n",
    "                val_list.append(0)\n",
    "            elif dist[i, j].value is None:\n",
    "                val_list.append(float('inf'))\n",
    "            else:\n",
    "                val_list.append(dist[i, j].value)\n",
    "        result[i] = np.array(val_list)\n",
    "    return result\n"
   ]
  },
  {
   "cell_type": "markdown",
   "id": "2ef674f0",
   "metadata": {},
   "source": [
    "# #3 Вычисление транзитивного замыкания"
   ]
  },
  {
   "cell_type": "code",
   "execution_count": 5,
   "id": "9f7ac6e1",
   "metadata": {},
   "outputs": [],
   "source": [
    "def TransitiveClosure(m):\n",
    "    \n",
    "    rows = m.nrows\n",
    "    I = Matrix(dtypes.INT32, rows, rows)\n",
    "    \n",
    "    for i in range(rows):\n",
    "        I[i, i] = 1\n",
    "    D = I.dup()\n",
    "    \n",
    "    for i in range(rows):\n",
    "        D1 = D.dup()\n",
    "        D = D.mxm(m, semiring.min_plus).ewise_add(I, op=\"min\")\n",
    "        if D1.isequal(D):\n",
    "            break\n",
    "    \n",
    "    D2 = D.dup()\n",
    "    D2 = D2.mxm(m, semiring.min_plus).ewise_add(I, op=\"min\")\n",
    "\n",
    "    if not D2.isequal(D):\n",
    "        raise RuntimeError('Цикл отрицательного веса')\n",
    "\n",
    "    output = {}\n",
    "    \n",
    "    for i in range(rows):\n",
    "        ar_val = []\n",
    "        for j in range(rows):\n",
    "            if D[i, j].value is None:\n",
    "                ar_val.append(float('inf'))\n",
    "            elif i == j:\n",
    "                ar_val.append(0)\n",
    "            else:\n",
    "                ar_val.append(D[i, j].value - 1)\n",
    "        output[i] = np.array(ar_val)\n",
    "    return output"
   ]
  }
 ],
 "metadata": {
  "kernelspec": {
   "display_name": "Python 3 (ipykernel)",
   "language": "python",
   "name": "python3"
  },
  "language_info": {
   "codemirror_mode": {
    "name": "ipython",
    "version": 3
   },
   "file_extension": ".py",
   "mimetype": "text/x-python",
   "name": "python",
   "nbconvert_exporter": "python",
   "pygments_lexer": "ipython3",
   "version": "3.12.0"
  }
 },
 "nbformat": 4,
 "nbformat_minor": 5
}
