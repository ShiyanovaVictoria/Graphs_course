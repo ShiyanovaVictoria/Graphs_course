{
 "cells": [
  {
   "cell_type": "markdown",
   "id": "fcbd92b3",
   "metadata": {},
   "source": [
    "# Laba 3"
   ]
  },
  {
   "cell_type": "code",
   "execution_count": 56,
   "id": "a66b6eb9",
   "metadata": {},
   "outputs": [],
   "source": [
    "import numpy as np\n",
    "import pandas as pd\n",
    "import graphblas as gb\n",
    "import random\n",
    "from graphblas.io import mmread\n",
    "from graphblas import Matrix, Vector\n",
    "from graphblas import dtypes\n",
    "from graphblas import binary, semiring\n",
    "import os\n",
    "import time\n",
    "import plotly.express as px"
   ]
  },
  {
   "cell_type": "markdown",
   "id": "808bdd0f",
   "metadata": {},
   "source": [
    "# #1 Bellman–Ford (1 стартовая вершина)"
   ]
  },
  {
   "cell_type": "code",
   "execution_count": 33,
   "id": "96be9f86",
   "metadata": {},
   "outputs": [],
   "source": [
    "def Bellman_Ford(A, vertex):\n",
    "    m = A.nrows\n",
    "    v = Vector(A.dtype, m)\n",
    "    v[vertex] << 0\n",
    "    \n",
    "    w = v.dup()\n",
    "    for i in range(m - 1):\n",
    "        w_old = w.dup()\n",
    "        w(binary.min) << w.vxm(A, semiring.min_plus)\n",
    "        if w.isequal(w_old):\n",
    "            break\n",
    "            \n",
    "    w_old = w.dup()\n",
    "    w(binary.min) << w.vxm(A, semiring.min_plus)\n",
    "    \n",
    "    if not w.isequal(w_old):\n",
    "        raise RuntimeError(\"Присутствует цикл отрицательного веса\")\n",
    "        \n",
    "    result = []\n",
    "    for i in range(m):\n",
    "        if w[i].value is None:\n",
    "            result.append(float('inf'))\n",
    "        else:\n",
    "            result.append(w[i].value)\n",
    "    return result"
   ]
  },
  {
   "cell_type": "markdown",
   "id": "277295f9",
   "metadata": {},
   "source": [
    "# #2 Bellman–Ford (несколько стартовых вершин)"
   ]
  },
  {
   "cell_type": "code",
   "execution_count": 51,
   "id": "15e5053a",
   "metadata": {},
   "outputs": [],
   "source": [
    "def Bellman_Ford_mult(A, vertices):\n",
    "    n = A.ncols\n",
    "    m = vertices.size\n",
    "    \n",
    "    v = Matrix(dtypes.INT32, m, n)\n",
    "    for i in range(m):\n",
    "        v[i, vertices[i]] << 0\n",
    "\n",
    "    w = v.dup()\n",
    "    for i in range(n - 1):\n",
    "        w_old = w.dup()\n",
    "        for i in range(m):\n",
    "            w[i, :](binary.min) << w[i, :].vxm(A, semiring.min_plus)\n",
    "        if w.isequal(w_old):\n",
    "            break\n",
    "    \n",
    "    w_old = w.dup()\n",
    "    for i in range(m):\n",
    "        w[i,:](binary.min) << w[i,:].vxm(A, semiring.min_plus)\n",
    "    if not w.isequal(w_old):\n",
    "        raise RuntimeError('Присутствует цикл отрицательного веса')\n",
    "        \n",
    "    result = {}\n",
    "    for i in range(m):\n",
    "        values = []\n",
    "        for j in range(n):\n",
    "            if w[i, j].value is None: \n",
    "                values.append(float('inf'))\n",
    "            else:\n",
    "                values.append(w[i, j].value)\n",
    "        result[vertices[i]] = (values)\n",
    "    return result"
   ]
  },
  {
   "cell_type": "markdown",
   "id": "c772bcc5",
   "metadata": {},
   "source": [
    "# #3 Floyd–Warshall"
   ]
  },
  {
   "cell_type": "code",
   "execution_count": 35,
   "id": "5b563229",
   "metadata": {},
   "outputs": [],
   "source": [
    "def Floyd_Warshall(matrix):\n",
    "    dist = matrix.dup()\n",
    "    n = matrix.nrows\n",
    "    temp_dist = matrix.dup()\n",
    "    \n",
    "    for k in range(n):\n",
    "        \n",
    "        dist_col = Matrix(dtypes.INT32, n, n)\n",
    "        dist_row = Matrix(dtypes.INT32, n, n)\n",
    "        dist_col[:, k] = dist[:, k].dup()\n",
    "        dist_row[k, :] = dist[k, :].dup()\n",
    "        temp_dist << dist_col.mxm(dist_row, semiring.min_plus)\n",
    "\n",
    "        dist << dist.ewise_add(temp_dist, op=\"min\")\n",
    "        \n",
    "    dist_cop = dist.dup()\n",
    "    temp_dist_cop = temp_dist.dup()\n",
    "    dist_col_cop = Matrix(dtypes.INT32, n, n)\n",
    "    dist_row_cop = Matrix(dtypes.INT32, n, n)\n",
    "    dist_col_cop[:, k] = dist_cop[:, k].dup()\n",
    "    dist_row_cop[k, :] = dist_cop[k, :].dup()\n",
    "    temp_dist_cop << dist_col_cop.mxm(dist_row_cop, semiring.min_plus)\n",
    "    dist_cop << dist_cop.ewise_add(temp_dist_cop, op=\"min\")\n",
    "    \n",
    "    if not dist_cop.isequal(dist):\n",
    "        raise RuntimeError('Присутствует цикл отрицательного веса')\n",
    "\n",
    "    result = {}\n",
    "    for i in range(n):\n",
    "        val_list = []\n",
    "        for j in range(n):\n",
    "            if i == j:\n",
    "                val_list.append(0)\n",
    "            elif dist[i, j].value is None:\n",
    "                val_list.append(float('inf'))\n",
    "            else:\n",
    "                val_list.append(dist[i, j].value)\n",
    "        result[i] = np.array(val_list)\n",
    "    return result\n"
   ]
  },
  {
   "cell_type": "markdown",
   "id": "2ef674f0",
   "metadata": {},
   "source": [
    "# #3 Вычисление транзитивного замыкания"
   ]
  },
  {
   "cell_type": "code",
   "execution_count": 36,
   "id": "9f7ac6e1",
   "metadata": {},
   "outputs": [],
   "source": [
    "def Transitive_Closure(m):\n",
    "    rows = m.nrows\n",
    "    I = Matrix(dtypes.INT32, rows, rows)\n",
    "    \n",
    "    for i in range(rows):\n",
    "        I[i, i] = 1\n",
    "    D = I.dup()\n",
    "    for i in range(rows):\n",
    "        D1 = D.dup()\n",
    "        D = D.mxm(m, semiring.min_plus).ewise_add(I, op=\"min\")\n",
    "        if D1.isequal(D):\n",
    "            break\n",
    "    \n",
    "    D2 = D.dup()\n",
    "    D2 = D2.mxm(m, semiring.min_plus).ewise_add(I, op=\"min\")\n",
    "    if not D2.isequal(D):\n",
    "        raise RuntimeError('Присутствует цикл отрицательного веса')\n",
    "\n",
    "    result = {}\n",
    "    for i in range(rows):\n",
    "        ar_val = []\n",
    "        for j in range(rows):\n",
    "            if D[i, j].value is None:\n",
    "                ar_val.append(float('inf'))\n",
    "            elif i == j:\n",
    "                ar_val.append(0)\n",
    "            else:\n",
    "                ar_val.append(D[i, j].value - 1)\n",
    "        result[i] = np.array(ar_val)\n",
    "    return result"
   ]
  },
  {
   "cell_type": "markdown",
   "id": "1be1df67",
   "metadata": {},
   "source": [
    "# #4  Тесты"
   ]
  },
  {
   "cell_type": "code",
   "execution_count": 37,
   "id": "40341d3d",
   "metadata": {},
   "outputs": [
    {
     "data": {
      "image/png": "[encoded data removed]",
      "text/plain": [
       "<Figure size 640x480 with 1 Axes>"
      ]
     },
     "metadata": {},
     "output_type": "display_data"
    }
   ],
   "source": [
    "import numpy as np\n",
    "\n",
    "data = [\n",
    "    [0, 1, 2, 3],\n",
    "    [1, 2, 3, 1],\n",
    "    [1, 2, 3, 4],\n",
    "]\n",
    "\n",
    "rows, cols, weights = data\n",
    "m = Matrix.from_coo(rows, cols, weights)\n",
    "gb.viz.draw(m)"
   ]
  },
  {
   "cell_type": "code",
   "execution_count": 38,
   "id": "fa402b53",
   "metadata": {},
   "outputs": [
    {
     "name": "stdout",
     "output_type": "stream",
     "text": [
      "Bellman-Ford: [0, 1, 3, 6]\n",
      "Bellman-Ford: [inf, 0, 2, 5]\n",
      "Bellman-Ford: [inf, 7, 0, 3]\n"
     ]
    }
   ],
   "source": [
    "print('Bellman-Ford:', Bellman_Ford(m, 0))\n",
    "# [0, 1, 3, 6]\n",
    "print('Bellman-Ford:', Bellman_Ford(m, 1))\n",
    "# [inf, 0, 2, 5]\n",
    "print('Bellman-Ford:', Bellman_Ford(m, 2))\n",
    "# [inf, 7, 0, 3]"
   ]
  },
  {
   "cell_type": "code",
   "execution_count": 39,
   "id": "9e5217f2",
   "metadata": {},
   "outputs": [
    {
     "name": "stdout",
     "output_type": "stream",
     "text": [
      "Bellman-Ford mult: {1: [inf, 0, 2, 5], 2: [inf, 7, 0, 3]}\n"
     ]
    }
   ],
   "source": [
    "starting_vertices = np.array([1,2])\n",
    "print('Bellman-Ford mult:', Bellman_Ford_mult(m, starting_vertices))\n",
    "# 1: [inf, 0, 2, 5]\n",
    "# 2: [inf, 7, 0, 3]"
   ]
  },
  {
   "cell_type": "code",
   "execution_count": 40,
   "id": "a3105502",
   "metadata": {},
   "outputs": [
    {
     "name": "stdout",
     "output_type": "stream",
     "text": [
      "Floyd-Warshall: {0: array([0, 1, 3, 6]), 1: array([inf,  0.,  2.,  5.]), 2: array([inf,  7.,  0.,  3.]), 3: array([inf,  4.,  6.,  0.])}\n"
     ]
    }
   ],
   "source": [
    "print('Floyd-Warshall:', Floyd_Warshall(m))\n",
    "# (0: [0, 1, 3, 6]\n",
    "# (1: [inf,  0.,  2.,  5.]\n",
    "# (2: [inf,  7.,  0.,  3.]\n",
    "# (3:[inf,  4.,  6.,  0.]\n"
   ]
  },
  {
   "cell_type": "code",
   "execution_count": 41,
   "id": "3c17ec1d",
   "metadata": {},
   "outputs": [
    {
     "name": "stdout",
     "output_type": "stream",
     "text": [
      "Transitive Closure: {0: array([0, 1, 3, 6]), 1: array([inf,  0.,  2.,  5.]), 2: array([inf,  7.,  0.,  3.]), 3: array([inf,  4.,  6.,  0.])}\n"
     ]
    }
   ],
   "source": [
    "print('Transitive Closure:', Transitive_Closure(m))\n",
    "# (0: [0, 1, 3, 6]\n",
    "# (1: [inf,  0.,  2.,  5.]\n",
    "# (2: [inf,  7.,  0.,  3.]\n",
    "# (3:[inf,  4.,  6.,  0.]"
   ]
  },
  {
   "cell_type": "markdown",
   "id": "b6e4aa37",
   "metadata": {},
   "source": [
    "результаты, посчитанные разными способами, сходятся => всё верно"
   ]
  },
  {
   "cell_type": "code",
   "execution_count": 42,
   "id": "40cab371",
   "metadata": {},
   "outputs": [
    {
     "data": {
      "image/png": "[encoded data removed]",
      "text/plain": [
       "<Figure size 640x480 with 1 Axes>"
      ]
     },
     "metadata": {},
     "output_type": "display_data"
    }
   ],
   "source": [
    "data = [\n",
    "    [0, 1, 2, 3],\n",
    "    [1, 2, 3, 1],\n",
    "    [-1, 2, -3, -4],\n",
    "]\n",
    "\n",
    "rows, cols, weights = data\n",
    "m = Matrix.from_coo(rows, cols, weights)\n",
    "gb.viz.draw(m)"
   ]
  },
  {
   "cell_type": "code",
   "execution_count": 43,
   "id": "32f59e5b",
   "metadata": {},
   "outputs": [
    {
     "ename": "RuntimeError",
     "evalue": "Присутствует цикл отрицательного веса",
     "output_type": "error",
     "traceback": [
      "\u001b[1;31m---------------------------------------------------------------------------\u001b[0m",
      "\u001b[1;31mRuntimeError\u001b[0m                              Traceback (most recent call last)",
      "Cell \u001b[1;32mIn[43], line 1\u001b[0m\n\u001b[1;32m----> 1\u001b[0m \u001b[43mBellman_Ford\u001b[49m\u001b[43m(\u001b[49m\u001b[43mm\u001b[49m\u001b[43m,\u001b[49m\u001b[43m \u001b[49m\u001b[38;5;241;43m2\u001b[39;49m\u001b[43m)\u001b[49m\n",
      "Cell \u001b[1;32mIn[33], line 17\u001b[0m, in \u001b[0;36mBellman_Ford\u001b[1;34m(A, vertex)\u001b[0m\n\u001b[0;32m     14\u001b[0m w(binary\u001b[38;5;241m.\u001b[39mmin) \u001b[38;5;241m<<\u001b[39m w\u001b[38;5;241m.\u001b[39mvxm(A, semiring\u001b[38;5;241m.\u001b[39mmin_plus)\n\u001b[0;32m     16\u001b[0m \u001b[38;5;28;01mif\u001b[39;00m \u001b[38;5;129;01mnot\u001b[39;00m w\u001b[38;5;241m.\u001b[39misequal(w_old):\n\u001b[1;32m---> 17\u001b[0m     \u001b[38;5;28;01mraise\u001b[39;00m \u001b[38;5;167;01mRuntimeError\u001b[39;00m(\u001b[38;5;124m\"\u001b[39m\u001b[38;5;124mПрисутствует цикл отрицательного веса\u001b[39m\u001b[38;5;124m\"\u001b[39m)\n\u001b[0;32m     19\u001b[0m result \u001b[38;5;241m=\u001b[39m []\n\u001b[0;32m     20\u001b[0m \u001b[38;5;28;01mfor\u001b[39;00m i \u001b[38;5;129;01min\u001b[39;00m \u001b[38;5;28mrange\u001b[39m(m):\n",
      "\u001b[1;31mRuntimeError\u001b[0m: Присутствует цикл отрицательного веса"
     ]
    }
   ],
   "source": [
    "Bellman_Ford(m, 2)"
   ]
  },
  {
   "cell_type": "markdown",
   "id": "770a7a28",
   "metadata": {},
   "source": [
    "в каждой функции происходит отлов всех графов, в которых присутствует х/б один цикл отрицательного веса "
   ]
  },
  {
   "cell_type": "markdown",
   "id": "18242ca4",
   "metadata": {},
   "source": [
    "# #5 Экспериментальное исследование"
   ]
  },
  {
   "cell_type": "code",
   "execution_count": 60,
   "id": "e1b8f957",
   "metadata": {},
   "outputs": [],
   "source": [
    "graph_names = ['bcsstk01.mtx', 'bcsstk05.mtx', 'can_445.mtx'] # названия графов"
   ]
  },
  {
   "cell_type": "code",
   "execution_count": 54,
   "id": "730f4e20",
   "metadata": {},
   "outputs": [],
   "source": [
    "def test_Bellman_Ford(A, vertex):\n",
    "    start = time.time()\n",
    "    Bellman_Ford(A, vertex)\n",
    "    end = time.time()\n",
    "    working_time = (end-start)\n",
    "    return working_time\n",
    "\n",
    "def test_Bellman_Ford_mult(A, vertices):\n",
    "    start = time.time()\n",
    "    Bellman_Ford_mult(A, vertices)\n",
    "    end = time.time()\n",
    "    working_time = (end-start)\n",
    "    return working_time\n",
    "\n",
    "def test_Floyd_Warshall(A):\n",
    "    start = time.time()\n",
    "    Floyd_Warshall(A)\n",
    "    end = time.time()\n",
    "    working_time = (end-start)\n",
    "    return working_time\n",
    "\n",
    "def test_Transitive_Closure(A):\n",
    "    start = time.time()\n",
    "    Transitive_Closure(A)\n",
    "    end = time.time()\n",
    "    working_time = (end-start)\n",
    "    return working_time"
   ]
  },
  {
   "cell_type": "code",
   "execution_count": 52,
   "id": "93024951",
   "metadata": {},
   "outputs": [],
   "source": [
    "def vertex_generate(n, p):\n",
    "    population = range(n)\n",
    "    vertex_array = random.sample(population, round(n * p))\n",
    "    return np.array(vertex_array)"
   ]
  },
  {
   "cell_type": "code",
   "execution_count": 53,
   "id": "ef9e709a",
   "metadata": {},
   "outputs": [],
   "source": [
    "def generation_start_vertices(num_vertices, frequency):\n",
    "    start_vertices = random.sample(range(num_vertices), int(num_vertices * frequency/100))\n",
    "    return np.array(start_vertices)"
   ]
  },
  {
   "cell_type": "code",
   "execution_count": 62,
   "id": "39058724",
   "metadata": {},
   "outputs": [
    {
     "data": {
      "text/plain": [
       "['bcsstk01.mtx', 'bcsstk05.mtx', 'can_445.mtx']"
      ]
     },
     "execution_count": 62,
     "metadata": {},
     "output_type": "execute_result"
    }
   ],
   "source": [
    "graph_names"
   ]
  },
  {
   "cell_type": "code",
   "execution_count": 87,
   "id": "f3946079",
   "metadata": {},
   "outputs": [],
   "source": [
    "vertex_frequency=[5, 20, 80]\n",
    "\n",
    "graphs_metrics_levels = pd.DataFrame(columns=['Метод', 'Файл', 'Количество вершин', 'Степень разреженности', 'Количество стартовых вершин', 'Время'])\n",
    "graph_names = os.listdir('graphs3')\n",
    "for graph_name in graph_names:\n",
    "    graph = mmread(f'graphs3/{graph_name}')\n",
    "    num_vertices = graph.shape[0]\n",
    "    num_edges = len(graph.to_coo()[0])\n",
    "    rerefaction_deg = num_edges / (num_vertices * (num_vertices - 1))\n",
    "    for vertex_freq in vertex_frequency:\n",
    "        working_time = test_Bellman_Ford(graph, generation_start_vertices(graph.nrows, vertex_freq))\n",
    "        graphs_metrics_levels.loc[len(graphs_metrics_levels)] = 'Bellman-Ford', graph_name, num_vertices, rerefaction_deg, int(vertex_freq/100 * graph.nrows), working_time\n",
    "        working_time = test_Bellman_Ford_mult(graph, generation_start_vertices(graph.nrows, vertex_freq))\n",
    "        graphs_metrics_levels.loc[len(graphs_metrics_levels)] = 'Bellman-Ford mult', graph_name, num_vertices, rerefaction_deg, int(vertex_freq/100 * graph.nrows), working_time"
   ]
  },
  {
   "cell_type": "code",
   "execution_count": 88,
   "id": "69442064",
   "metadata": {},
   "outputs": [
    {
     "data": {
      "text/html": [
       "<div>\n",
       "<style scoped>\n",
       "    .dataframe tbody tr th:only-of-type {\n",
       "        vertical-align: middle;\n",
       "    }\n",
       "\n",
       "    .dataframe tbody tr th {\n",
       "        vertical-align: top;\n",
       "    }\n",
       "\n",
       "    .dataframe thead th {\n",
       "        text-align: right;\n",
       "    }\n",
       "</style>\n",
       "<table border=\"1\" class=\"dataframe\">\n",
       "  <thead>\n",
       "    <tr style=\"text-align: right;\">\n",
       "      <th></th>\n",
       "      <th>Метод</th>\n",
       "      <th>Файл</th>\n",
       "      <th>Количество вершин</th>\n",
       "      <th>Степень разреженности</th>\n",
       "      <th>Количество стартовых вершин</th>\n",
       "      <th>Время</th>\n",
       "    </tr>\n",
       "  </thead>\n",
       "  <tbody>\n",
       "    <tr>\n",
       "      <th>0</th>\n",
       "      <td>Bellman-Ford</td>\n",
       "      <td>can_1072.mtx</td>\n",
       "      <td>1072</td>\n",
       "      <td>0.010839</td>\n",
       "      <td>53</td>\n",
       "      <td>0.045649</td>\n",
       "    </tr>\n",
       "    <tr>\n",
       "      <th>1</th>\n",
       "      <td>Bellman-Ford mult</td>\n",
       "      <td>can_1072.mtx</td>\n",
       "      <td>1072</td>\n",
       "      <td>0.010839</td>\n",
       "      <td>53</td>\n",
       "      <td>2.896208</td>\n",
       "    </tr>\n",
       "    <tr>\n",
       "      <th>2</th>\n",
       "      <td>Bellman-Ford</td>\n",
       "      <td>can_1072.mtx</td>\n",
       "      <td>1072</td>\n",
       "      <td>0.010839</td>\n",
       "      <td>214</td>\n",
       "      <td>0.052159</td>\n",
       "    </tr>\n",
       "    <tr>\n",
       "      <th>3</th>\n",
       "      <td>Bellman-Ford mult</td>\n",
       "      <td>can_1072.mtx</td>\n",
       "      <td>1072</td>\n",
       "      <td>0.010839</td>\n",
       "      <td>214</td>\n",
       "      <td>13.290549</td>\n",
       "    </tr>\n",
       "    <tr>\n",
       "      <th>4</th>\n",
       "      <td>Bellman-Ford</td>\n",
       "      <td>can_1072.mtx</td>\n",
       "      <td>1072</td>\n",
       "      <td>0.010839</td>\n",
       "      <td>857</td>\n",
       "      <td>0.038340</td>\n",
       "    </tr>\n",
       "    <tr>\n",
       "      <th>5</th>\n",
       "      <td>Bellman-Ford mult</td>\n",
       "      <td>can_1072.mtx</td>\n",
       "      <td>1072</td>\n",
       "      <td>0.010839</td>\n",
       "      <td>857</td>\n",
       "      <td>46.168129</td>\n",
       "    </tr>\n",
       "    <tr>\n",
       "      <th>6</th>\n",
       "      <td>Bellman-Ford</td>\n",
       "      <td>can_229.mtx</td>\n",
       "      <td>229</td>\n",
       "      <td>0.034034</td>\n",
       "      <td>11</td>\n",
       "      <td>0.012479</td>\n",
       "    </tr>\n",
       "    <tr>\n",
       "      <th>7</th>\n",
       "      <td>Bellman-Ford mult</td>\n",
       "      <td>can_229.mtx</td>\n",
       "      <td>229</td>\n",
       "      <td>0.034034</td>\n",
       "      <td>11</td>\n",
       "      <td>0.132843</td>\n",
       "    </tr>\n",
       "    <tr>\n",
       "      <th>8</th>\n",
       "      <td>Bellman-Ford</td>\n",
       "      <td>can_229.mtx</td>\n",
       "      <td>229</td>\n",
       "      <td>0.034034</td>\n",
       "      <td>45</td>\n",
       "      <td>0.017202</td>\n",
       "    </tr>\n",
       "    <tr>\n",
       "      <th>9</th>\n",
       "      <td>Bellman-Ford mult</td>\n",
       "      <td>can_229.mtx</td>\n",
       "      <td>229</td>\n",
       "      <td>0.034034</td>\n",
       "      <td>45</td>\n",
       "      <td>0.553029</td>\n",
       "    </tr>\n",
       "    <tr>\n",
       "      <th>10</th>\n",
       "      <td>Bellman-Ford</td>\n",
       "      <td>can_229.mtx</td>\n",
       "      <td>229</td>\n",
       "      <td>0.034034</td>\n",
       "      <td>183</td>\n",
       "      <td>0.013185</td>\n",
       "    </tr>\n",
       "    <tr>\n",
       "      <th>11</th>\n",
       "      <td>Bellman-Ford mult</td>\n",
       "      <td>can_229.mtx</td>\n",
       "      <td>229</td>\n",
       "      <td>0.034034</td>\n",
       "      <td>183</td>\n",
       "      <td>2.284895</td>\n",
       "    </tr>\n",
       "    <tr>\n",
       "      <th>12</th>\n",
       "      <td>Bellman-Ford</td>\n",
       "      <td>can_445.mtx</td>\n",
       "      <td>445</td>\n",
       "      <td>0.019278</td>\n",
       "      <td>22</td>\n",
       "      <td>0.014687</td>\n",
       "    </tr>\n",
       "    <tr>\n",
       "      <th>13</th>\n",
       "      <td>Bellman-Ford mult</td>\n",
       "      <td>can_445.mtx</td>\n",
       "      <td>445</td>\n",
       "      <td>0.019278</td>\n",
       "      <td>22</td>\n",
       "      <td>0.513332</td>\n",
       "    </tr>\n",
       "    <tr>\n",
       "      <th>14</th>\n",
       "      <td>Bellman-Ford</td>\n",
       "      <td>can_445.mtx</td>\n",
       "      <td>445</td>\n",
       "      <td>0.019278</td>\n",
       "      <td>89</td>\n",
       "      <td>0.014159</td>\n",
       "    </tr>\n",
       "    <tr>\n",
       "      <th>15</th>\n",
       "      <td>Bellman-Ford mult</td>\n",
       "      <td>can_445.mtx</td>\n",
       "      <td>445</td>\n",
       "      <td>0.019278</td>\n",
       "      <td>89</td>\n",
       "      <td>2.082488</td>\n",
       "    </tr>\n",
       "    <tr>\n",
       "      <th>16</th>\n",
       "      <td>Bellman-Ford</td>\n",
       "      <td>can_445.mtx</td>\n",
       "      <td>445</td>\n",
       "      <td>0.019278</td>\n",
       "      <td>356</td>\n",
       "      <td>0.016078</td>\n",
       "    </tr>\n",
       "    <tr>\n",
       "      <th>17</th>\n",
       "      <td>Bellman-Ford mult</td>\n",
       "      <td>can_445.mtx</td>\n",
       "      <td>445</td>\n",
       "      <td>0.019278</td>\n",
       "      <td>356</td>\n",
       "      <td>8.998378</td>\n",
       "    </tr>\n",
       "    <tr>\n",
       "      <th>18</th>\n",
       "      <td>Bellman-Ford</td>\n",
       "      <td>can_715.mtx</td>\n",
       "      <td>715</td>\n",
       "      <td>0.013056</td>\n",
       "      <td>35</td>\n",
       "      <td>0.023340</td>\n",
       "    </tr>\n",
       "    <tr>\n",
       "      <th>19</th>\n",
       "      <td>Bellman-Ford mult</td>\n",
       "      <td>can_715.mtx</td>\n",
       "      <td>715</td>\n",
       "      <td>0.013056</td>\n",
       "      <td>35</td>\n",
       "      <td>1.253245</td>\n",
       "    </tr>\n",
       "    <tr>\n",
       "      <th>20</th>\n",
       "      <td>Bellman-Ford</td>\n",
       "      <td>can_715.mtx</td>\n",
       "      <td>715</td>\n",
       "      <td>0.013056</td>\n",
       "      <td>143</td>\n",
       "      <td>0.028575</td>\n",
       "    </tr>\n",
       "    <tr>\n",
       "      <th>21</th>\n",
       "      <td>Bellman-Ford mult</td>\n",
       "      <td>can_715.mtx</td>\n",
       "      <td>715</td>\n",
       "      <td>0.013056</td>\n",
       "      <td>143</td>\n",
       "      <td>5.136927</td>\n",
       "    </tr>\n",
       "    <tr>\n",
       "      <th>22</th>\n",
       "      <td>Bellman-Ford</td>\n",
       "      <td>can_715.mtx</td>\n",
       "      <td>715</td>\n",
       "      <td>0.013056</td>\n",
       "      <td>572</td>\n",
       "      <td>0.021266</td>\n",
       "    </tr>\n",
       "    <tr>\n",
       "      <th>23</th>\n",
       "      <td>Bellman-Ford mult</td>\n",
       "      <td>can_715.mtx</td>\n",
       "      <td>715</td>\n",
       "      <td>0.013056</td>\n",
       "      <td>572</td>\n",
       "      <td>20.434685</td>\n",
       "    </tr>\n",
       "  </tbody>\n",
       "</table>\n",
       "</div>"
      ],
      "text/plain": [
       "                Метод          Файл  Количество вершин  Степень разреженности  \\\n",
       "0        Bellman-Ford  can_1072.mtx               1072               0.010839   \n",
       "1   Bellman-Ford mult  can_1072.mtx               1072               0.010839   \n",
       "2        Bellman-Ford  can_1072.mtx               1072               0.010839   \n",
       "3   Bellman-Ford mult  can_1072.mtx               1072               0.010839   \n",
       "4        Bellman-Ford  can_1072.mtx               1072               0.010839   \n",
       "5   Bellman-Ford mult  can_1072.mtx               1072               0.010839   \n",
       "6        Bellman-Ford   can_229.mtx                229               0.034034   \n",
       "7   Bellman-Ford mult   can_229.mtx                229               0.034034   \n",
       "8        Bellman-Ford   can_229.mtx                229               0.034034   \n",
       "9   Bellman-Ford mult   can_229.mtx                229               0.034034   \n",
       "10       Bellman-Ford   can_229.mtx                229               0.034034   \n",
       "11  Bellman-Ford mult   can_229.mtx                229               0.034034   \n",
       "12       Bellman-Ford   can_445.mtx                445               0.019278   \n",
       "13  Bellman-Ford mult   can_445.mtx                445               0.019278   \n",
       "14       Bellman-Ford   can_445.mtx                445               0.019278   \n",
       "15  Bellman-Ford mult   can_445.mtx                445               0.019278   \n",
       "16       Bellman-Ford   can_445.mtx                445               0.019278   \n",
       "17  Bellman-Ford mult   can_445.mtx                445               0.019278   \n",
       "18       Bellman-Ford   can_715.mtx                715               0.013056   \n",
       "19  Bellman-Ford mult   can_715.mtx                715               0.013056   \n",
       "20       Bellman-Ford   can_715.mtx                715               0.013056   \n",
       "21  Bellman-Ford mult   can_715.mtx                715               0.013056   \n",
       "22       Bellman-Ford   can_715.mtx                715               0.013056   \n",
       "23  Bellman-Ford mult   can_715.mtx                715               0.013056   \n",
       "\n",
       "    Количество стартовых вершин      Время  \n",
       "0                            53   0.045649  \n",
       "1                            53   2.896208  \n",
       "2                           214   0.052159  \n",
       "3                           214  13.290549  \n",
       "4                           857   0.038340  \n",
       "5                           857  46.168129  \n",
       "6                            11   0.012479  \n",
       "7                            11   0.132843  \n",
       "8                            45   0.017202  \n",
       "9                            45   0.553029  \n",
       "10                          183   0.013185  \n",
       "11                          183   2.284895  \n",
       "12                           22   0.014687  \n",
       "13                           22   0.513332  \n",
       "14                           89   0.014159  \n",
       "15                           89   2.082488  \n",
       "16                          356   0.016078  \n",
       "17                          356   8.998378  \n",
       "18                           35   0.023340  \n",
       "19                           35   1.253245  \n",
       "20                          143   0.028575  \n",
       "21                          143   5.136927  \n",
       "22                          572   0.021266  \n",
       "23                          572  20.434685  "
      ]
     },
     "execution_count": 88,
     "metadata": {},
     "output_type": "execute_result"
    }
   ],
   "source": [
    "graphs_metrics_levels"
   ]
  },
  {
   "cell_type": "markdown",
   "id": "ab74a785",
   "metadata": {},
   "source": [
    "## Генерация случайных графов"
   ]
  },
  {
   "cell_type": "code",
   "execution_count": 69,
   "id": "c0777225",
   "metadata": {},
   "outputs": [],
   "source": [
    "def generate_graph(n_rows, density):\n",
    "    \n",
    "    A = gb.Matrix(int, n_rows, n_rows)\n",
    "    while density > 0:\n",
    "        i = random.randint(0, n_rows - 1)\n",
    "        j = random.randint(0, n_rows - 1)\n",
    "        if A.get(i,j) is None and i != j:\n",
    "            weight = random.randint(0, 10)\n",
    "            A[i,j] = weight\n",
    "            A[j,i] = weight\n",
    "            density = density - 1\n",
    "    return A"
   ]
  },
  {
   "cell_type": "markdown",
   "id": "c234711f",
   "metadata": {},
   "source": [
    "зависимость от числа вершин"
   ]
  },
  {
   "cell_type": "code",
   "execution_count": 70,
   "id": "b8eab37b",
   "metadata": {},
   "outputs": [],
   "source": [
    "graphs_gen_metrics = pd.DataFrame(columns=['Количество вершин', 'Степень разреженности', 'Доля стартовых вершин', 'Функция', 'Время'])\n",
    "for i in [100, 200, 400, 600, 800]:\n",
    "    fix_raref_deg, share_starts = 0.5, 40 \n",
    "    generated_graph = generate_graph(i, int(fix_raref_deg * i * (i-1)))\n",
    "    num_vertices = generated_graph.shape[0]\n",
    "    num_edges = len(generated_graph.to_coo()[0])\n",
    "    rerefaction_deg = num_edges / (num_vertices * (num_vertices - 1))\n",
    "\n",
    "    BF = test_Bellman_Ford(generated_graph, generation_start_vertices(i, share_starts))\n",
    "    graphs_gen_metrics.loc[len(graphs_gen_metrics)] = i, fix_raref_deg, share_starts, 'Bellman_Ford', BF\n",
    "\n",
    "    BFM = test_Bellman_Ford_mult(generated_graph, generation_start_vertices(i, share_starts))\n",
    "    graphs_gen_metrics.loc[len(graphs_gen_metrics)] = i, fix_raref_deg, share_starts, 'Bellman_Ford_mult', BFM\n",
    "\n",
    "    FM = test_Floyd_Warshall(generated_graph)\n",
    "    graphs_gen_metrics.loc[len(graphs_gen_metrics)] = i, fix_raref_deg, share_starts, 'Floyd_Warshall', FM\n",
    "    \n",
    "    TC = test_Transitive_Closure(generated_graph)\n",
    "    graphs_gen_metrics.loc[len(graphs_gen_metrics)] = i, fix_raref_deg, share_starts, 'Transitive_Closure', TC"
   ]
  },
  {
   "cell_type": "code",
   "execution_count": 72,
   "id": "9bee5c6f",
   "metadata": {},
   "outputs": [
    {
     "data": {
      "text/html": [
       "<div>\n",
       "<style scoped>\n",
       "    .dataframe tbody tr th:only-of-type {\n",
       "        vertical-align: middle;\n",
       "    }\n",
       "\n",
       "    .dataframe tbody tr th {\n",
       "        vertical-align: top;\n",
       "    }\n",
       "\n",
       "    .dataframe thead th {\n",
       "        text-align: right;\n",
       "    }\n",
       "</style>\n",
       "<table border=\"1\" class=\"dataframe\">\n",
       "  <thead>\n",
       "    <tr style=\"text-align: right;\">\n",
       "      <th></th>\n",
       "      <th>Количество вершин</th>\n",
       "      <th>Степень разреженности</th>\n",
       "      <th>Доля стартовых вершин</th>\n",
       "      <th>Функция</th>\n",
       "      <th>Время</th>\n",
       "      <th>Время/Кол-во вершин</th>\n",
       "    </tr>\n",
       "  </thead>\n",
       "  <tbody>\n",
       "    <tr>\n",
       "      <th>0</th>\n",
       "      <td>100</td>\n",
       "      <td>0.5</td>\n",
       "      <td>40</td>\n",
       "      <td>Bellman_Ford</td>\n",
       "      <td>0.008105</td>\n",
       "      <td>0.000081</td>\n",
       "    </tr>\n",
       "    <tr>\n",
       "      <th>16</th>\n",
       "      <td>800</td>\n",
       "      <td>0.5</td>\n",
       "      <td>40</td>\n",
       "      <td>Bellman_Ford</td>\n",
       "      <td>0.029081</td>\n",
       "      <td>0.000036</td>\n",
       "    </tr>\n",
       "    <tr>\n",
       "      <th>4</th>\n",
       "      <td>200</td>\n",
       "      <td>0.5</td>\n",
       "      <td>40</td>\n",
       "      <td>Bellman_Ford</td>\n",
       "      <td>0.010410</td>\n",
       "      <td>0.000052</td>\n",
       "    </tr>\n",
       "    <tr>\n",
       "      <th>12</th>\n",
       "      <td>600</td>\n",
       "      <td>0.5</td>\n",
       "      <td>40</td>\n",
       "      <td>Bellman_Ford</td>\n",
       "      <td>0.033328</td>\n",
       "      <td>0.000056</td>\n",
       "    </tr>\n",
       "    <tr>\n",
       "      <th>8</th>\n",
       "      <td>400</td>\n",
       "      <td>0.5</td>\n",
       "      <td>40</td>\n",
       "      <td>Bellman_Ford</td>\n",
       "      <td>0.015010</td>\n",
       "      <td>0.000038</td>\n",
       "    </tr>\n",
       "    <tr>\n",
       "      <th>17</th>\n",
       "      <td>800</td>\n",
       "      <td>0.5</td>\n",
       "      <td>40</td>\n",
       "      <td>Bellman_Ford_mult</td>\n",
       "      <td>14.625512</td>\n",
       "      <td>0.018282</td>\n",
       "    </tr>\n",
       "    <tr>\n",
       "      <th>13</th>\n",
       "      <td>600</td>\n",
       "      <td>0.5</td>\n",
       "      <td>40</td>\n",
       "      <td>Bellman_Ford_mult</td>\n",
       "      <td>8.156523</td>\n",
       "      <td>0.013594</td>\n",
       "    </tr>\n",
       "    <tr>\n",
       "      <th>9</th>\n",
       "      <td>400</td>\n",
       "      <td>0.5</td>\n",
       "      <td>40</td>\n",
       "      <td>Bellman_Ford_mult</td>\n",
       "      <td>3.996495</td>\n",
       "      <td>0.009991</td>\n",
       "    </tr>\n",
       "    <tr>\n",
       "      <th>5</th>\n",
       "      <td>200</td>\n",
       "      <td>0.5</td>\n",
       "      <td>40</td>\n",
       "      <td>Bellman_Ford_mult</td>\n",
       "      <td>0.923298</td>\n",
       "      <td>0.004616</td>\n",
       "    </tr>\n",
       "    <tr>\n",
       "      <th>1</th>\n",
       "      <td>100</td>\n",
       "      <td>0.5</td>\n",
       "      <td>40</td>\n",
       "      <td>Bellman_Ford_mult</td>\n",
       "      <td>0.250086</td>\n",
       "      <td>0.002501</td>\n",
       "    </tr>\n",
       "    <tr>\n",
       "      <th>6</th>\n",
       "      <td>200</td>\n",
       "      <td>0.5</td>\n",
       "      <td>40</td>\n",
       "      <td>Floyd_Warshall</td>\n",
       "      <td>1.999903</td>\n",
       "      <td>0.010000</td>\n",
       "    </tr>\n",
       "    <tr>\n",
       "      <th>18</th>\n",
       "      <td>800</td>\n",
       "      <td>0.5</td>\n",
       "      <td>40</td>\n",
       "      <td>Floyd_Warshall</td>\n",
       "      <td>35.789515</td>\n",
       "      <td>0.044737</td>\n",
       "    </tr>\n",
       "    <tr>\n",
       "      <th>10</th>\n",
       "      <td>400</td>\n",
       "      <td>0.5</td>\n",
       "      <td>40</td>\n",
       "      <td>Floyd_Warshall</td>\n",
       "      <td>10.185516</td>\n",
       "      <td>0.025464</td>\n",
       "    </tr>\n",
       "    <tr>\n",
       "      <th>14</th>\n",
       "      <td>600</td>\n",
       "      <td>0.5</td>\n",
       "      <td>40</td>\n",
       "      <td>Floyd_Warshall</td>\n",
       "      <td>19.853137</td>\n",
       "      <td>0.033089</td>\n",
       "    </tr>\n",
       "    <tr>\n",
       "      <th>2</th>\n",
       "      <td>100</td>\n",
       "      <td>0.5</td>\n",
       "      <td>40</td>\n",
       "      <td>Floyd_Warshall</td>\n",
       "      <td>0.529372</td>\n",
       "      <td>0.005294</td>\n",
       "    </tr>\n",
       "    <tr>\n",
       "      <th>11</th>\n",
       "      <td>400</td>\n",
       "      <td>0.5</td>\n",
       "      <td>40</td>\n",
       "      <td>Transitive_Closure</td>\n",
       "      <td>7.868712</td>\n",
       "      <td>0.019672</td>\n",
       "    </tr>\n",
       "    <tr>\n",
       "      <th>3</th>\n",
       "      <td>100</td>\n",
       "      <td>0.5</td>\n",
       "      <td>40</td>\n",
       "      <td>Transitive_Closure</td>\n",
       "      <td>0.514162</td>\n",
       "      <td>0.005142</td>\n",
       "    </tr>\n",
       "    <tr>\n",
       "      <th>15</th>\n",
       "      <td>600</td>\n",
       "      <td>0.5</td>\n",
       "      <td>40</td>\n",
       "      <td>Transitive_Closure</td>\n",
       "      <td>18.466212</td>\n",
       "      <td>0.030777</td>\n",
       "    </tr>\n",
       "    <tr>\n",
       "      <th>7</th>\n",
       "      <td>200</td>\n",
       "      <td>0.5</td>\n",
       "      <td>40</td>\n",
       "      <td>Transitive_Closure</td>\n",
       "      <td>2.035421</td>\n",
       "      <td>0.010177</td>\n",
       "    </tr>\n",
       "    <tr>\n",
       "      <th>19</th>\n",
       "      <td>800</td>\n",
       "      <td>0.5</td>\n",
       "      <td>40</td>\n",
       "      <td>Transitive_Closure</td>\n",
       "      <td>30.802907</td>\n",
       "      <td>0.038504</td>\n",
       "    </tr>\n",
       "  </tbody>\n",
       "</table>\n",
       "</div>"
      ],
      "text/plain": [
       "    Количество вершин  Степень разреженности  Доля стартовых вершин  \\\n",
       "0                 100                    0.5                     40   \n",
       "16                800                    0.5                     40   \n",
       "4                 200                    0.5                     40   \n",
       "12                600                    0.5                     40   \n",
       "8                 400                    0.5                     40   \n",
       "17                800                    0.5                     40   \n",
       "13                600                    0.5                     40   \n",
       "9                 400                    0.5                     40   \n",
       "5                 200                    0.5                     40   \n",
       "1                 100                    0.5                     40   \n",
       "6                 200                    0.5                     40   \n",
       "18                800                    0.5                     40   \n",
       "10                400                    0.5                     40   \n",
       "14                600                    0.5                     40   \n",
       "2                 100                    0.5                     40   \n",
       "11                400                    0.5                     40   \n",
       "3                 100                    0.5                     40   \n",
       "15                600                    0.5                     40   \n",
       "7                 200                    0.5                     40   \n",
       "19                800                    0.5                     40   \n",
       "\n",
       "               Функция      Время  Время/Кол-во вершин  \n",
       "0         Bellman_Ford   0.008105             0.000081  \n",
       "16        Bellman_Ford   0.029081             0.000036  \n",
       "4         Bellman_Ford   0.010410             0.000052  \n",
       "12        Bellman_Ford   0.033328             0.000056  \n",
       "8         Bellman_Ford   0.015010             0.000038  \n",
       "17   Bellman_Ford_mult  14.625512             0.018282  \n",
       "13   Bellman_Ford_mult   8.156523             0.013594  \n",
       "9    Bellman_Ford_mult   3.996495             0.009991  \n",
       "5    Bellman_Ford_mult   0.923298             0.004616  \n",
       "1    Bellman_Ford_mult   0.250086             0.002501  \n",
       "6       Floyd_Warshall   1.999903             0.010000  \n",
       "18      Floyd_Warshall  35.789515             0.044737  \n",
       "10      Floyd_Warshall  10.185516             0.025464  \n",
       "14      Floyd_Warshall  19.853137             0.033089  \n",
       "2       Floyd_Warshall   0.529372             0.005294  \n",
       "11  Transitive_Closure   7.868712             0.019672  \n",
       "3   Transitive_Closure   0.514162             0.005142  \n",
       "15  Transitive_Closure  18.466212             0.030777  \n",
       "7   Transitive_Closure   2.035421             0.010177  \n",
       "19  Transitive_Closure  30.802907             0.038504  "
      ]
     },
     "execution_count": 72,
     "metadata": {},
     "output_type": "execute_result"
    }
   ],
   "source": [
    "graphs_gen_metrics['Время/Кол-во вершин'] = graphs_gen_metrics['Время']/graphs_gen_metrics['Количество вершин']\n",
    "graphs_gen_metrics.sort_values('Функция')"
   ]
  },
  {
   "cell_type": "markdown",
   "id": "5ce82538",
   "metadata": {},
   "source": [
    "зависимость от разреженности графа"
   ]
  },
  {
   "cell_type": "code",
   "execution_count": null,
   "id": "12da5b95",
   "metadata": {},
   "outputs": [],
   "source": [
    "graphs_gen_metrics1 = pd.DataFrame(columns=['Количество вершин', 'Степень разреженности', 'Доля стартовых вершин, %', 'Функция', 'Время'])\n",
    "for i in [0.2, 0.5]:\n",
    "    num_vert, share_starts = 500, 50 # фиксированные число вершин и число стартовых вершин\n",
    "    generated_graph = generate_graph(num_vert, int(i * num_vert * (num_vert-1)))\n",
    "    num_vertices = generated_graph.shape[0]\n",
    "    num_edges = len(generated_graph.to_coo()[0])\n",
    "    rerefaction_deg = num_edges / (num_vertices * (num_vertices - 1))\n",
    "    \n",
    "    BF = test_Bellman_Ford(generated_graph, generation_start_vertices(num_vert, share_starts))\n",
    "    graphs_gen_metrics1.loc[len(graphs_gen_metrics1)] = num_vert, i, share_starts, 'Bellman_Ford', BF\n",
    "\n",
    "    BFM = test_Bellman_Ford_mult(generated_graph, generation_start_vertices(num_vert, share_starts))\n",
    "    graphs_gen_metrics1.loc[len(graphs_gen_metrics1)] = num_vert, i, share_starts, 'Bellman_Ford_mult', BFM\n",
    "\n",
    "    FM = test_Floyd_Warshall(generated_graph)\n",
    "    graphs_gen_metrics1.loc[len(graphs_gen_metrics1)] = num_vert, i, share_starts, 'Floyd_Warshall', FM\n",
    "    \n",
    "    TC = test_Transitive_Closure(generated_graph)\n",
    "    graphs_gen_metrics1.loc[len(graphs_gen_metrics1)] = num_vert, i, share_starts, 'Transitive_Closure', TC"
   ]
  },
  {
   "cell_type": "code",
   "execution_count": 84,
   "id": "f5f58524",
   "metadata": {},
   "outputs": [
    {
     "data": {
      "text/html": [
       "<div>\n",
       "<style scoped>\n",
       "    .dataframe tbody tr th:only-of-type {\n",
       "        vertical-align: middle;\n",
       "    }\n",
       "\n",
       "    .dataframe tbody tr th {\n",
       "        vertical-align: top;\n",
       "    }\n",
       "\n",
       "    .dataframe thead th {\n",
       "        text-align: right;\n",
       "    }\n",
       "</style>\n",
       "<table border=\"1\" class=\"dataframe\">\n",
       "  <thead>\n",
       "    <tr style=\"text-align: right;\">\n",
       "      <th></th>\n",
       "      <th>Степень разреженности</th>\n",
       "      <th>Количество вершин</th>\n",
       "      <th>Доля стартовых вершин, %</th>\n",
       "      <th>Функция</th>\n",
       "      <th>Время</th>\n",
       "    </tr>\n",
       "  </thead>\n",
       "  <tbody>\n",
       "    <tr>\n",
       "      <th>0</th>\n",
       "      <td>0.2</td>\n",
       "      <td>500</td>\n",
       "      <td>50</td>\n",
       "      <td>Bellman_Ford</td>\n",
       "      <td>0.019607</td>\n",
       "    </tr>\n",
       "    <tr>\n",
       "      <th>4</th>\n",
       "      <td>0.5</td>\n",
       "      <td>500</td>\n",
       "      <td>50</td>\n",
       "      <td>Bellman_Ford</td>\n",
       "      <td>0.020782</td>\n",
       "    </tr>\n",
       "    <tr>\n",
       "      <th>1</th>\n",
       "      <td>0.2</td>\n",
       "      <td>500</td>\n",
       "      <td>50</td>\n",
       "      <td>Bellman_Ford_mult</td>\n",
       "      <td>7.156956</td>\n",
       "    </tr>\n",
       "    <tr>\n",
       "      <th>5</th>\n",
       "      <td>0.5</td>\n",
       "      <td>500</td>\n",
       "      <td>50</td>\n",
       "      <td>Bellman_Ford_mult</td>\n",
       "      <td>7.762369</td>\n",
       "    </tr>\n",
       "    <tr>\n",
       "      <th>2</th>\n",
       "      <td>0.2</td>\n",
       "      <td>500</td>\n",
       "      <td>50</td>\n",
       "      <td>Floyd_Warshall</td>\n",
       "      <td>15.938568</td>\n",
       "    </tr>\n",
       "    <tr>\n",
       "      <th>6</th>\n",
       "      <td>0.5</td>\n",
       "      <td>500</td>\n",
       "      <td>50</td>\n",
       "      <td>Floyd_Warshall</td>\n",
       "      <td>14.600273</td>\n",
       "    </tr>\n",
       "    <tr>\n",
       "      <th>3</th>\n",
       "      <td>0.2</td>\n",
       "      <td>500</td>\n",
       "      <td>50</td>\n",
       "      <td>Transitive_Closure</td>\n",
       "      <td>14.195359</td>\n",
       "    </tr>\n",
       "    <tr>\n",
       "      <th>7</th>\n",
       "      <td>0.5</td>\n",
       "      <td>500</td>\n",
       "      <td>50</td>\n",
       "      <td>Transitive_Closure</td>\n",
       "      <td>14.393728</td>\n",
       "    </tr>\n",
       "  </tbody>\n",
       "</table>\n",
       "</div>"
      ],
      "text/plain": [
       "   Степень разреженности  Количество вершин  Доля стартовых вершин, %  \\\n",
       "0                    0.2                500                        50   \n",
       "4                    0.5                500                        50   \n",
       "1                    0.2                500                        50   \n",
       "5                    0.5                500                        50   \n",
       "2                    0.2                500                        50   \n",
       "6                    0.5                500                        50   \n",
       "3                    0.2                500                        50   \n",
       "7                    0.5                500                        50   \n",
       "\n",
       "              Функция      Время  \n",
       "0        Bellman_Ford   0.019607  \n",
       "4        Bellman_Ford   0.020782  \n",
       "1   Bellman_Ford_mult   7.156956  \n",
       "5   Bellman_Ford_mult   7.762369  \n",
       "2      Floyd_Warshall  15.938568  \n",
       "6      Floyd_Warshall  14.600273  \n",
       "3  Transitive_Closure  14.195359  \n",
       "7  Transitive_Closure  14.393728  "
      ]
     },
     "execution_count": 84,
     "metadata": {},
     "output_type": "execute_result"
    }
   ],
   "source": [
    "graphs_gen_metrics1.sort_values('Функция')"
   ]
  },
  {
   "cell_type": "markdown",
   "id": "1d8fc9e1",
   "metadata": {},
   "source": [
    "Зависимость от числа стартовых вершин"
   ]
  },
  {
   "cell_type": "code",
   "execution_count": 85,
   "id": "d891c46c",
   "metadata": {},
   "outputs": [],
   "source": [
    "graphs_gen_metrics2 = pd.DataFrame(columns=['Количество вершин', 'Степень разреженности', 'Доля стартовых вершин', 'Функция', 'Время'])\n",
    "for i in [20, 40, 60, 80]:\n",
    "    num_vert, fix_raref_deg = 500, 0.5\n",
    "    generated_graph = generate_graph(num_vert, int(fix_raref_deg * num_vert * (num_vert-1)))\n",
    "    num_vertices = generated_graph.shape[0]\n",
    "    num_edges = len(generated_graph.to_coo()[0])\n",
    "    rerefaction_deg = num_edges / (num_vertices * (num_vertices - 1))\n",
    "\n",
    "    BF = test_Bellman_Ford(generated_graph, generation_start_vertices(num_vert, i))\n",
    "    graphs_gen_metrics2.loc[len(graphs_gen_metrics2)] = num_vert, fix_raref_deg, i, 'Bellman_Ford', BF\n",
    "\n",
    "    BFM = test_Bellman_Ford_mult(generated_graph, generation_start_vertices(num_vert, i))\n",
    "    graphs_gen_metrics2.loc[len(graphs_gen_metrics2)] = num_vert, fix_raref_deg, i, 'Bellman_Ford_mult', BFM\n",
    "\n",
    "    FM = test_Floyd_Warshall(generated_graph)\n",
    "    graphs_gen_metrics2.loc[len(graphs_gen_metrics2)] = num_vert, fix_raref_deg, i, 'Floyd_Warshall', FM\n",
    "    \n",
    "    TC = test_Transitive_Closure(generated_graph)\n",
    "    graphs_gen_metrics2.loc[len(graphs_gen_metrics2)] = num_vert, fix_raref_deg, i, 'Transitive_Closure', TC"
   ]
  },
  {
   "cell_type": "code",
   "execution_count": 86,
   "id": "82cbbd20",
   "metadata": {},
   "outputs": [
    {
     "data": {
      "text/html": [
       "<div>\n",
       "<style scoped>\n",
       "    .dataframe tbody tr th:only-of-type {\n",
       "        vertical-align: middle;\n",
       "    }\n",
       "\n",
       "    .dataframe tbody tr th {\n",
       "        vertical-align: top;\n",
       "    }\n",
       "\n",
       "    .dataframe thead th {\n",
       "        text-align: right;\n",
       "    }\n",
       "</style>\n",
       "<table border=\"1\" class=\"dataframe\">\n",
       "  <thead>\n",
       "    <tr style=\"text-align: right;\">\n",
       "      <th></th>\n",
       "      <th>Количество вершин</th>\n",
       "      <th>Степень разреженности</th>\n",
       "      <th>Доля стартовых вершин</th>\n",
       "      <th>Функция</th>\n",
       "      <th>Время</th>\n",
       "    </tr>\n",
       "  </thead>\n",
       "  <tbody>\n",
       "    <tr>\n",
       "      <th>0</th>\n",
       "      <td>500</td>\n",
       "      <td>0.5</td>\n",
       "      <td>20</td>\n",
       "      <td>Bellman_Ford</td>\n",
       "      <td>0.029635</td>\n",
       "    </tr>\n",
       "    <tr>\n",
       "      <th>4</th>\n",
       "      <td>500</td>\n",
       "      <td>0.5</td>\n",
       "      <td>40</td>\n",
       "      <td>Bellman_Ford</td>\n",
       "      <td>0.037478</td>\n",
       "    </tr>\n",
       "    <tr>\n",
       "      <th>8</th>\n",
       "      <td>500</td>\n",
       "      <td>0.5</td>\n",
       "      <td>60</td>\n",
       "      <td>Bellman_Ford</td>\n",
       "      <td>0.018217</td>\n",
       "    </tr>\n",
       "    <tr>\n",
       "      <th>12</th>\n",
       "      <td>500</td>\n",
       "      <td>0.5</td>\n",
       "      <td>80</td>\n",
       "      <td>Bellman_Ford</td>\n",
       "      <td>0.018428</td>\n",
       "    </tr>\n",
       "    <tr>\n",
       "      <th>1</th>\n",
       "      <td>500</td>\n",
       "      <td>0.5</td>\n",
       "      <td>20</td>\n",
       "      <td>Bellman_Ford_mult</td>\n",
       "      <td>3.004797</td>\n",
       "    </tr>\n",
       "    <tr>\n",
       "      <th>5</th>\n",
       "      <td>500</td>\n",
       "      <td>0.5</td>\n",
       "      <td>40</td>\n",
       "      <td>Bellman_Ford_mult</td>\n",
       "      <td>5.865424</td>\n",
       "    </tr>\n",
       "    <tr>\n",
       "      <th>9</th>\n",
       "      <td>500</td>\n",
       "      <td>0.5</td>\n",
       "      <td>60</td>\n",
       "      <td>Bellman_Ford_mult</td>\n",
       "      <td>10.249669</td>\n",
       "    </tr>\n",
       "    <tr>\n",
       "      <th>13</th>\n",
       "      <td>500</td>\n",
       "      <td>0.5</td>\n",
       "      <td>80</td>\n",
       "      <td>Bellman_Ford_mult</td>\n",
       "      <td>11.658597</td>\n",
       "    </tr>\n",
       "    <tr>\n",
       "      <th>2</th>\n",
       "      <td>500</td>\n",
       "      <td>0.5</td>\n",
       "      <td>20</td>\n",
       "      <td>Floyd_Warshall</td>\n",
       "      <td>13.286887</td>\n",
       "    </tr>\n",
       "    <tr>\n",
       "      <th>6</th>\n",
       "      <td>500</td>\n",
       "      <td>0.5</td>\n",
       "      <td>40</td>\n",
       "      <td>Floyd_Warshall</td>\n",
       "      <td>14.354876</td>\n",
       "    </tr>\n",
       "    <tr>\n",
       "      <th>10</th>\n",
       "      <td>500</td>\n",
       "      <td>0.5</td>\n",
       "      <td>60</td>\n",
       "      <td>Floyd_Warshall</td>\n",
       "      <td>15.147627</td>\n",
       "    </tr>\n",
       "    <tr>\n",
       "      <th>14</th>\n",
       "      <td>500</td>\n",
       "      <td>0.5</td>\n",
       "      <td>80</td>\n",
       "      <td>Floyd_Warshall</td>\n",
       "      <td>15.445088</td>\n",
       "    </tr>\n",
       "    <tr>\n",
       "      <th>3</th>\n",
       "      <td>500</td>\n",
       "      <td>0.5</td>\n",
       "      <td>20</td>\n",
       "      <td>Transitive_Closure</td>\n",
       "      <td>12.668844</td>\n",
       "    </tr>\n",
       "    <tr>\n",
       "      <th>7</th>\n",
       "      <td>500</td>\n",
       "      <td>0.5</td>\n",
       "      <td>40</td>\n",
       "      <td>Transitive_Closure</td>\n",
       "      <td>15.777685</td>\n",
       "    </tr>\n",
       "    <tr>\n",
       "      <th>11</th>\n",
       "      <td>500</td>\n",
       "      <td>0.5</td>\n",
       "      <td>60</td>\n",
       "      <td>Transitive_Closure</td>\n",
       "      <td>13.550955</td>\n",
       "    </tr>\n",
       "    <tr>\n",
       "      <th>15</th>\n",
       "      <td>500</td>\n",
       "      <td>0.5</td>\n",
       "      <td>80</td>\n",
       "      <td>Transitive_Closure</td>\n",
       "      <td>12.712135</td>\n",
       "    </tr>\n",
       "  </tbody>\n",
       "</table>\n",
       "</div>"
      ],
      "text/plain": [
       "    Количество вершин  Степень разреженности  Доля стартовых вершин  \\\n",
       "0                 500                    0.5                     20   \n",
       "4                 500                    0.5                     40   \n",
       "8                 500                    0.5                     60   \n",
       "12                500                    0.5                     80   \n",
       "1                 500                    0.5                     20   \n",
       "5                 500                    0.5                     40   \n",
       "9                 500                    0.5                     60   \n",
       "13                500                    0.5                     80   \n",
       "2                 500                    0.5                     20   \n",
       "6                 500                    0.5                     40   \n",
       "10                500                    0.5                     60   \n",
       "14                500                    0.5                     80   \n",
       "3                 500                    0.5                     20   \n",
       "7                 500                    0.5                     40   \n",
       "11                500                    0.5                     60   \n",
       "15                500                    0.5                     80   \n",
       "\n",
       "               Функция      Время  \n",
       "0         Bellman_Ford   0.029635  \n",
       "4         Bellman_Ford   0.037478  \n",
       "8         Bellman_Ford   0.018217  \n",
       "12        Bellman_Ford   0.018428  \n",
       "1    Bellman_Ford_mult   3.004797  \n",
       "5    Bellman_Ford_mult   5.865424  \n",
       "9    Bellman_Ford_mult  10.249669  \n",
       "13   Bellman_Ford_mult  11.658597  \n",
       "2       Floyd_Warshall  13.286887  \n",
       "6       Floyd_Warshall  14.354876  \n",
       "10      Floyd_Warshall  15.147627  \n",
       "14      Floyd_Warshall  15.445088  \n",
       "3   Transitive_Closure  12.668844  \n",
       "7   Transitive_Closure  15.777685  \n",
       "11  Transitive_Closure  13.550955  \n",
       "15  Transitive_Closure  12.712135  "
      ]
     },
     "execution_count": 86,
     "metadata": {},
     "output_type": "execute_result"
    }
   ],
   "source": [
    "graphs_gen_metrics2.sort_values('Функция')"
   ]
  },
  {
   "cell_type": "markdown",
   "id": "3f76f151",
   "metadata": {},
   "source": [
    "# Выводы:\n",
    "Тестирование на реальных графах показало, что на небольших графах классический алгоритм Bellman-Fold работает эффективнее модифицированного, однако на больших данных модифицированный алгоритм показывает более высокие результаты.\n",
    "\n",
    "В то же время, тестирование на случайно сгенерированных графах показало, что на малых графах (до 100 вершин) классический алгоритм работает эффективнее, независимо от количества стартовых вершин. Разреженность графа не оказывает существенного влияния на работу алгоритмов. Более того, даже если взять 100% вершин в качестве стартовых, модифицированный алгоритм все еще немного уступает классическому по времени выполнения.\n",
    "\n",
    "Начиная с доли вершин в графе равной 40-50%, целесообразнее использовать алгоритм поиска кратчайших путей для всех пар вершин (Floyd–Warshall или транзитивное замыкание), чем решать задачу поиска кратчайших путей из нескольких стартовых вершин (модифицированный Bellman-Ford). Это объясняется тем, что алгоритмы для всех пар вершин имеют более высокую асимптотическую сложность, но при большом количестве стартовых вершин они выполняются быстрее, чем модифицированный алгоритм Беллмана-Форда. В то же время, для меньших долей вершин, модифицированный алгоритм Беллмана-Форда показывает лучшие результаты, особенно при использовании нескольких стартовых вершин."
   ]
  },
  {
   "cell_type": "markdown",
   "id": "ac62b05f",
   "metadata": {},
   "source": [
    "# #6 Использование push/pull direction optimization"
   ]
  },
  {
   "cell_type": "code",
   "execution_count": 89,
   "id": "42a6a2a3",
   "metadata": {},
   "outputs": [],
   "source": [
    "def Bellman_Ford_push_pull(A, vertex, push_pull_percent=0.0):\n",
    "    n = A.nrows\n",
    "    v = Vector(dtypes.INT64, n)\n",
    "    v[vertex] << 0\n",
    "    w = v.dup()\n",
    "    \n",
    "    for _ in range(n - 1):\n",
    "        last_w = w.dup()\n",
    "        if push_pull_percent == 0.0:\n",
    "            w(binary.min) << w.vxm(A, semiring.min_plus)\n",
    "        elif push_pull_percent == 1.0:\n",
    "            w(binary.min) << A.T.mxv(w, semiring.min_plus)\n",
    "        else:\n",
    "            if w.nvals / w.size > push_pull_percent:\n",
    "                w(binary.min) << A.T.mxv(w, semiring.min_plus)\n",
    "            else:\n",
    "                w(binary.min) << w.vxm(A, semiring.min_plus)\n",
    "        if w.isequal(last_w):\n",
    "            break\n",
    "      \n",
    "    last_w = w.dup()\n",
    "    if push_pull_percent == 0.0:\n",
    "        w(binary.min) << w.vxm(A, semiring.min_plus)\n",
    "    elif push_pull_percent == 1.0:\n",
    "        w(binary.min) << A.T.mxv(w, semiring.min_plus)\n",
    "    else:\n",
    "        if w.nvals / w.size > push_pull_percent:\n",
    "            w(binary.min) << A.T.mxv(w, semiring.min_plus)\n",
    "        else:\n",
    "            w(binary.min) << w.vxm(A, semiring.min_plus)\n",
    "            \n",
    "    if not w.isequal(last_w):\n",
    "        return 'Присутсвует цикл отрицательного веса'\n",
    "\n",
    "    result = Vector(dtypes.FP64, n)\n",
    "    for i in range(n):\n",
    "        if w[i].value is None:\n",
    "            result[i] << float('inf')\n",
    "        else:\n",
    "            result[i] << w[i]\n",
    "    return result"
   ]
  },
  {
   "cell_type": "code",
   "execution_count": 90,
   "id": "645dfa32",
   "metadata": {},
   "outputs": [],
   "source": [
    "def Bellman_Ford_mult_push_pull(A, start_vertices, push_pull_percent=0.0):\n",
    "    n = A.ncols\n",
    "    number_of_start_vertex = len(start_vertices)\n",
    "    f = Matrix(dtypes.INT64, number_of_start_vertex, n)\n",
    "    for ind, val in enumerate(start_vertices):\n",
    "        f[ind, val] << 0\n",
    "    w = f.dup()\n",
    "    for _ in range(n - 1):\n",
    "        last_w = w.dup()\n",
    "        for i in range(number_of_start_vertex):\n",
    "            if push_pull_percent == 0.0:\n",
    "                w[i, :](binary.min) << w[i, :].vxm(A, semiring.min_plus)\n",
    "            elif push_pull_percent == 1.0:\n",
    "                w[i, :](binary.min) << A.T.mxv(w[i, :], semiring.min_plus)\n",
    "            else:\n",
    "                if w[i, :].nvals / w[i, :].size > push_pull_percent:\n",
    "                    w[i, :](binary.min) << A.T.mxv(w[i, :], semiring.min_plus)\n",
    "                else:\n",
    "                    w[i, :](binary.min) << w[i, :].vxm(A, semiring.min_plus)              \n",
    "        if w.isequal(last_w):\n",
    "            break\n",
    "\n",
    "    last_w = w.dup()\n",
    "    for i in range(number_of_start_vertex):\n",
    "        if push_pull_percent == 0.0:\n",
    "            w[i, :](binary.min) << w[i, :].vxm(A, semiring.min_plus)\n",
    "        elif push_pull_percent == 1.0:\n",
    "            w[i, :](binary.min) << A.T.mxv(w[i, :], semiring.min_plus)\n",
    "        else:\n",
    "            if w[i, :].nvals / w[i, :].size > push_pull_percent:\n",
    "                w[i, :](binary.min) << A.T.mxv(w[i, :], semiring.min_plus)\n",
    "            else:\n",
    "                w[i, :](binary.min) << w[i, :].vxm(A, semiring.min_plus)              \n",
    "    if not w.isequal(last_w):\n",
    "        return 'Присутсвует цикл отрицательного веса'\n",
    "\n",
    "    result = Matrix(dtypes.FP64, number_of_start_vertex, n)\n",
    "    for i in range(number_of_start_vertex):\n",
    "        for j in range(n):\n",
    "            if w[i,j].value is None:\n",
    "                result[i,j] << float('inf')\n",
    "            else:\n",
    "                result[i,j] << w[i,j]\n",
    "    return result"
   ]
  },
  {
   "cell_type": "code",
   "execution_count": 91,
   "id": "4a0f02f2",
   "metadata": {},
   "outputs": [],
   "source": [
    "def test_Bellman_Ford_push_pull(A, vertex, i):\n",
    "    start = time.time()\n",
    "    Bellman_Ford_push_pull(A, vertex, i)\n",
    "    end = time.time()\n",
    "    working_time = (end-start)\n",
    "    return working_time\n",
    "\n",
    "def test_Bellman_Ford_mult_push_pull(A, vertices, i):\n",
    "    start = time.time()\n",
    "    Bellman_Ford_mult_push_pull(A, vertices, i)\n",
    "    end = time.time()\n",
    "    working_time = (end-start)\n",
    "    return working_time"
   ]
  },
  {
   "cell_type": "markdown",
   "id": "c8fcb63b",
   "metadata": {},
   "source": [
    "## Bellman-Ford push/pull"
   ]
  },
  {
   "cell_type": "code",
   "execution_count": 126,
   "id": "64c2b227",
   "metadata": {},
   "outputs": [],
   "source": [
    "resume = pd.DataFrame(columns=['Количество вершин', 'Степень разреженности', 'Количество стартовых вершин', 'Уровень push/pull', 'Время'])\n",
    "count_vertices = [400, 600, 1000, 2000, 3000, 5000]\n",
    "densityes = [0.1, 0.3, 0.6, 0.7, 0.8, 0.9, 1]\n",
    "\n",
    "for count_vertice in count_vertices:\n",
    "    for density in densityes:\n",
    "        graph = generate_graph(count_vertice, density)\n",
    "        for i in [0.0, 0.1, 0.3, 0.5, 0.7, 1.0]:\n",
    "            work_time = test_Bellman_Ford_push_pull(graph, range(0,int(count_vertice*0.1)), i)\n",
    "            resume.loc[len(resume)] = count_vertice, density, int(count_vertice*0.1), i, work_time\n"
   ]
  },
  {
   "cell_type": "code",
   "execution_count": 127,
   "id": "2883feaa",
   "metadata": {},
   "outputs": [
    {
     "data": {
      "text/html": [
       "<div>\n",
       "<style scoped>\n",
       "    .dataframe tbody tr th:only-of-type {\n",
       "        vertical-align: middle;\n",
       "    }\n",
       "\n",
       "    .dataframe tbody tr th {\n",
       "        vertical-align: top;\n",
       "    }\n",
       "\n",
       "    .dataframe thead th {\n",
       "        text-align: right;\n",
       "    }\n",
       "</style>\n",
       "<table border=\"1\" class=\"dataframe\">\n",
       "  <thead>\n",
       "    <tr style=\"text-align: right;\">\n",
       "      <th></th>\n",
       "      <th>Количество вершин</th>\n",
       "      <th>Степень разреженности</th>\n",
       "      <th>Количество стартовых вершин</th>\n",
       "      <th>Уровень push/pull</th>\n",
       "      <th>Время</th>\n",
       "    </tr>\n",
       "  </thead>\n",
       "  <tbody>\n",
       "    <tr>\n",
       "      <th>0</th>\n",
       "      <td>400.0</td>\n",
       "      <td>0.1</td>\n",
       "      <td>40.0</td>\n",
       "      <td>0.0</td>\n",
       "      <td>0.013108</td>\n",
       "    </tr>\n",
       "    <tr>\n",
       "      <th>1</th>\n",
       "      <td>400.0</td>\n",
       "      <td>0.1</td>\n",
       "      <td>40.0</td>\n",
       "      <td>0.1</td>\n",
       "      <td>0.019651</td>\n",
       "    </tr>\n",
       "    <tr>\n",
       "      <th>2</th>\n",
       "      <td>400.0</td>\n",
       "      <td>0.1</td>\n",
       "      <td>40.0</td>\n",
       "      <td>0.3</td>\n",
       "      <td>0.005203</td>\n",
       "    </tr>\n",
       "    <tr>\n",
       "      <th>3</th>\n",
       "      <td>400.0</td>\n",
       "      <td>0.1</td>\n",
       "      <td>40.0</td>\n",
       "      <td>0.5</td>\n",
       "      <td>0.020045</td>\n",
       "    </tr>\n",
       "    <tr>\n",
       "      <th>4</th>\n",
       "      <td>400.0</td>\n",
       "      <td>0.1</td>\n",
       "      <td>40.0</td>\n",
       "      <td>0.7</td>\n",
       "      <td>0.011795</td>\n",
       "    </tr>\n",
       "    <tr>\n",
       "      <th>...</th>\n",
       "      <td>...</td>\n",
       "      <td>...</td>\n",
       "      <td>...</td>\n",
       "      <td>...</td>\n",
       "      <td>...</td>\n",
       "    </tr>\n",
       "    <tr>\n",
       "      <th>247</th>\n",
       "      <td>5000.0</td>\n",
       "      <td>1.0</td>\n",
       "      <td>500.0</td>\n",
       "      <td>0.1</td>\n",
       "      <td>0.175691</td>\n",
       "    </tr>\n",
       "    <tr>\n",
       "      <th>248</th>\n",
       "      <td>5000.0</td>\n",
       "      <td>1.0</td>\n",
       "      <td>500.0</td>\n",
       "      <td>0.3</td>\n",
       "      <td>0.189024</td>\n",
       "    </tr>\n",
       "    <tr>\n",
       "      <th>249</th>\n",
       "      <td>5000.0</td>\n",
       "      <td>1.0</td>\n",
       "      <td>500.0</td>\n",
       "      <td>0.5</td>\n",
       "      <td>0.156520</td>\n",
       "    </tr>\n",
       "    <tr>\n",
       "      <th>250</th>\n",
       "      <td>5000.0</td>\n",
       "      <td>1.0</td>\n",
       "      <td>500.0</td>\n",
       "      <td>0.7</td>\n",
       "      <td>0.149661</td>\n",
       "    </tr>\n",
       "    <tr>\n",
       "      <th>251</th>\n",
       "      <td>5000.0</td>\n",
       "      <td>1.0</td>\n",
       "      <td>500.0</td>\n",
       "      <td>1.0</td>\n",
       "      <td>0.158787</td>\n",
       "    </tr>\n",
       "  </tbody>\n",
       "</table>\n",
       "<p>252 rows × 5 columns</p>\n",
       "</div>"
      ],
      "text/plain": [
       "     Количество вершин  Степень разреженности  Количество стартовых вершин  \\\n",
       "0                400.0                    0.1                         40.0   \n",
       "1                400.0                    0.1                         40.0   \n",
       "2                400.0                    0.1                         40.0   \n",
       "3                400.0                    0.1                         40.0   \n",
       "4                400.0                    0.1                         40.0   \n",
       "..                 ...                    ...                          ...   \n",
       "247             5000.0                    1.0                        500.0   \n",
       "248             5000.0                    1.0                        500.0   \n",
       "249             5000.0                    1.0                        500.0   \n",
       "250             5000.0                    1.0                        500.0   \n",
       "251             5000.0                    1.0                        500.0   \n",
       "\n",
       "     Уровень push/pull     Время  \n",
       "0                  0.0  0.013108  \n",
       "1                  0.1  0.019651  \n",
       "2                  0.3  0.005203  \n",
       "3                  0.5  0.020045  \n",
       "4                  0.7  0.011795  \n",
       "..                 ...       ...  \n",
       "247                0.1  0.175691  \n",
       "248                0.3  0.189024  \n",
       "249                0.5  0.156520  \n",
       "250                0.7  0.149661  \n",
       "251                1.0  0.158787  \n",
       "\n",
       "[252 rows x 5 columns]"
      ]
     },
     "execution_count": 127,
     "metadata": {},
     "output_type": "execute_result"
    }
   ],
   "source": [
    "resume"
   ]
  },
  {
   "cell_type": "code",
   "execution_count": 128,
   "id": "2dc42d49",
   "metadata": {},
   "outputs": [
    {
     "data": {
      "application/vnd.plotly.v1+json": {
       "config": {
        "plotlyServerURL": "https://plot.ly"
       },
       "data": [
        {
         "hovertemplate": "Количество вершин=%{x}<br>Время=%{y}<br>Уровень push/pull=%{marker.color}<extra></extra>",
         "legendgroup": "",
         "marker": {
          "color": [
           0,
           0.1,
           0.3,
           0.5,
           0.7,
           1,
           0,
           0.1,
           0.3,
           0.5,
           0.7,
           1,
           0,
           0.1,
           0.3,
           0.5,
           0.7,
           1,
           0,
           0.1,
           0.3,
           0.5,
           0.7,
           1,
           0,
           0.1,
           0.3,
           0.5,
           0.7,
           1,
           0,
           0.1,
           0.3,
           0.5,
           0.7,
           1,
           0,
           0.1,
           0.3,
           0.5,
           0.7,
           1,
           0,
           0.1,
           0.3,
           0.5,
           0.7,
           1,
           0,
           0.1,
           0.3,
           0.5,
           0.7,
           1,
           0,
           0.1,
           0.3,
           0.5,
           0.7,
           1,
           0,
           0.1,
           0.3,
           0.5,
           0.7,
           1,
           0,
           0.1,
           0.3,
           0.5,
           0.7,
           1,
           0,
           0.1,
           0.3,
           0.5,
           0.7,
           1,
           0,
           0.1,
           0.3,
           0.5,
           0.7,
           1,
           0,
           0.1,
           0.3,
           0.5,
           0.7,
           1,
           0,
           0.1,
           0.3,
           0.5,
           0.7,
           1,
           0,
           0.1,
           0.3,
           0.5,
           0.7,
           1,
           0,
           0.1,
           0.3,
           0.5,
           0.7,
           1,
           0,
           0.1,
           0.3,
           0.5,
           0.7,
           1,
           0,
           0.1,
           0.3,
           0.5,
           0.7,
           1,
           0,
           0.1,
           0.3,
           0.5,
           0.7,
           1,
           0,
           0.1,
           0.3,
           0.5,
           0.7,
           1,
           0,
           0.1,
           0.3,
           0.5,
           0.7,
           1,
           0,
           0.1,
           0.3,
           0.5,
           0.7,
           1,
           0,
           0.1,
           0.3,
           0.5,
           0.7,
           1,
           0,
           0.1,
           0.3,
           0.5,
           0.7,
           1,
           0,
           0.1,
           0.3,
           0.5,
           0.7,
           1,
           0,
           0.1,
           0.3,
           0.5,
           0.7,
           1,
           0,
           0.1,
           0.3,
           0.5,
           0.7,
           1,
           0,
           0.1,
           0.3,
           0.5,
           0.7,
           1,
           0,
           0.1,
           0.3,
           0.5,
           0.7,
           1,
           0,
           0.1,
           0.3,
           0.5,
           0.7,
           1,
           0,
           0.1,
           0.3,
           0.5,
           0.7,
           1,
           0,
           0.1,
           0.3,
           0.5,
           0.7,
           1,
           0,
           0.1,
           0.3,
           0.5,
           0.7,
           1,
           0,
           0.1,
           0.3,
           0.5,
           0.7,
           1,
           0,
           0.1,
           0.3,
           0.5,
           0.7,
           1,
           0,
           0.1,
           0.3,
           0.5,
           0.7,
           1,
           0,
           0.1,
           0.3,
           0.5,
           0.7,
           1,
           0,
           0.1,
           0.3,
           0.5,
           0.7,
           1,
           0,
           0.1,
           0.3,
           0.5,
           0.7,
           1,
           0,
           0.1,
           0.3,
           0.5,
           0.7,
           1
          ],
          "coloraxis": "coloraxis",
          "symbol": "circle"
         },
         "mode": "markers",
         "name": "",
         "orientation": "v",
         "showlegend": false,
         "type": "scatter",
         "x": [
          400,
          400,
          400,
          400,
          400,
          400,
          400,
          400,
          400,
          400,
          400,
          400,
          400,
          400,
          400,
          400,
          400,
          400,
          400,
          400,
          400,
          400,
          400,
          400,
          400,
          400,
          400,
          400,
          400,
          400,
          400,
          400,
          400,
          400,
          400,
          400,
          400,
          400,
          400,
          400,
          400,
          400,
          600,
          600,
          600,
          600,
          600,
          600,
          600,
          600,
          600,
          600,
          600,
          600,
          600,
          600,
          600,
          600,
          600,
          600,
          600,
          600,
          600,
          600,
          600,
          600,
          600,
          600,
          600,
          600,
          600,
          600,
          600,
          600,
          600,
          600,
          600,
          600,
          600,
          600,
          600,
          600,
          600,
          600,
          1000,
          1000,
          1000,
          1000,
          1000,
          1000,
          1000,
          1000,
          1000,
          1000,
          1000,
          1000,
          1000,
          1000,
          1000,
          1000,
          1000,
          1000,
          1000,
          1000,
          1000,
          1000,
          1000,
          1000,
          1000,
          1000,
          1000,
          1000,
          1000,
          1000,
          1000,
          1000,
          1000,
          1000,
          1000,
          1000,
          1000,
          1000,
          1000,
          1000,
          1000,
          1000,
          2000,
          2000,
          2000,
          2000,
          2000,
          2000,
          2000,
          2000,
          2000,
          2000,
          2000,
          2000,
          2000,
          2000,
          2000,
          2000,
          2000,
          2000,
          2000,
          2000,
          2000,
          2000,
          2000,
          2000,
          2000,
          2000,
          2000,
          2000,
          2000,
          2000,
          2000,
          2000,
          2000,
          2000,
          2000,
          2000,
          2000,
          2000,
          2000,
          2000,
          2000,
          2000,
          3000,
          3000,
          3000,
          3000,
          3000,
          3000,
          3000,
          3000,
          3000,
          3000,
          3000,
          3000,
          3000,
          3000,
          3000,
          3000,
          3000,
          3000,
          3000,
          3000,
          3000,
          3000,
          3000,
          3000,
          3000,
          3000,
          3000,
          3000,
          3000,
          3000,
          3000,
          3000,
          3000,
          3000,
          3000,
          3000,
          3000,
          3000,
          3000,
          3000,
          3000,
          3000,
          5000,
          5000,
          5000,
          5000,
          5000,
          5000,
          5000,
          5000,
          5000,
          5000,
          5000,
          5000,
          5000,
          5000,
          5000,
          5000,
          5000,
          5000,
          5000,
          5000,
          5000,
          5000,
          5000,
          5000,
          5000,
          5000,
          5000,
          5000,
          5000,
          5000,
          5000,
          5000,
          5000,
          5000,
          5000,
          5000,
          5000,
          5000,
          5000,
          5000,
          5000,
          5000
         ],
         "xaxis": "x",
         "y": [
          0.013108253479003906,
          0.019651174545288086,
          0.0052032470703125,
          0.020044803619384766,
          0.011794567108154297,
          0.01533961296081543,
          0.010998249053955078,
          0.005231380462646484,
          0.013522863388061523,
          0.0199735164642334,
          0.01220846176147461,
          0.0018422603607177734,
          0.014668464660644531,
          0.02070474624633789,
          0.016780376434326172,
          0.015784740447998047,
          0.017148971557617188,
          0.016467809677124023,
          0.01464986801147461,
          0.017077922821044922,
          0.016749143600463867,
          0.0180203914642334,
          0.01486825942993164,
          0.007888317108154297,
          0.01567554473876953,
          0,
          0.0164947509765625,
          0.021196842193603516,
          0.011833906173706055,
          0,
          0.016866445541381836,
          0.02310323715209961,
          0.012906789779663086,
          0.013106107711791992,
          0,
          0.02647686004638672,
          0.005789279937744141,
          0.0193784236907959,
          0.012174844741821289,
          0.003647327423095703,
          0.020566225051879883,
          0.0072247982025146484,
          0.021178245544433594,
          0.026317596435546875,
          0.02344512939453125,
          0.023049116134643555,
          0.0344846248626709,
          0.011700630187988281,
          0.030682802200317383,
          0.02238178253173828,
          0.009212732315063477,
          0.02644062042236328,
          0.02178955078125,
          0.009886980056762695,
          0.016808509826660156,
          0.015695571899414062,
          0.019730091094970703,
          0.031270742416381836,
          0.024037599563598633,
          0.01985645294189453,
          0.019523143768310547,
          0.036833763122558594,
          0.021642684936523438,
          0.024604082107543945,
          0.02177882194519043,
          0.026746034622192383,
          0.027465343475341797,
          0.022432804107666016,
          0.01163625717163086,
          0.024646282196044922,
          0.017993688583374023,
          0.018102407455444336,
          0.022286415100097656,
          0.013023614883422852,
          0.01566791534423828,
          0.03127241134643555,
          0.021069765090942383,
          0.017325878143310547,
          0.014580249786376953,
          0.004820823669433594,
          0.031331539154052734,
          0.01562047004699707,
          0.020910263061523438,
          0.014002799987792969,
          0.046875953674316406,
          0.03132319450378418,
          0.018241167068481445,
          0.03134799003601074,
          0.031241655349731445,
          0.03988504409790039,
          0.015695810317993164,
          0.031222820281982422,
          0.03127789497375488,
          0.04007434844970703,
          0.022544384002685547,
          0.030649185180664062,
          0.022318124771118164,
          0.03050684928894043,
          0.030544281005859375,
          0.03708648681640625,
          0.023421049118041992,
          0.030717849731445312,
          0.030783891677856445,
          0.030586957931518555,
          0.030585289001464844,
          0.0307462215423584,
          0.030704259872436523,
          0.026880264282226562,
          0.03263425827026367,
          0.0307466983795166,
          0.030656814575195312,
          0.030575990676879883,
          0.028403043746948242,
          0.028409957885742188,
          0.030479907989501953,
          0.022470474243164062,
          0.022466421127319336,
          0.03040003776550293,
          0.030709505081176758,
          0.02256917953491211,
          0.028609514236450195,
          0.024676799774169922,
          0.030838966369628906,
          0.030648231506347656,
          0.04091382026672363,
          0.0505223274230957,
          0.061156272888183594,
          0.05305910110473633,
          0.06087994575500488,
          0.06170773506164551,
          0.059152841567993164,
          0.05282902717590332,
          0.06131172180175781,
          0.05984830856323242,
          0.052324771881103516,
          0.06130337715148926,
          0.059249162673950195,
          0.07766294479370117,
          0.0856180191040039,
          0.06523346900939941,
          0.06527066230773926,
          0.07118439674377441,
          0.07992696762084961,
          0.0840003490447998,
          0.08342361450195312,
          0.07731080055236816,
          0.0709376335144043,
          0.2543222904205322,
          0.17484664916992188,
          0.08324050903320312,
          0.08162927627563477,
          0.08295583724975586,
          0.07610273361206055,
          0.0671689510345459,
          0.06611800193786621,
          0.07978940010070801,
          0.0766298770904541,
          0.08326554298400879,
          0.0666968822479248,
          0.08285021781921387,
          0.06699681282043457,
          0.08134293556213379,
          0.0698394775390625,
          0.06655144691467285,
          0.08390164375305176,
          0.0843956470489502,
          0.06635761260986328,
          0.08478760719299316,
          0.12296605110168457,
          0.13329029083251953,
          0.1158905029296875,
          0.11657285690307617,
          0.10975217819213867,
          0.09254693984985352,
          0.07680082321166992,
          0.08645224571228027,
          0.10236525535583496,
          0.09893441200256348,
          0.0951082706451416,
          0.0968482494354248,
          0.09183168411254883,
          0.08711981773376465,
          0.07175731658935547,
          0.10302114486694336,
          0.11490416526794434,
          0.11954712867736816,
          0.1149749755859375,
          0.11670231819152832,
          0.10363388061523438,
          0.10479450225830078,
          0.0923914909362793,
          0.10058999061584473,
          0.10151982307434082,
          0.11395978927612305,
          0.10095334053039551,
          0.09681224822998047,
          0.09887051582336426,
          0.10296487808227539,
          0.10140585899353027,
          0.09105443954467773,
          0.07807779312133789,
          0.08420467376708984,
          0.10020923614501953,
          0.08682012557983398,
          0.1233527660369873,
          0.08186912536621094,
          0.08375263214111328,
          0.08968663215637207,
          0.08132767677307129,
          0.09121966361999512,
          0.14311981201171875,
          0.1447739601135254,
          0.14081311225891113,
          0.14252710342407227,
          0.14223456382751465,
          0.14284682273864746,
          0.14284038543701172,
          0.1507272720336914,
          0.1524512767791748,
          0.13150954246520996,
          0.15266919136047363,
          0.1430201530456543,
          0.14296483993530273,
          0.1423940658569336,
          0.14277267456054688,
          0.15343451499938965,
          0.14322566986083984,
          0.1434614658355713,
          0.20462965965270996,
          0.1425774097442627,
          0.14250993728637695,
          0.1351463794708252,
          0.16084957122802734,
          0.17368507385253906,
          0.2167370319366455,
          0.2131972312927246,
          0.18850159645080566,
          0.14381766319274902,
          0.15715265274047852,
          0.13071060180664062,
          0.14679956436157227,
          0.16605854034423828,
          0.1714644432067871,
          0.17245078086853027,
          0.18303632736206055,
          0.1997852325439453,
          0.1832265853881836,
          0.1756906509399414,
          0.1890242099761963,
          0.15652036666870117,
          0.14966058731079102,
          0.15878748893737793
         ],
         "yaxis": "y"
        }
       ],
       "layout": {
        "coloraxis": {
         "colorbar": {
          "title": {
           "text": "Уровень push/pull"
          }
         },
         "colorscale": [
          [
           0,
           "#0d0887"
          ],
          [
           0.1111111111111111,
           "#46039f"
          ],
          [
           0.2222222222222222,
           "#7201a8"
          ],
          [
           0.3333333333333333,
           "#9c179e"
          ],
          [
           0.4444444444444444,
           "#bd3786"
          ],
          [
           0.5555555555555556,
           "#d8576b"
          ],
          [
           0.6666666666666666,
           "#ed7953"
          ],
          [
           0.7777777777777778,
           "#fb9f3a"
          ],
          [
           0.8888888888888888,
           "#fdca26"
          ],
          [
           1,
           "#f0f921"
          ]
         ]
        },
        "legend": {
         "tracegroupgap": 0
        },
        "margin": {
         "t": 60
        },
        "template": {
         "data": {
          "bar": [
           {
            "error_x": {
             "color": "#2a3f5f"
            },
            "error_y": {
             "color": "#2a3f5f"
            },
            "marker": {
             "line": {
              "color": "#E5ECF6",
              "width": 0.5
             },
             "pattern": {
              "fillmode": "overlay",
              "size": 10,
              "solidity": 0.2
             }
            },
            "type": "bar"
           }
          ],
          "barpolar": [
           {
            "marker": {
             "line": {
              "color": "#E5ECF6",
              "width": 0.5
             },
             "pattern": {
              "fillmode": "overlay",
              "size": 10,
              "solidity": 0.2
             }
            },
            "type": "barpolar"
           }
          ],
          "carpet": [
           {
            "aaxis": {
             "endlinecolor": "#2a3f5f",
             "gridcolor": "white",
             "linecolor": "white",
             "minorgridcolor": "white",
             "startlinecolor": "#2a3f5f"
            },
            "baxis": {
             "endlinecolor": "#2a3f5f",
             "gridcolor": "white",
             "linecolor": "white",
             "minorgridcolor": "white",
             "startlinecolor": "#2a3f5f"
            },
            "type": "carpet"
           }
          ],
          "choropleth": [
           {
            "colorbar": {
             "outlinewidth": 0,
             "ticks": ""
            },
            "type": "choropleth"
           }
          ],
          "contour": [
           {
            "colorbar": {
             "outlinewidth": 0,
             "ticks": ""
            },
            "colorscale": [
             [
              0,
              "#0d0887"
             ],
             [
              0.1111111111111111,
              "#46039f"
             ],
             [
              0.2222222222222222,
              "#7201a8"
             ],
             [
              0.3333333333333333,
              "#9c179e"
             ],
             [
              0.4444444444444444,
              "#bd3786"
             ],
             [
              0.5555555555555556,
              "#d8576b"
             ],
             [
              0.6666666666666666,
              "#ed7953"
             ],
             [
              0.7777777777777778,
              "#fb9f3a"
             ],
             [
              0.8888888888888888,
              "#fdca26"
             ],
             [
              1,
              "#f0f921"
             ]
            ],
            "type": "contour"
           }
          ],
          "contourcarpet": [
           {
            "colorbar": {
             "outlinewidth": 0,
             "ticks": ""
            },
            "type": "contourcarpet"
           }
          ],
          "heatmap": [
           {
            "colorbar": {
             "outlinewidth": 0,
             "ticks": ""
            },
            "colorscale": [
             [
              0,
              "#0d0887"
             ],
             [
              0.1111111111111111,
              "#46039f"
             ],
             [
              0.2222222222222222,
              "#7201a8"
             ],
             [
              0.3333333333333333,
              "#9c179e"
             ],
             [
              0.4444444444444444,
              "#bd3786"
             ],
             [
              0.5555555555555556,
              "#d8576b"
             ],
             [
              0.6666666666666666,
              "#ed7953"
             ],
             [
              0.7777777777777778,
              "#fb9f3a"
             ],
             [
              0.8888888888888888,
              "#fdca26"
             ],
             [
              1,
              "#f0f921"
             ]
            ],
            "type": "heatmap"
           }
          ],
          "heatmapgl": [
           {
            "colorbar": {
             "outlinewidth": 0,
             "ticks": ""
            },
            "colorscale": [
             [
              0,
              "#0d0887"
             ],
             [
              0.1111111111111111,
              "#46039f"
             ],
             [
              0.2222222222222222,
              "#7201a8"
             ],
             [
              0.3333333333333333,
              "#9c179e"
             ],
             [
              0.4444444444444444,
              "#bd3786"
             ],
             [
              0.5555555555555556,
              "#d8576b"
             ],
             [
              0.6666666666666666,
              "#ed7953"
             ],
             [
              0.7777777777777778,
              "#fb9f3a"
             ],
             [
              0.8888888888888888,
              "#fdca26"
             ],
             [
              1,
              "#f0f921"
             ]
            ],
            "type": "heatmapgl"
           }
          ],
          "histogram": [
           {
            "marker": {
             "pattern": {
              "fillmode": "overlay",
              "size": 10,
              "solidity": 0.2
             }
            },
            "type": "histogram"
           }
          ],
          "histogram2d": [
           {
            "colorbar": {
             "outlinewidth": 0,
             "ticks": ""
            },
            "colorscale": [
             [
              0,
              "#0d0887"
             ],
             [
              0.1111111111111111,
              "#46039f"
             ],
             [
              0.2222222222222222,
              "#7201a8"
             ],
             [
              0.3333333333333333,
              "#9c179e"
             ],
             [
              0.4444444444444444,
              "#bd3786"
             ],
             [
              0.5555555555555556,
              "#d8576b"
             ],
             [
              0.6666666666666666,
              "#ed7953"
             ],
             [
              0.7777777777777778,
              "#fb9f3a"
             ],
             [
              0.8888888888888888,
              "#fdca26"
             ],
             [
              1,
              "#f0f921"
             ]
            ],
            "type": "histogram2d"
           }
          ],
          "histogram2dcontour": [
           {
            "colorbar": {
             "outlinewidth": 0,
             "ticks": ""
            },
            "colorscale": [
             [
              0,
              "#0d0887"
             ],
             [
              0.1111111111111111,
              "#46039f"
             ],
             [
              0.2222222222222222,
              "#7201a8"
             ],
             [
              0.3333333333333333,
              "#9c179e"
             ],
             [
              0.4444444444444444,
              "#bd3786"
             ],
             [
              0.5555555555555556,
              "#d8576b"
             ],
             [
              0.6666666666666666,
              "#ed7953"
             ],
             [
              0.7777777777777778,
              "#fb9f3a"
             ],
             [
              0.8888888888888888,
              "#fdca26"
             ],
             [
              1,
              "#f0f921"
             ]
            ],
            "type": "histogram2dcontour"
           }
          ],
          "mesh3d": [
           {
            "colorbar": {
             "outlinewidth": 0,
             "ticks": ""
            },
            "type": "mesh3d"
           }
          ],
          "parcoords": [
           {
            "line": {
             "colorbar": {
              "outlinewidth": 0,
              "ticks": ""
             }
            },
            "type": "parcoords"
           }
          ],
          "pie": [
           {
            "automargin": true,
            "type": "pie"
           }
          ],
          "scatter": [
           {
            "fillpattern": {
             "fillmode": "overlay",
             "size": 10,
             "solidity": 0.2
            },
            "type": "scatter"
           }
          ],
          "scatter3d": [
           {
            "line": {
             "colorbar": {
              "outlinewidth": 0,
              "ticks": ""
             }
            },
            "marker": {
             "colorbar": {
              "outlinewidth": 0,
              "ticks": ""
             }
            },
            "type": "scatter3d"
           }
          ],
          "scattercarpet": [
           {
            "marker": {
             "colorbar": {
              "outlinewidth": 0,
              "ticks": ""
             }
            },
            "type": "scattercarpet"
           }
          ],
          "scattergeo": [
           {
            "marker": {
             "colorbar": {
              "outlinewidth": 0,
              "ticks": ""
             }
            },
            "type": "scattergeo"
           }
          ],
          "scattergl": [
           {
            "marker": {
             "colorbar": {
              "outlinewidth": 0,
              "ticks": ""
             }
            },
            "type": "scattergl"
           }
          ],
          "scattermapbox": [
           {
            "marker": {
             "colorbar": {
              "outlinewidth": 0,
              "ticks": ""
             }
            },
            "type": "scattermapbox"
           }
          ],
          "scatterpolar": [
           {
            "marker": {
             "colorbar": {
              "outlinewidth": 0,
              "ticks": ""
             }
            },
            "type": "scatterpolar"
           }
          ],
          "scatterpolargl": [
           {
            "marker": {
             "colorbar": {
              "outlinewidth": 0,
              "ticks": ""
             }
            },
            "type": "scatterpolargl"
           }
          ],
          "scatterternary": [
           {
            "marker": {
             "colorbar": {
              "outlinewidth": 0,
              "ticks": ""
             }
            },
            "type": "scatterternary"
           }
          ],
          "surface": [
           {
            "colorbar": {
             "outlinewidth": 0,
             "ticks": ""
            },
            "colorscale": [
             [
              0,
              "#0d0887"
             ],
             [
              0.1111111111111111,
              "#46039f"
             ],
             [
              0.2222222222222222,
              "#7201a8"
             ],
             [
              0.3333333333333333,
              "#9c179e"
             ],
             [
              0.4444444444444444,
              "#bd3786"
             ],
             [
              0.5555555555555556,
              "#d8576b"
             ],
             [
              0.6666666666666666,
              "#ed7953"
             ],
             [
              0.7777777777777778,
              "#fb9f3a"
             ],
             [
              0.8888888888888888,
              "#fdca26"
             ],
             [
              1,
              "#f0f921"
             ]
            ],
            "type": "surface"
           }
          ],
          "table": [
           {
            "cells": {
             "fill": {
              "color": "#EBF0F8"
             },
             "line": {
              "color": "white"
             }
            },
            "header": {
             "fill": {
              "color": "#C8D4E3"
             },
             "line": {
              "color": "white"
             }
            },
            "type": "table"
           }
          ]
         },
         "layout": {
          "annotationdefaults": {
           "arrowcolor": "#2a3f5f",
           "arrowhead": 0,
           "arrowwidth": 1
          },
          "autotypenumbers": "strict",
          "coloraxis": {
           "colorbar": {
            "outlinewidth": 0,
            "ticks": ""
           }
          },
          "colorscale": {
           "diverging": [
            [
             0,
             "#8e0152"
            ],
            [
             0.1,
             "#c51b7d"
            ],
            [
             0.2,
             "#de77ae"
            ],
            [
             0.3,
             "#f1b6da"
            ],
            [
             0.4,
             "#fde0ef"
            ],
            [
             0.5,
             "#f7f7f7"
            ],
            [
             0.6,
             "#e6f5d0"
            ],
            [
             0.7,
             "#b8e186"
            ],
            [
             0.8,
             "#7fbc41"
            ],
            [
             0.9,
             "#4d9221"
            ],
            [
             1,
             "#276419"
            ]
           ],
           "sequential": [
            [
             0,
             "#0d0887"
            ],
            [
             0.1111111111111111,
             "#46039f"
            ],
            [
             0.2222222222222222,
             "#7201a8"
            ],
            [
             0.3333333333333333,
             "#9c179e"
            ],
            [
             0.4444444444444444,
             "#bd3786"
            ],
            [
             0.5555555555555556,
             "#d8576b"
            ],
            [
             0.6666666666666666,
             "#ed7953"
            ],
            [
             0.7777777777777778,
             "#fb9f3a"
            ],
            [
             0.8888888888888888,
             "#fdca26"
            ],
            [
             1,
             "#f0f921"
            ]
           ],
           "sequentialminus": [
            [
             0,
             "#0d0887"
            ],
            [
             0.1111111111111111,
             "#46039f"
            ],
            [
             0.2222222222222222,
             "#7201a8"
            ],
            [
             0.3333333333333333,
             "#9c179e"
            ],
            [
             0.4444444444444444,
             "#bd3786"
            ],
            [
             0.5555555555555556,
             "#d8576b"
            ],
            [
             0.6666666666666666,
             "#ed7953"
            ],
            [
             0.7777777777777778,
             "#fb9f3a"
            ],
            [
             0.8888888888888888,
             "#fdca26"
            ],
            [
             1,
             "#f0f921"
            ]
           ]
          },
          "colorway": [
           "#636efa",
           "#EF553B",
           "#00cc96",
           "#ab63fa",
           "#FFA15A",
           "#19d3f3",
           "#FF6692",
           "#B6E880",
           "#FF97FF",
           "#FECB52"
          ],
          "font": {
           "color": "#2a3f5f"
          },
          "geo": {
           "bgcolor": "white",
           "lakecolor": "white",
           "landcolor": "#E5ECF6",
           "showlakes": true,
           "showland": true,
           "subunitcolor": "white"
          },
          "hoverlabel": {
           "align": "left"
          },
          "hovermode": "closest",
          "mapbox": {
           "style": "light"
          },
          "paper_bgcolor": "white",
          "plot_bgcolor": "#E5ECF6",
          "polar": {
           "angularaxis": {
            "gridcolor": "white",
            "linecolor": "white",
            "ticks": ""
           },
           "bgcolor": "#E5ECF6",
           "radialaxis": {
            "gridcolor": "white",
            "linecolor": "white",
            "ticks": ""
           }
          },
          "scene": {
           "xaxis": {
            "backgroundcolor": "#E5ECF6",
            "gridcolor": "white",
            "gridwidth": 2,
            "linecolor": "white",
            "showbackground": true,
            "ticks": "",
            "zerolinecolor": "white"
           },
           "yaxis": {
            "backgroundcolor": "#E5ECF6",
            "gridcolor": "white",
            "gridwidth": 2,
            "linecolor": "white",
            "showbackground": true,
            "ticks": "",
            "zerolinecolor": "white"
           },
           "zaxis": {
            "backgroundcolor": "#E5ECF6",
            "gridcolor": "white",
            "gridwidth": 2,
            "linecolor": "white",
            "showbackground": true,
            "ticks": "",
            "zerolinecolor": "white"
           }
          },
          "shapedefaults": {
           "line": {
            "color": "#2a3f5f"
           }
          },
          "ternary": {
           "aaxis": {
            "gridcolor": "white",
            "linecolor": "white",
            "ticks": ""
           },
           "baxis": {
            "gridcolor": "white",
            "linecolor": "white",
            "ticks": ""
           },
           "bgcolor": "#E5ECF6",
           "caxis": {
            "gridcolor": "white",
            "linecolor": "white",
            "ticks": ""
           }
          },
          "title": {
           "x": 0.05
          },
          "xaxis": {
           "automargin": true,
           "gridcolor": "white",
           "linecolor": "white",
           "ticks": "",
           "title": {
            "standoff": 15
           },
           "zerolinecolor": "white",
           "zerolinewidth": 2
          },
          "yaxis": {
           "automargin": true,
           "gridcolor": "white",
           "linecolor": "white",
           "ticks": "",
           "title": {
            "standoff": 15
           },
           "zerolinecolor": "white",
           "zerolinewidth": 2
          }
         }
        },
        "xaxis": {
         "anchor": "y",
         "domain": [
          0,
          1
         ],
         "title": {
          "text": "Количество вершин"
         }
        },
        "yaxis": {
         "anchor": "x",
         "domain": [
          0,
          1
         ],
         "title": {
          "text": "Время"
         }
        }
       }
      }
     },
     "metadata": {},
     "output_type": "display_data"
    }
   ],
   "source": [
    "px.scatter(resume, x = 'Количество вершин', y = 'Время', color = 'Уровень push/pull')"
   ]
  },
  {
   "cell_type": "code",
   "execution_count": 129,
   "id": "f7115b77",
   "metadata": {},
   "outputs": [
    {
     "data": {
      "application/vnd.plotly.v1+json": {
       "config": {
        "plotlyServerURL": "https://plot.ly"
       },
       "data": [
        {
         "hovertemplate": "Степень разреженности=%{x}<br>Время=%{y}<br>Уровень push/pull=%{marker.color}<extra></extra>",
         "legendgroup": "",
         "marker": {
          "color": [
           0,
           0.1,
           0.3,
           0.5,
           0.7,
           1,
           0,
           0.1,
           0.3,
           0.5,
           0.7,
           1,
           0,
           0.1,
           0.3,
           0.5,
           0.7,
           1,
           0,
           0.1,
           0.3,
           0.5,
           0.7,
           1,
           0,
           0.1,
           0.3,
           0.5,
           0.7,
           1,
           0,
           0.1,
           0.3,
           0.5,
           0.7,
           1,
           0,
           0.1,
           0.3,
           0.5,
           0.7,
           1,
           0,
           0.1,
           0.3,
           0.5,
           0.7,
           1,
           0,
           0.1,
           0.3,
           0.5,
           0.7,
           1,
           0,
           0.1,
           0.3,
           0.5,
           0.7,
           1,
           0,
           0.1,
           0.3,
           0.5,
           0.7,
           1,
           0,
           0.1,
           0.3,
           0.5,
           0.7,
           1,
           0,
           0.1,
           0.3,
           0.5,
           0.7,
           1,
           0,
           0.1,
           0.3,
           0.5,
           0.7,
           1,
           0,
           0.1,
           0.3,
           0.5,
           0.7,
           1,
           0,
           0.1,
           0.3,
           0.5,
           0.7,
           1,
           0,
           0.1,
           0.3,
           0.5,
           0.7,
           1,
           0,
           0.1,
           0.3,
           0.5,
           0.7,
           1,
           0,
           0.1,
           0.3,
           0.5,
           0.7,
           1,
           0,
           0.1,
           0.3,
           0.5,
           0.7,
           1,
           0,
           0.1,
           0.3,
           0.5,
           0.7,
           1,
           0,
           0.1,
           0.3,
           0.5,
           0.7,
           1,
           0,
           0.1,
           0.3,
           0.5,
           0.7,
           1,
           0,
           0.1,
           0.3,
           0.5,
           0.7,
           1,
           0,
           0.1,
           0.3,
           0.5,
           0.7,
           1,
           0,
           0.1,
           0.3,
           0.5,
           0.7,
           1,
           0,
           0.1,
           0.3,
           0.5,
           0.7,
           1,
           0,
           0.1,
           0.3,
           0.5,
           0.7,
           1,
           0,
           0.1,
           0.3,
           0.5,
           0.7,
           1,
           0,
           0.1,
           0.3,
           0.5,
           0.7,
           1,
           0,
           0.1,
           0.3,
           0.5,
           0.7,
           1,
           0,
           0.1,
           0.3,
           0.5,
           0.7,
           1,
           0,
           0.1,
           0.3,
           0.5,
           0.7,
           1,
           0,
           0.1,
           0.3,
           0.5,
           0.7,
           1,
           0,
           0.1,
           0.3,
           0.5,
           0.7,
           1,
           0,
           0.1,
           0.3,
           0.5,
           0.7,
           1,
           0,
           0.1,
           0.3,
           0.5,
           0.7,
           1,
           0,
           0.1,
           0.3,
           0.5,
           0.7,
           1,
           0,
           0.1,
           0.3,
           0.5,
           0.7,
           1,
           0,
           0.1,
           0.3,
           0.5,
           0.7,
           1,
           0,
           0.1,
           0.3,
           0.5,
           0.7,
           1,
           0,
           0.1,
           0.3,
           0.5,
           0.7,
           1
          ],
          "coloraxis": "coloraxis",
          "symbol": "circle"
         },
         "mode": "markers",
         "name": "",
         "orientation": "v",
         "showlegend": false,
         "type": "scatter",
         "x": [
          0.1,
          0.1,
          0.1,
          0.1,
          0.1,
          0.1,
          0.3,
          0.3,
          0.3,
          0.3,
          0.3,
          0.3,
          0.6,
          0.6,
          0.6,
          0.6,
          0.6,
          0.6,
          0.7,
          0.7,
          0.7,
          0.7,
          0.7,
          0.7,
          0.8,
          0.8,
          0.8,
          0.8,
          0.8,
          0.8,
          0.9,
          0.9,
          0.9,
          0.9,
          0.9,
          0.9,
          1,
          1,
          1,
          1,
          1,
          1,
          0.1,
          0.1,
          0.1,
          0.1,
          0.1,
          0.1,
          0.3,
          0.3,
          0.3,
          0.3,
          0.3,
          0.3,
          0.6,
          0.6,
          0.6,
          0.6,
          0.6,
          0.6,
          0.7,
          0.7,
          0.7,
          0.7,
          0.7,
          0.7,
          0.8,
          0.8,
          0.8,
          0.8,
          0.8,
          0.8,
          0.9,
          0.9,
          0.9,
          0.9,
          0.9,
          0.9,
          1,
          1,
          1,
          1,
          1,
          1,
          0.1,
          0.1,
          0.1,
          0.1,
          0.1,
          0.1,
          0.3,
          0.3,
          0.3,
          0.3,
          0.3,
          0.3,
          0.6,
          0.6,
          0.6,
          0.6,
          0.6,
          0.6,
          0.7,
          0.7,
          0.7,
          0.7,
          0.7,
          0.7,
          0.8,
          0.8,
          0.8,
          0.8,
          0.8,
          0.8,
          0.9,
          0.9,
          0.9,
          0.9,
          0.9,
          0.9,
          1,
          1,
          1,
          1,
          1,
          1,
          0.1,
          0.1,
          0.1,
          0.1,
          0.1,
          0.1,
          0.3,
          0.3,
          0.3,
          0.3,
          0.3,
          0.3,
          0.6,
          0.6,
          0.6,
          0.6,
          0.6,
          0.6,
          0.7,
          0.7,
          0.7,
          0.7,
          0.7,
          0.7,
          0.8,
          0.8,
          0.8,
          0.8,
          0.8,
          0.8,
          0.9,
          0.9,
          0.9,
          0.9,
          0.9,
          0.9,
          1,
          1,
          1,
          1,
          1,
          1,
          0.1,
          0.1,
          0.1,
          0.1,
          0.1,
          0.1,
          0.3,
          0.3,
          0.3,
          0.3,
          0.3,
          0.3,
          0.6,
          0.6,
          0.6,
          0.6,
          0.6,
          0.6,
          0.7,
          0.7,
          0.7,
          0.7,
          0.7,
          0.7,
          0.8,
          0.8,
          0.8,
          0.8,
          0.8,
          0.8,
          0.9,
          0.9,
          0.9,
          0.9,
          0.9,
          0.9,
          1,
          1,
          1,
          1,
          1,
          1,
          0.1,
          0.1,
          0.1,
          0.1,
          0.1,
          0.1,
          0.3,
          0.3,
          0.3,
          0.3,
          0.3,
          0.3,
          0.6,
          0.6,
          0.6,
          0.6,
          0.6,
          0.6,
          0.7,
          0.7,
          0.7,
          0.7,
          0.7,
          0.7,
          0.8,
          0.8,
          0.8,
          0.8,
          0.8,
          0.8,
          0.9,
          0.9,
          0.9,
          0.9,
          0.9,
          0.9,
          1,
          1,
          1,
          1,
          1,
          1
         ],
         "xaxis": "x",
         "y": [
          0.013108253479003906,
          0.019651174545288086,
          0.0052032470703125,
          0.020044803619384766,
          0.011794567108154297,
          0.01533961296081543,
          0.010998249053955078,
          0.005231380462646484,
          0.013522863388061523,
          0.0199735164642334,
          0.01220846176147461,
          0.0018422603607177734,
          0.014668464660644531,
          0.02070474624633789,
          0.016780376434326172,
          0.015784740447998047,
          0.017148971557617188,
          0.016467809677124023,
          0.01464986801147461,
          0.017077922821044922,
          0.016749143600463867,
          0.0180203914642334,
          0.01486825942993164,
          0.007888317108154297,
          0.01567554473876953,
          0,
          0.0164947509765625,
          0.021196842193603516,
          0.011833906173706055,
          0,
          0.016866445541381836,
          0.02310323715209961,
          0.012906789779663086,
          0.013106107711791992,
          0,
          0.02647686004638672,
          0.005789279937744141,
          0.0193784236907959,
          0.012174844741821289,
          0.003647327423095703,
          0.020566225051879883,
          0.0072247982025146484,
          0.021178245544433594,
          0.026317596435546875,
          0.02344512939453125,
          0.023049116134643555,
          0.0344846248626709,
          0.011700630187988281,
          0.030682802200317383,
          0.02238178253173828,
          0.009212732315063477,
          0.02644062042236328,
          0.02178955078125,
          0.009886980056762695,
          0.016808509826660156,
          0.015695571899414062,
          0.019730091094970703,
          0.031270742416381836,
          0.024037599563598633,
          0.01985645294189453,
          0.019523143768310547,
          0.036833763122558594,
          0.021642684936523438,
          0.024604082107543945,
          0.02177882194519043,
          0.026746034622192383,
          0.027465343475341797,
          0.022432804107666016,
          0.01163625717163086,
          0.024646282196044922,
          0.017993688583374023,
          0.018102407455444336,
          0.022286415100097656,
          0.013023614883422852,
          0.01566791534423828,
          0.03127241134643555,
          0.021069765090942383,
          0.017325878143310547,
          0.014580249786376953,
          0.004820823669433594,
          0.031331539154052734,
          0.01562047004699707,
          0.020910263061523438,
          0.014002799987792969,
          0.046875953674316406,
          0.03132319450378418,
          0.018241167068481445,
          0.03134799003601074,
          0.031241655349731445,
          0.03988504409790039,
          0.015695810317993164,
          0.031222820281982422,
          0.03127789497375488,
          0.04007434844970703,
          0.022544384002685547,
          0.030649185180664062,
          0.022318124771118164,
          0.03050684928894043,
          0.030544281005859375,
          0.03708648681640625,
          0.023421049118041992,
          0.030717849731445312,
          0.030783891677856445,
          0.030586957931518555,
          0.030585289001464844,
          0.0307462215423584,
          0.030704259872436523,
          0.026880264282226562,
          0.03263425827026367,
          0.0307466983795166,
          0.030656814575195312,
          0.030575990676879883,
          0.028403043746948242,
          0.028409957885742188,
          0.030479907989501953,
          0.022470474243164062,
          0.022466421127319336,
          0.03040003776550293,
          0.030709505081176758,
          0.02256917953491211,
          0.028609514236450195,
          0.024676799774169922,
          0.030838966369628906,
          0.030648231506347656,
          0.04091382026672363,
          0.0505223274230957,
          0.061156272888183594,
          0.05305910110473633,
          0.06087994575500488,
          0.06170773506164551,
          0.059152841567993164,
          0.05282902717590332,
          0.06131172180175781,
          0.05984830856323242,
          0.052324771881103516,
          0.06130337715148926,
          0.059249162673950195,
          0.07766294479370117,
          0.0856180191040039,
          0.06523346900939941,
          0.06527066230773926,
          0.07118439674377441,
          0.07992696762084961,
          0.0840003490447998,
          0.08342361450195312,
          0.07731080055236816,
          0.0709376335144043,
          0.2543222904205322,
          0.17484664916992188,
          0.08324050903320312,
          0.08162927627563477,
          0.08295583724975586,
          0.07610273361206055,
          0.0671689510345459,
          0.06611800193786621,
          0.07978940010070801,
          0.0766298770904541,
          0.08326554298400879,
          0.0666968822479248,
          0.08285021781921387,
          0.06699681282043457,
          0.08134293556213379,
          0.0698394775390625,
          0.06655144691467285,
          0.08390164375305176,
          0.0843956470489502,
          0.06635761260986328,
          0.08478760719299316,
          0.12296605110168457,
          0.13329029083251953,
          0.1158905029296875,
          0.11657285690307617,
          0.10975217819213867,
          0.09254693984985352,
          0.07680082321166992,
          0.08645224571228027,
          0.10236525535583496,
          0.09893441200256348,
          0.0951082706451416,
          0.0968482494354248,
          0.09183168411254883,
          0.08711981773376465,
          0.07175731658935547,
          0.10302114486694336,
          0.11490416526794434,
          0.11954712867736816,
          0.1149749755859375,
          0.11670231819152832,
          0.10363388061523438,
          0.10479450225830078,
          0.0923914909362793,
          0.10058999061584473,
          0.10151982307434082,
          0.11395978927612305,
          0.10095334053039551,
          0.09681224822998047,
          0.09887051582336426,
          0.10296487808227539,
          0.10140585899353027,
          0.09105443954467773,
          0.07807779312133789,
          0.08420467376708984,
          0.10020923614501953,
          0.08682012557983398,
          0.1233527660369873,
          0.08186912536621094,
          0.08375263214111328,
          0.08968663215637207,
          0.08132767677307129,
          0.09121966361999512,
          0.14311981201171875,
          0.1447739601135254,
          0.14081311225891113,
          0.14252710342407227,
          0.14223456382751465,
          0.14284682273864746,
          0.14284038543701172,
          0.1507272720336914,
          0.1524512767791748,
          0.13150954246520996,
          0.15266919136047363,
          0.1430201530456543,
          0.14296483993530273,
          0.1423940658569336,
          0.14277267456054688,
          0.15343451499938965,
          0.14322566986083984,
          0.1434614658355713,
          0.20462965965270996,
          0.1425774097442627,
          0.14250993728637695,
          0.1351463794708252,
          0.16084957122802734,
          0.17368507385253906,
          0.2167370319366455,
          0.2131972312927246,
          0.18850159645080566,
          0.14381766319274902,
          0.15715265274047852,
          0.13071060180664062,
          0.14679956436157227,
          0.16605854034423828,
          0.1714644432067871,
          0.17245078086853027,
          0.18303632736206055,
          0.1997852325439453,
          0.1832265853881836,
          0.1756906509399414,
          0.1890242099761963,
          0.15652036666870117,
          0.14966058731079102,
          0.15878748893737793
         ],
         "yaxis": "y"
        }
       ],
       "layout": {
        "coloraxis": {
         "colorbar": {
          "title": {
           "text": "Уровень push/pull"
          }
         },
         "colorscale": [
          [
           0,
           "#0d0887"
          ],
          [
           0.1111111111111111,
           "#46039f"
          ],
          [
           0.2222222222222222,
           "#7201a8"
          ],
          [
           0.3333333333333333,
           "#9c179e"
          ],
          [
           0.4444444444444444,
           "#bd3786"
          ],
          [
           0.5555555555555556,
           "#d8576b"
          ],
          [
           0.6666666666666666,
           "#ed7953"
          ],
          [
           0.7777777777777778,
           "#fb9f3a"
          ],
          [
           0.8888888888888888,
           "#fdca26"
          ],
          [
           1,
           "#f0f921"
          ]
         ]
        },
        "legend": {
         "tracegroupgap": 0
        },
        "margin": {
         "t": 60
        },
        "template": {
         "data": {
          "bar": [
           {
            "error_x": {
             "color": "#2a3f5f"
            },
            "error_y": {
             "color": "#2a3f5f"
            },
            "marker": {
             "line": {
              "color": "#E5ECF6",
              "width": 0.5
             },
             "pattern": {
              "fillmode": "overlay",
              "size": 10,
              "solidity": 0.2
             }
            },
            "type": "bar"
           }
          ],
          "barpolar": [
           {
            "marker": {
             "line": {
              "color": "#E5ECF6",
              "width": 0.5
             },
             "pattern": {
              "fillmode": "overlay",
              "size": 10,
              "solidity": 0.2
             }
            },
            "type": "barpolar"
           }
          ],
          "carpet": [
           {
            "aaxis": {
             "endlinecolor": "#2a3f5f",
             "gridcolor": "white",
             "linecolor": "white",
             "minorgridcolor": "white",
             "startlinecolor": "#2a3f5f"
            },
            "baxis": {
             "endlinecolor": "#2a3f5f",
             "gridcolor": "white",
             "linecolor": "white",
             "minorgridcolor": "white",
             "startlinecolor": "#2a3f5f"
            },
            "type": "carpet"
           }
          ],
          "choropleth": [
           {
            "colorbar": {
             "outlinewidth": 0,
             "ticks": ""
            },
            "type": "choropleth"
           }
          ],
          "contour": [
           {
            "colorbar": {
             "outlinewidth": 0,
             "ticks": ""
            },
            "colorscale": [
             [
              0,
              "#0d0887"
             ],
             [
              0.1111111111111111,
              "#46039f"
             ],
             [
              0.2222222222222222,
              "#7201a8"
             ],
             [
              0.3333333333333333,
              "#9c179e"
             ],
             [
              0.4444444444444444,
              "#bd3786"
             ],
             [
              0.5555555555555556,
              "#d8576b"
             ],
             [
              0.6666666666666666,
              "#ed7953"
             ],
             [
              0.7777777777777778,
              "#fb9f3a"
             ],
             [
              0.8888888888888888,
              "#fdca26"
             ],
             [
              1,
              "#f0f921"
             ]
            ],
            "type": "contour"
           }
          ],
          "contourcarpet": [
           {
            "colorbar": {
             "outlinewidth": 0,
             "ticks": ""
            },
            "type": "contourcarpet"
           }
          ],
          "heatmap": [
           {
            "colorbar": {
             "outlinewidth": 0,
             "ticks": ""
            },
            "colorscale": [
             [
              0,
              "#0d0887"
             ],
             [
              0.1111111111111111,
              "#46039f"
             ],
             [
              0.2222222222222222,
              "#7201a8"
             ],
             [
              0.3333333333333333,
              "#9c179e"
             ],
             [
              0.4444444444444444,
              "#bd3786"
             ],
             [
              0.5555555555555556,
              "#d8576b"
             ],
             [
              0.6666666666666666,
              "#ed7953"
             ],
             [
              0.7777777777777778,
              "#fb9f3a"
             ],
             [
              0.8888888888888888,
              "#fdca26"
             ],
             [
              1,
              "#f0f921"
             ]
            ],
            "type": "heatmap"
           }
          ],
          "heatmapgl": [
           {
            "colorbar": {
             "outlinewidth": 0,
             "ticks": ""
            },
            "colorscale": [
             [
              0,
              "#0d0887"
             ],
             [
              0.1111111111111111,
              "#46039f"
             ],
             [
              0.2222222222222222,
              "#7201a8"
             ],
             [
              0.3333333333333333,
              "#9c179e"
             ],
             [
              0.4444444444444444,
              "#bd3786"
             ],
             [
              0.5555555555555556,
              "#d8576b"
             ],
             [
              0.6666666666666666,
              "#ed7953"
             ],
             [
              0.7777777777777778,
              "#fb9f3a"
             ],
             [
              0.8888888888888888,
              "#fdca26"
             ],
             [
              1,
              "#f0f921"
             ]
            ],
            "type": "heatmapgl"
           }
          ],
          "histogram": [
           {
            "marker": {
             "pattern": {
              "fillmode": "overlay",
              "size": 10,
              "solidity": 0.2
             }
            },
            "type": "histogram"
           }
          ],
          "histogram2d": [
           {
            "colorbar": {
             "outlinewidth": 0,
             "ticks": ""
            },
            "colorscale": [
             [
              0,
              "#0d0887"
             ],
             [
              0.1111111111111111,
              "#46039f"
             ],
             [
              0.2222222222222222,
              "#7201a8"
             ],
             [
              0.3333333333333333,
              "#9c179e"
             ],
             [
              0.4444444444444444,
              "#bd3786"
             ],
             [
              0.5555555555555556,
              "#d8576b"
             ],
             [
              0.6666666666666666,
              "#ed7953"
             ],
             [
              0.7777777777777778,
              "#fb9f3a"
             ],
             [
              0.8888888888888888,
              "#fdca26"
             ],
             [
              1,
              "#f0f921"
             ]
            ],
            "type": "histogram2d"
           }
          ],
          "histogram2dcontour": [
           {
            "colorbar": {
             "outlinewidth": 0,
             "ticks": ""
            },
            "colorscale": [
             [
              0,
              "#0d0887"
             ],
             [
              0.1111111111111111,
              "#46039f"
             ],
             [
              0.2222222222222222,
              "#7201a8"
             ],
             [
              0.3333333333333333,
              "#9c179e"
             ],
             [
              0.4444444444444444,
              "#bd3786"
             ],
             [
              0.5555555555555556,
              "#d8576b"
             ],
             [
              0.6666666666666666,
              "#ed7953"
             ],
             [
              0.7777777777777778,
              "#fb9f3a"
             ],
             [
              0.8888888888888888,
              "#fdca26"
             ],
             [
              1,
              "#f0f921"
             ]
            ],
            "type": "histogram2dcontour"
           }
          ],
          "mesh3d": [
           {
            "colorbar": {
             "outlinewidth": 0,
             "ticks": ""
            },
            "type": "mesh3d"
           }
          ],
          "parcoords": [
           {
            "line": {
             "colorbar": {
              "outlinewidth": 0,
              "ticks": ""
             }
            },
            "type": "parcoords"
           }
          ],
          "pie": [
           {
            "automargin": true,
            "type": "pie"
           }
          ],
          "scatter": [
           {
            "fillpattern": {
             "fillmode": "overlay",
             "size": 10,
             "solidity": 0.2
            },
            "type": "scatter"
           }
          ],
          "scatter3d": [
           {
            "line": {
             "colorbar": {
              "outlinewidth": 0,
              "ticks": ""
             }
            },
            "marker": {
             "colorbar": {
              "outlinewidth": 0,
              "ticks": ""
             }
            },
            "type": "scatter3d"
           }
          ],
          "scattercarpet": [
           {
            "marker": {
             "colorbar": {
              "outlinewidth": 0,
              "ticks": ""
             }
            },
            "type": "scattercarpet"
           }
          ],
          "scattergeo": [
           {
            "marker": {
             "colorbar": {
              "outlinewidth": 0,
              "ticks": ""
             }
            },
            "type": "scattergeo"
           }
          ],
          "scattergl": [
           {
            "marker": {
             "colorbar": {
              "outlinewidth": 0,
              "ticks": ""
             }
            },
            "type": "scattergl"
           }
          ],
          "scattermapbox": [
           {
            "marker": {
             "colorbar": {
              "outlinewidth": 0,
              "ticks": ""
             }
            },
            "type": "scattermapbox"
           }
          ],
          "scatterpolar": [
           {
            "marker": {
             "colorbar": {
              "outlinewidth": 0,
              "ticks": ""
             }
            },
            "type": "scatterpolar"
           }
          ],
          "scatterpolargl": [
           {
            "marker": {
             "colorbar": {
              "outlinewidth": 0,
              "ticks": ""
             }
            },
            "type": "scatterpolargl"
           }
          ],
          "scatterternary": [
           {
            "marker": {
             "colorbar": {
              "outlinewidth": 0,
              "ticks": ""
             }
            },
            "type": "scatterternary"
           }
          ],
          "surface": [
           {
            "colorbar": {
             "outlinewidth": 0,
             "ticks": ""
            },
            "colorscale": [
             [
              0,
              "#0d0887"
             ],
             [
              0.1111111111111111,
              "#46039f"
             ],
             [
              0.2222222222222222,
              "#7201a8"
             ],
             [
              0.3333333333333333,
              "#9c179e"
             ],
             [
              0.4444444444444444,
              "#bd3786"
             ],
             [
              0.5555555555555556,
              "#d8576b"
             ],
             [
              0.6666666666666666,
              "#ed7953"
             ],
             [
              0.7777777777777778,
              "#fb9f3a"
             ],
             [
              0.8888888888888888,
              "#fdca26"
             ],
             [
              1,
              "#f0f921"
             ]
            ],
            "type": "surface"
           }
          ],
          "table": [
           {
            "cells": {
             "fill": {
              "color": "#EBF0F8"
             },
             "line": {
              "color": "white"
             }
            },
            "header": {
             "fill": {
              "color": "#C8D4E3"
             },
             "line": {
              "color": "white"
             }
            },
            "type": "table"
           }
          ]
         },
         "layout": {
          "annotationdefaults": {
           "arrowcolor": "#2a3f5f",
           "arrowhead": 0,
           "arrowwidth": 1
          },
          "autotypenumbers": "strict",
          "coloraxis": {
           "colorbar": {
            "outlinewidth": 0,
            "ticks": ""
           }
          },
          "colorscale": {
           "diverging": [
            [
             0,
             "#8e0152"
            ],
            [
             0.1,
             "#c51b7d"
            ],
            [
             0.2,
             "#de77ae"
            ],
            [
             0.3,
             "#f1b6da"
            ],
            [
             0.4,
             "#fde0ef"
            ],
            [
             0.5,
             "#f7f7f7"
            ],
            [
             0.6,
             "#e6f5d0"
            ],
            [
             0.7,
             "#b8e186"
            ],
            [
             0.8,
             "#7fbc41"
            ],
            [
             0.9,
             "#4d9221"
            ],
            [
             1,
             "#276419"
            ]
           ],
           "sequential": [
            [
             0,
             "#0d0887"
            ],
            [
             0.1111111111111111,
             "#46039f"
            ],
            [
             0.2222222222222222,
             "#7201a8"
            ],
            [
             0.3333333333333333,
             "#9c179e"
            ],
            [
             0.4444444444444444,
             "#bd3786"
            ],
            [
             0.5555555555555556,
             "#d8576b"
            ],
            [
             0.6666666666666666,
             "#ed7953"
            ],
            [
             0.7777777777777778,
             "#fb9f3a"
            ],
            [
             0.8888888888888888,
             "#fdca26"
            ],
            [
             1,
             "#f0f921"
            ]
           ],
           "sequentialminus": [
            [
             0,
             "#0d0887"
            ],
            [
             0.1111111111111111,
             "#46039f"
            ],
            [
             0.2222222222222222,
             "#7201a8"
            ],
            [
             0.3333333333333333,
             "#9c179e"
            ],
            [
             0.4444444444444444,
             "#bd3786"
            ],
            [
             0.5555555555555556,
             "#d8576b"
            ],
            [
             0.6666666666666666,
             "#ed7953"
            ],
            [
             0.7777777777777778,
             "#fb9f3a"
            ],
            [
             0.8888888888888888,
             "#fdca26"
            ],
            [
             1,
             "#f0f921"
            ]
           ]
          },
          "colorway": [
           "#636efa",
           "#EF553B",
           "#00cc96",
           "#ab63fa",
           "#FFA15A",
           "#19d3f3",
           "#FF6692",
           "#B6E880",
           "#FF97FF",
           "#FECB52"
          ],
          "font": {
           "color": "#2a3f5f"
          },
          "geo": {
           "bgcolor": "white",
           "lakecolor": "white",
           "landcolor": "#E5ECF6",
           "showlakes": true,
           "showland": true,
           "subunitcolor": "white"
          },
          "hoverlabel": {
           "align": "left"
          },
          "hovermode": "closest",
          "mapbox": {
           "style": "light"
          },
          "paper_bgcolor": "white",
          "plot_bgcolor": "#E5ECF6",
          "polar": {
           "angularaxis": {
            "gridcolor": "white",
            "linecolor": "white",
            "ticks": ""
           },
           "bgcolor": "#E5ECF6",
           "radialaxis": {
            "gridcolor": "white",
            "linecolor": "white",
            "ticks": ""
           }
          },
          "scene": {
           "xaxis": {
            "backgroundcolor": "#E5ECF6",
            "gridcolor": "white",
            "gridwidth": 2,
            "linecolor": "white",
            "showbackground": true,
            "ticks": "",
            "zerolinecolor": "white"
           },
           "yaxis": {
            "backgroundcolor": "#E5ECF6",
            "gridcolor": "white",
            "gridwidth": 2,
            "linecolor": "white",
            "showbackground": true,
            "ticks": "",
            "zerolinecolor": "white"
           },
           "zaxis": {
            "backgroundcolor": "#E5ECF6",
            "gridcolor": "white",
            "gridwidth": 2,
            "linecolor": "white",
            "showbackground": true,
            "ticks": "",
            "zerolinecolor": "white"
           }
          },
          "shapedefaults": {
           "line": {
            "color": "#2a3f5f"
           }
          },
          "ternary": {
           "aaxis": {
            "gridcolor": "white",
            "linecolor": "white",
            "ticks": ""
           },
           "baxis": {
            "gridcolor": "white",
            "linecolor": "white",
            "ticks": ""
           },
           "bgcolor": "#E5ECF6",
           "caxis": {
            "gridcolor": "white",
            "linecolor": "white",
            "ticks": ""
           }
          },
          "title": {
           "x": 0.05
          },
          "xaxis": {
           "automargin": true,
           "gridcolor": "white",
           "linecolor": "white",
           "ticks": "",
           "title": {
            "standoff": 15
           },
           "zerolinecolor": "white",
           "zerolinewidth": 2
          },
          "yaxis": {
           "automargin": true,
           "gridcolor": "white",
           "linecolor": "white",
           "ticks": "",
           "title": {
            "standoff": 15
           },
           "zerolinecolor": "white",
           "zerolinewidth": 2
          }
         }
        },
        "xaxis": {
         "anchor": "y",
         "domain": [
          0,
          1
         ],
         "title": {
          "text": "Степень разреженности"
         }
        },
        "yaxis": {
         "anchor": "x",
         "domain": [
          0,
          1
         ],
         "title": {
          "text": "Время"
         }
        }
       }
      }
     },
     "metadata": {},
     "output_type": "display_data"
    }
   ],
   "source": [
    "px.scatter(resume, x = 'Степень разреженности', y = 'Время', color = 'Уровень push/pull')"
   ]
  },
  {
   "cell_type": "code",
   "execution_count": 130,
   "id": "62aaf321",
   "metadata": {},
   "outputs": [
    {
     "data": {
      "application/vnd.plotly.v1+json": {
       "config": {
        "plotlyServerURL": "https://plot.ly"
       },
       "data": [
        {
         "hovertemplate": "Количество стартовых вершин=%{x}<br>Время=%{y}<br>Уровень push/pull=%{marker.color}<extra></extra>",
         "legendgroup": "",
         "marker": {
          "color": [
           0,
           0.1,
           0.3,
           0.5,
           0.7,
           1,
           0,
           0.1,
           0.3,
           0.5,
           0.7,
           1,
           0,
           0.1,
           0.3,
           0.5,
           0.7,
           1,
           0,
           0.1,
           0.3,
           0.5,
           0.7,
           1,
           0,
           0.1,
           0.3,
           0.5,
           0.7,
           1,
           0,
           0.1,
           0.3,
           0.5,
           0.7,
           1,
           0,
           0.1,
           0.3,
           0.5,
           0.7,
           1,
           0,
           0.1,
           0.3,
           0.5,
           0.7,
           1,
           0,
           0.1,
           0.3,
           0.5,
           0.7,
           1,
           0,
           0.1,
           0.3,
           0.5,
           0.7,
           1,
           0,
           0.1,
           0.3,
           0.5,
           0.7,
           1,
           0,
           0.1,
           0.3,
           0.5,
           0.7,
           1,
           0,
           0.1,
           0.3,
           0.5,
           0.7,
           1,
           0,
           0.1,
           0.3,
           0.5,
           0.7,
           1,
           0,
           0.1,
           0.3,
           0.5,
           0.7,
           1,
           0,
           0.1,
           0.3,
           0.5,
           0.7,
           1,
           0,
           0.1,
           0.3,
           0.5,
           0.7,
           1,
           0,
           0.1,
           0.3,
           0.5,
           0.7,
           1,
           0,
           0.1,
           0.3,
           0.5,
           0.7,
           1,
           0,
           0.1,
           0.3,
           0.5,
           0.7,
           1,
           0,
           0.1,
           0.3,
           0.5,
           0.7,
           1,
           0,
           0.1,
           0.3,
           0.5,
           0.7,
           1,
           0,
           0.1,
           0.3,
           0.5,
           0.7,
           1,
           0,
           0.1,
           0.3,
           0.5,
           0.7,
           1,
           0,
           0.1,
           0.3,
           0.5,
           0.7,
           1,
           0,
           0.1,
           0.3,
           0.5,
           0.7,
           1,
           0,
           0.1,
           0.3,
           0.5,
           0.7,
           1,
           0,
           0.1,
           0.3,
           0.5,
           0.7,
           1,
           0,
           0.1,
           0.3,
           0.5,
           0.7,
           1,
           0,
           0.1,
           0.3,
           0.5,
           0.7,
           1,
           0,
           0.1,
           0.3,
           0.5,
           0.7,
           1,
           0,
           0.1,
           0.3,
           0.5,
           0.7,
           1,
           0,
           0.1,
           0.3,
           0.5,
           0.7,
           1,
           0,
           0.1,
           0.3,
           0.5,
           0.7,
           1,
           0,
           0.1,
           0.3,
           0.5,
           0.7,
           1,
           0,
           0.1,
           0.3,
           0.5,
           0.7,
           1,
           0,
           0.1,
           0.3,
           0.5,
           0.7,
           1,
           0,
           0.1,
           0.3,
           0.5,
           0.7,
           1,
           0,
           0.1,
           0.3,
           0.5,
           0.7,
           1,
           0,
           0.1,
           0.3,
           0.5,
           0.7,
           1,
           0,
           0.1,
           0.3,
           0.5,
           0.7,
           1,
           0,
           0.1,
           0.3,
           0.5,
           0.7,
           1
          ],
          "coloraxis": "coloraxis",
          "symbol": "circle"
         },
         "mode": "markers",
         "name": "",
         "orientation": "v",
         "showlegend": false,
         "type": "scatter",
         "x": [
          40,
          40,
          40,
          40,
          40,
          40,
          40,
          40,
          40,
          40,
          40,
          40,
          40,
          40,
          40,
          40,
          40,
          40,
          40,
          40,
          40,
          40,
          40,
          40,
          40,
          40,
          40,
          40,
          40,
          40,
          40,
          40,
          40,
          40,
          40,
          40,
          40,
          40,
          40,
          40,
          40,
          40,
          60,
          60,
          60,
          60,
          60,
          60,
          60,
          60,
          60,
          60,
          60,
          60,
          60,
          60,
          60,
          60,
          60,
          60,
          60,
          60,
          60,
          60,
          60,
          60,
          60,
          60,
          60,
          60,
          60,
          60,
          60,
          60,
          60,
          60,
          60,
          60,
          60,
          60,
          60,
          60,
          60,
          60,
          100,
          100,
          100,
          100,
          100,
          100,
          100,
          100,
          100,
          100,
          100,
          100,
          100,
          100,
          100,
          100,
          100,
          100,
          100,
          100,
          100,
          100,
          100,
          100,
          100,
          100,
          100,
          100,
          100,
          100,
          100,
          100,
          100,
          100,
          100,
          100,
          100,
          100,
          100,
          100,
          100,
          100,
          200,
          200,
          200,
          200,
          200,
          200,
          200,
          200,
          200,
          200,
          200,
          200,
          200,
          200,
          200,
          200,
          200,
          200,
          200,
          200,
          200,
          200,
          200,
          200,
          200,
          200,
          200,
          200,
          200,
          200,
          200,
          200,
          200,
          200,
          200,
          200,
          200,
          200,
          200,
          200,
          200,
          200,
          300,
          300,
          300,
          300,
          300,
          300,
          300,
          300,
          300,
          300,
          300,
          300,
          300,
          300,
          300,
          300,
          300,
          300,
          300,
          300,
          300,
          300,
          300,
          300,
          300,
          300,
          300,
          300,
          300,
          300,
          300,
          300,
          300,
          300,
          300,
          300,
          300,
          300,
          300,
          300,
          300,
          300,
          500,
          500,
          500,
          500,
          500,
          500,
          500,
          500,
          500,
          500,
          500,
          500,
          500,
          500,
          500,
          500,
          500,
          500,
          500,
          500,
          500,
          500,
          500,
          500,
          500,
          500,
          500,
          500,
          500,
          500,
          500,
          500,
          500,
          500,
          500,
          500,
          500,
          500,
          500,
          500,
          500,
          500
         ],
         "xaxis": "x",
         "y": [
          0.013108253479003906,
          0.019651174545288086,
          0.0052032470703125,
          0.020044803619384766,
          0.011794567108154297,
          0.01533961296081543,
          0.010998249053955078,
          0.005231380462646484,
          0.013522863388061523,
          0.0199735164642334,
          0.01220846176147461,
          0.0018422603607177734,
          0.014668464660644531,
          0.02070474624633789,
          0.016780376434326172,
          0.015784740447998047,
          0.017148971557617188,
          0.016467809677124023,
          0.01464986801147461,
          0.017077922821044922,
          0.016749143600463867,
          0.0180203914642334,
          0.01486825942993164,
          0.007888317108154297,
          0.01567554473876953,
          0,
          0.0164947509765625,
          0.021196842193603516,
          0.011833906173706055,
          0,
          0.016866445541381836,
          0.02310323715209961,
          0.012906789779663086,
          0.013106107711791992,
          0,
          0.02647686004638672,
          0.005789279937744141,
          0.0193784236907959,
          0.012174844741821289,
          0.003647327423095703,
          0.020566225051879883,
          0.0072247982025146484,
          0.021178245544433594,
          0.026317596435546875,
          0.02344512939453125,
          0.023049116134643555,
          0.0344846248626709,
          0.011700630187988281,
          0.030682802200317383,
          0.02238178253173828,
          0.009212732315063477,
          0.02644062042236328,
          0.02178955078125,
          0.009886980056762695,
          0.016808509826660156,
          0.015695571899414062,
          0.019730091094970703,
          0.031270742416381836,
          0.024037599563598633,
          0.01985645294189453,
          0.019523143768310547,
          0.036833763122558594,
          0.021642684936523438,
          0.024604082107543945,
          0.02177882194519043,
          0.026746034622192383,
          0.027465343475341797,
          0.022432804107666016,
          0.01163625717163086,
          0.024646282196044922,
          0.017993688583374023,
          0.018102407455444336,
          0.022286415100097656,
          0.013023614883422852,
          0.01566791534423828,
          0.03127241134643555,
          0.021069765090942383,
          0.017325878143310547,
          0.014580249786376953,
          0.004820823669433594,
          0.031331539154052734,
          0.01562047004699707,
          0.020910263061523438,
          0.014002799987792969,
          0.046875953674316406,
          0.03132319450378418,
          0.018241167068481445,
          0.03134799003601074,
          0.031241655349731445,
          0.03988504409790039,
          0.015695810317993164,
          0.031222820281982422,
          0.03127789497375488,
          0.04007434844970703,
          0.022544384002685547,
          0.030649185180664062,
          0.022318124771118164,
          0.03050684928894043,
          0.030544281005859375,
          0.03708648681640625,
          0.023421049118041992,
          0.030717849731445312,
          0.030783891677856445,
          0.030586957931518555,
          0.030585289001464844,
          0.0307462215423584,
          0.030704259872436523,
          0.026880264282226562,
          0.03263425827026367,
          0.0307466983795166,
          0.030656814575195312,
          0.030575990676879883,
          0.028403043746948242,
          0.028409957885742188,
          0.030479907989501953,
          0.022470474243164062,
          0.022466421127319336,
          0.03040003776550293,
          0.030709505081176758,
          0.02256917953491211,
          0.028609514236450195,
          0.024676799774169922,
          0.030838966369628906,
          0.030648231506347656,
          0.04091382026672363,
          0.0505223274230957,
          0.061156272888183594,
          0.05305910110473633,
          0.06087994575500488,
          0.06170773506164551,
          0.059152841567993164,
          0.05282902717590332,
          0.06131172180175781,
          0.05984830856323242,
          0.052324771881103516,
          0.06130337715148926,
          0.059249162673950195,
          0.07766294479370117,
          0.0856180191040039,
          0.06523346900939941,
          0.06527066230773926,
          0.07118439674377441,
          0.07992696762084961,
          0.0840003490447998,
          0.08342361450195312,
          0.07731080055236816,
          0.0709376335144043,
          0.2543222904205322,
          0.17484664916992188,
          0.08324050903320312,
          0.08162927627563477,
          0.08295583724975586,
          0.07610273361206055,
          0.0671689510345459,
          0.06611800193786621,
          0.07978940010070801,
          0.0766298770904541,
          0.08326554298400879,
          0.0666968822479248,
          0.08285021781921387,
          0.06699681282043457,
          0.08134293556213379,
          0.0698394775390625,
          0.06655144691467285,
          0.08390164375305176,
          0.0843956470489502,
          0.06635761260986328,
          0.08478760719299316,
          0.12296605110168457,
          0.13329029083251953,
          0.1158905029296875,
          0.11657285690307617,
          0.10975217819213867,
          0.09254693984985352,
          0.07680082321166992,
          0.08645224571228027,
          0.10236525535583496,
          0.09893441200256348,
          0.0951082706451416,
          0.0968482494354248,
          0.09183168411254883,
          0.08711981773376465,
          0.07175731658935547,
          0.10302114486694336,
          0.11490416526794434,
          0.11954712867736816,
          0.1149749755859375,
          0.11670231819152832,
          0.10363388061523438,
          0.10479450225830078,
          0.0923914909362793,
          0.10058999061584473,
          0.10151982307434082,
          0.11395978927612305,
          0.10095334053039551,
          0.09681224822998047,
          0.09887051582336426,
          0.10296487808227539,
          0.10140585899353027,
          0.09105443954467773,
          0.07807779312133789,
          0.08420467376708984,
          0.10020923614501953,
          0.08682012557983398,
          0.1233527660369873,
          0.08186912536621094,
          0.08375263214111328,
          0.08968663215637207,
          0.08132767677307129,
          0.09121966361999512,
          0.14311981201171875,
          0.1447739601135254,
          0.14081311225891113,
          0.14252710342407227,
          0.14223456382751465,
          0.14284682273864746,
          0.14284038543701172,
          0.1507272720336914,
          0.1524512767791748,
          0.13150954246520996,
          0.15266919136047363,
          0.1430201530456543,
          0.14296483993530273,
          0.1423940658569336,
          0.14277267456054688,
          0.15343451499938965,
          0.14322566986083984,
          0.1434614658355713,
          0.20462965965270996,
          0.1425774097442627,
          0.14250993728637695,
          0.1351463794708252,
          0.16084957122802734,
          0.17368507385253906,
          0.2167370319366455,
          0.2131972312927246,
          0.18850159645080566,
          0.14381766319274902,
          0.15715265274047852,
          0.13071060180664062,
          0.14679956436157227,
          0.16605854034423828,
          0.1714644432067871,
          0.17245078086853027,
          0.18303632736206055,
          0.1997852325439453,
          0.1832265853881836,
          0.1756906509399414,
          0.1890242099761963,
          0.15652036666870117,
          0.14966058731079102,
          0.15878748893737793
         ],
         "yaxis": "y"
        }
       ],
       "layout": {
        "coloraxis": {
         "colorbar": {
          "title": {
           "text": "Уровень push/pull"
          }
         },
         "colorscale": [
          [
           0,
           "#0d0887"
          ],
          [
           0.1111111111111111,
           "#46039f"
          ],
          [
           0.2222222222222222,
           "#7201a8"
          ],
          [
           0.3333333333333333,
           "#9c179e"
          ],
          [
           0.4444444444444444,
           "#bd3786"
          ],
          [
           0.5555555555555556,
           "#d8576b"
          ],
          [
           0.6666666666666666,
           "#ed7953"
          ],
          [
           0.7777777777777778,
           "#fb9f3a"
          ],
          [
           0.8888888888888888,
           "#fdca26"
          ],
          [
           1,
           "#f0f921"
          ]
         ]
        },
        "legend": {
         "tracegroupgap": 0
        },
        "margin": {
         "t": 60
        },
        "template": {
         "data": {
          "bar": [
           {
            "error_x": {
             "color": "#2a3f5f"
            },
            "error_y": {
             "color": "#2a3f5f"
            },
            "marker": {
             "line": {
              "color": "#E5ECF6",
              "width": 0.5
             },
             "pattern": {
              "fillmode": "overlay",
              "size": 10,
              "solidity": 0.2
             }
            },
            "type": "bar"
           }
          ],
          "barpolar": [
           {
            "marker": {
             "line": {
              "color": "#E5ECF6",
              "width": 0.5
             },
             "pattern": {
              "fillmode": "overlay",
              "size": 10,
              "solidity": 0.2
             }
            },
            "type": "barpolar"
           }
          ],
          "carpet": [
           {
            "aaxis": {
             "endlinecolor": "#2a3f5f",
             "gridcolor": "white",
             "linecolor": "white",
             "minorgridcolor": "white",
             "startlinecolor": "#2a3f5f"
            },
            "baxis": {
             "endlinecolor": "#2a3f5f",
             "gridcolor": "white",
             "linecolor": "white",
             "minorgridcolor": "white",
             "startlinecolor": "#2a3f5f"
            },
            "type": "carpet"
           }
          ],
          "choropleth": [
           {
            "colorbar": {
             "outlinewidth": 0,
             "ticks": ""
            },
            "type": "choropleth"
           }
          ],
          "contour": [
           {
            "colorbar": {
             "outlinewidth": 0,
             "ticks": ""
            },
            "colorscale": [
             [
              0,
              "#0d0887"
             ],
             [
              0.1111111111111111,
              "#46039f"
             ],
             [
              0.2222222222222222,
              "#7201a8"
             ],
             [
              0.3333333333333333,
              "#9c179e"
             ],
             [
              0.4444444444444444,
              "#bd3786"
             ],
             [
              0.5555555555555556,
              "#d8576b"
             ],
             [
              0.6666666666666666,
              "#ed7953"
             ],
             [
              0.7777777777777778,
              "#fb9f3a"
             ],
             [
              0.8888888888888888,
              "#fdca26"
             ],
             [
              1,
              "#f0f921"
             ]
            ],
            "type": "contour"
           }
          ],
          "contourcarpet": [
           {
            "colorbar": {
             "outlinewidth": 0,
             "ticks": ""
            },
            "type": "contourcarpet"
           }
          ],
          "heatmap": [
           {
            "colorbar": {
             "outlinewidth": 0,
             "ticks": ""
            },
            "colorscale": [
             [
              0,
              "#0d0887"
             ],
             [
              0.1111111111111111,
              "#46039f"
             ],
             [
              0.2222222222222222,
              "#7201a8"
             ],
             [
              0.3333333333333333,
              "#9c179e"
             ],
             [
              0.4444444444444444,
              "#bd3786"
             ],
             [
              0.5555555555555556,
              "#d8576b"
             ],
             [
              0.6666666666666666,
              "#ed7953"
             ],
             [
              0.7777777777777778,
              "#fb9f3a"
             ],
             [
              0.8888888888888888,
              "#fdca26"
             ],
             [
              1,
              "#f0f921"
             ]
            ],
            "type": "heatmap"
           }
          ],
          "heatmapgl": [
           {
            "colorbar": {
             "outlinewidth": 0,
             "ticks": ""
            },
            "colorscale": [
             [
              0,
              "#0d0887"
             ],
             [
              0.1111111111111111,
              "#46039f"
             ],
             [
              0.2222222222222222,
              "#7201a8"
             ],
             [
              0.3333333333333333,
              "#9c179e"
             ],
             [
              0.4444444444444444,
              "#bd3786"
             ],
             [
              0.5555555555555556,
              "#d8576b"
             ],
             [
              0.6666666666666666,
              "#ed7953"
             ],
             [
              0.7777777777777778,
              "#fb9f3a"
             ],
             [
              0.8888888888888888,
              "#fdca26"
             ],
             [
              1,
              "#f0f921"
             ]
            ],
            "type": "heatmapgl"
           }
          ],
          "histogram": [
           {
            "marker": {
             "pattern": {
              "fillmode": "overlay",
              "size": 10,
              "solidity": 0.2
             }
            },
            "type": "histogram"
           }
          ],
          "histogram2d": [
           {
            "colorbar": {
             "outlinewidth": 0,
             "ticks": ""
            },
            "colorscale": [
             [
              0,
              "#0d0887"
             ],
             [
              0.1111111111111111,
              "#46039f"
             ],
             [
              0.2222222222222222,
              "#7201a8"
             ],
             [
              0.3333333333333333,
              "#9c179e"
             ],
             [
              0.4444444444444444,
              "#bd3786"
             ],
             [
              0.5555555555555556,
              "#d8576b"
             ],
             [
              0.6666666666666666,
              "#ed7953"
             ],
             [
              0.7777777777777778,
              "#fb9f3a"
             ],
             [
              0.8888888888888888,
              "#fdca26"
             ],
             [
              1,
              "#f0f921"
             ]
            ],
            "type": "histogram2d"
           }
          ],
          "histogram2dcontour": [
           {
            "colorbar": {
             "outlinewidth": 0,
             "ticks": ""
            },
            "colorscale": [
             [
              0,
              "#0d0887"
             ],
             [
              0.1111111111111111,
              "#46039f"
             ],
             [
              0.2222222222222222,
              "#7201a8"
             ],
             [
              0.3333333333333333,
              "#9c179e"
             ],
             [
              0.4444444444444444,
              "#bd3786"
             ],
             [
              0.5555555555555556,
              "#d8576b"
             ],
             [
              0.6666666666666666,
              "#ed7953"
             ],
             [
              0.7777777777777778,
              "#fb9f3a"
             ],
             [
              0.8888888888888888,
              "#fdca26"
             ],
             [
              1,
              "#f0f921"
             ]
            ],
            "type": "histogram2dcontour"
           }
          ],
          "mesh3d": [
           {
            "colorbar": {
             "outlinewidth": 0,
             "ticks": ""
            },
            "type": "mesh3d"
           }
          ],
          "parcoords": [
           {
            "line": {
             "colorbar": {
              "outlinewidth": 0,
              "ticks": ""
             }
            },
            "type": "parcoords"
           }
          ],
          "pie": [
           {
            "automargin": true,
            "type": "pie"
           }
          ],
          "scatter": [
           {
            "fillpattern": {
             "fillmode": "overlay",
             "size": 10,
             "solidity": 0.2
            },
            "type": "scatter"
           }
          ],
          "scatter3d": [
           {
            "line": {
             "colorbar": {
              "outlinewidth": 0,
              "ticks": ""
             }
            },
            "marker": {
             "colorbar": {
              "outlinewidth": 0,
              "ticks": ""
             }
            },
            "type": "scatter3d"
           }
          ],
          "scattercarpet": [
           {
            "marker": {
             "colorbar": {
              "outlinewidth": 0,
              "ticks": ""
             }
            },
            "type": "scattercarpet"
           }
          ],
          "scattergeo": [
           {
            "marker": {
             "colorbar": {
              "outlinewidth": 0,
              "ticks": ""
             }
            },
            "type": "scattergeo"
           }
          ],
          "scattergl": [
           {
            "marker": {
             "colorbar": {
              "outlinewidth": 0,
              "ticks": ""
             }
            },
            "type": "scattergl"
           }
          ],
          "scattermapbox": [
           {
            "marker": {
             "colorbar": {
              "outlinewidth": 0,
              "ticks": ""
             }
            },
            "type": "scattermapbox"
           }
          ],
          "scatterpolar": [
           {
            "marker": {
             "colorbar": {
              "outlinewidth": 0,
              "ticks": ""
             }
            },
            "type": "scatterpolar"
           }
          ],
          "scatterpolargl": [
           {
            "marker": {
             "colorbar": {
              "outlinewidth": 0,
              "ticks": ""
             }
            },
            "type": "scatterpolargl"
           }
          ],
          "scatterternary": [
           {
            "marker": {
             "colorbar": {
              "outlinewidth": 0,
              "ticks": ""
             }
            },
            "type": "scatterternary"
           }
          ],
          "surface": [
           {
            "colorbar": {
             "outlinewidth": 0,
             "ticks": ""
            },
            "colorscale": [
             [
              0,
              "#0d0887"
             ],
             [
              0.1111111111111111,
              "#46039f"
             ],
             [
              0.2222222222222222,
              "#7201a8"
             ],
             [
              0.3333333333333333,
              "#9c179e"
             ],
             [
              0.4444444444444444,
              "#bd3786"
             ],
             [
              0.5555555555555556,
              "#d8576b"
             ],
             [
              0.6666666666666666,
              "#ed7953"
             ],
             [
              0.7777777777777778,
              "#fb9f3a"
             ],
             [
              0.8888888888888888,
              "#fdca26"
             ],
             [
              1,
              "#f0f921"
             ]
            ],
            "type": "surface"
           }
          ],
          "table": [
           {
            "cells": {
             "fill": {
              "color": "#EBF0F8"
             },
             "line": {
              "color": "white"
             }
            },
            "header": {
             "fill": {
              "color": "#C8D4E3"
             },
             "line": {
              "color": "white"
             }
            },
            "type": "table"
           }
          ]
         },
         "layout": {
          "annotationdefaults": {
           "arrowcolor": "#2a3f5f",
           "arrowhead": 0,
           "arrowwidth": 1
          },
          "autotypenumbers": "strict",
          "coloraxis": {
           "colorbar": {
            "outlinewidth": 0,
            "ticks": ""
           }
          },
          "colorscale": {
           "diverging": [
            [
             0,
             "#8e0152"
            ],
            [
             0.1,
             "#c51b7d"
            ],
            [
             0.2,
             "#de77ae"
            ],
            [
             0.3,
             "#f1b6da"
            ],
            [
             0.4,
             "#fde0ef"
            ],
            [
             0.5,
             "#f7f7f7"
            ],
            [
             0.6,
             "#e6f5d0"
            ],
            [
             0.7,
             "#b8e186"
            ],
            [
             0.8,
             "#7fbc41"
            ],
            [
             0.9,
             "#4d9221"
            ],
            [
             1,
             "#276419"
            ]
           ],
           "sequential": [
            [
             0,
             "#0d0887"
            ],
            [
             0.1111111111111111,
             "#46039f"
            ],
            [
             0.2222222222222222,
             "#7201a8"
            ],
            [
             0.3333333333333333,
             "#9c179e"
            ],
            [
             0.4444444444444444,
             "#bd3786"
            ],
            [
             0.5555555555555556,
             "#d8576b"
            ],
            [
             0.6666666666666666,
             "#ed7953"
            ],
            [
             0.7777777777777778,
             "#fb9f3a"
            ],
            [
             0.8888888888888888,
             "#fdca26"
            ],
            [
             1,
             "#f0f921"
            ]
           ],
           "sequentialminus": [
            [
             0,
             "#0d0887"
            ],
            [
             0.1111111111111111,
             "#46039f"
            ],
            [
             0.2222222222222222,
             "#7201a8"
            ],
            [
             0.3333333333333333,
             "#9c179e"
            ],
            [
             0.4444444444444444,
             "#bd3786"
            ],
            [
             0.5555555555555556,
             "#d8576b"
            ],
            [
             0.6666666666666666,
             "#ed7953"
            ],
            [
             0.7777777777777778,
             "#fb9f3a"
            ],
            [
             0.8888888888888888,
             "#fdca26"
            ],
            [
             1,
             "#f0f921"
            ]
           ]
          },
          "colorway": [
           "#636efa",
           "#EF553B",
           "#00cc96",
           "#ab63fa",
           "#FFA15A",
           "#19d3f3",
           "#FF6692",
           "#B6E880",
           "#FF97FF",
           "#FECB52"
          ],
          "font": {
           "color": "#2a3f5f"
          },
          "geo": {
           "bgcolor": "white",
           "lakecolor": "white",
           "landcolor": "#E5ECF6",
           "showlakes": true,
           "showland": true,
           "subunitcolor": "white"
          },
          "hoverlabel": {
           "align": "left"
          },
          "hovermode": "closest",
          "mapbox": {
           "style": "light"
          },
          "paper_bgcolor": "white",
          "plot_bgcolor": "#E5ECF6",
          "polar": {
           "angularaxis": {
            "gridcolor": "white",
            "linecolor": "white",
            "ticks": ""
           },
           "bgcolor": "#E5ECF6",
           "radialaxis": {
            "gridcolor": "white",
            "linecolor": "white",
            "ticks": ""
           }
          },
          "scene": {
           "xaxis": {
            "backgroundcolor": "#E5ECF6",
            "gridcolor": "white",
            "gridwidth": 2,
            "linecolor": "white",
            "showbackground": true,
            "ticks": "",
            "zerolinecolor": "white"
           },
           "yaxis": {
            "backgroundcolor": "#E5ECF6",
            "gridcolor": "white",
            "gridwidth": 2,
            "linecolor": "white",
            "showbackground": true,
            "ticks": "",
            "zerolinecolor": "white"
           },
           "zaxis": {
            "backgroundcolor": "#E5ECF6",
            "gridcolor": "white",
            "gridwidth": 2,
            "linecolor": "white",
            "showbackground": true,
            "ticks": "",
            "zerolinecolor": "white"
           }
          },
          "shapedefaults": {
           "line": {
            "color": "#2a3f5f"
           }
          },
          "ternary": {
           "aaxis": {
            "gridcolor": "white",
            "linecolor": "white",
            "ticks": ""
           },
           "baxis": {
            "gridcolor": "white",
            "linecolor": "white",
            "ticks": ""
           },
           "bgcolor": "#E5ECF6",
           "caxis": {
            "gridcolor": "white",
            "linecolor": "white",
            "ticks": ""
           }
          },
          "title": {
           "x": 0.05
          },
          "xaxis": {
           "automargin": true,
           "gridcolor": "white",
           "linecolor": "white",
           "ticks": "",
           "title": {
            "standoff": 15
           },
           "zerolinecolor": "white",
           "zerolinewidth": 2
          },
          "yaxis": {
           "automargin": true,
           "gridcolor": "white",
           "linecolor": "white",
           "ticks": "",
           "title": {
            "standoff": 15
           },
           "zerolinecolor": "white",
           "zerolinewidth": 2
          }
         }
        },
        "xaxis": {
         "anchor": "y",
         "domain": [
          0,
          1
         ],
         "title": {
          "text": "Количество стартовых вершин"
         }
        },
        "yaxis": {
         "anchor": "x",
         "domain": [
          0,
          1
         ],
         "title": {
          "text": "Время"
         }
        }
       }
      }
     },
     "metadata": {},
     "output_type": "display_data"
    }
   ],
   "source": [
    "px.scatter(resume, x = 'Количество стартовых вершин', y = 'Время', color = 'Уровень push/pull')"
   ]
  },
  {
   "cell_type": "code",
   "execution_count": 131,
   "id": "72d047ce",
   "metadata": {},
   "outputs": [
    {
     "data": {
      "application/vnd.plotly.v1+json": {
       "config": {
        "plotlyServerURL": "https://plot.ly"
       },
       "data": [
        {
         "hovertemplate": "Уровень push/pull=%{x}<br>Время=%{y}<br>Количество вершин=%{marker.color}<extra></extra>",
         "legendgroup": "",
         "marker": {
          "color": [
           400,
           400,
           400,
           400,
           400,
           400,
           400,
           400,
           400,
           400,
           400,
           400,
           400,
           400,
           400,
           400,
           400,
           400,
           400,
           400,
           400,
           400,
           400,
           400,
           400,
           400,
           400,
           400,
           400,
           400,
           400,
           400,
           400,
           400,
           400,
           400,
           400,
           400,
           400,
           400,
           400,
           400,
           600,
           600,
           600,
           600,
           600,
           600,
           600,
           600,
           600,
           600,
           600,
           600,
           600,
           600,
           600,
           600,
           600,
           600,
           600,
           600,
           600,
           600,
           600,
           600,
           600,
           600,
           600,
           600,
           600,
           600,
           600,
           600,
           600,
           600,
           600,
           600,
           600,
           600,
           600,
           600,
           600,
           600,
           1000,
           1000,
           1000,
           1000,
           1000,
           1000,
           1000,
           1000,
           1000,
           1000,
           1000,
           1000,
           1000,
           1000,
           1000,
           1000,
           1000,
           1000,
           1000,
           1000,
           1000,
           1000,
           1000,
           1000,
           1000,
           1000,
           1000,
           1000,
           1000,
           1000,
           1000,
           1000,
           1000,
           1000,
           1000,
           1000,
           1000,
           1000,
           1000,
           1000,
           1000,
           1000,
           2000,
           2000,
           2000,
           2000,
           2000,
           2000,
           2000,
           2000,
           2000,
           2000,
           2000,
           2000,
           2000,
           2000,
           2000,
           2000,
           2000,
           2000,
           2000,
           2000,
           2000,
           2000,
           2000,
           2000,
           2000,
           2000,
           2000,
           2000,
           2000,
           2000,
           2000,
           2000,
           2000,
           2000,
           2000,
           2000,
           2000,
           2000,
           2000,
           2000,
           2000,
           2000,
           3000,
           3000,
           3000,
           3000,
           3000,
           3000,
           3000,
           3000,
           3000,
           3000,
           3000,
           3000,
           3000,
           3000,
           3000,
           3000,
           3000,
           3000,
           3000,
           3000,
           3000,
           3000,
           3000,
           3000,
           3000,
           3000,
           3000,
           3000,
           3000,
           3000,
           3000,
           3000,
           3000,
           3000,
           3000,
           3000,
           3000,
           3000,
           3000,
           3000,
           3000,
           3000,
           5000,
           5000,
           5000,
           5000,
           5000,
           5000,
           5000,
           5000,
           5000,
           5000,
           5000,
           5000,
           5000,
           5000,
           5000,
           5000,
           5000,
           5000,
           5000,
           5000,
           5000,
           5000,
           5000,
           5000,
           5000,
           5000,
           5000,
           5000,
           5000,
           5000,
           5000,
           5000,
           5000,
           5000,
           5000,
           5000,
           5000,
           5000,
           5000,
           5000,
           5000,
           5000
          ],
          "coloraxis": "coloraxis",
          "symbol": "circle"
         },
         "mode": "markers",
         "name": "",
         "orientation": "v",
         "showlegend": false,
         "type": "scatter",
         "x": [
          0,
          0.1,
          0.3,
          0.5,
          0.7,
          1,
          0,
          0.1,
          0.3,
          0.5,
          0.7,
          1,
          0,
          0.1,
          0.3,
          0.5,
          0.7,
          1,
          0,
          0.1,
          0.3,
          0.5,
          0.7,
          1,
          0,
          0.1,
          0.3,
          0.5,
          0.7,
          1,
          0,
          0.1,
          0.3,
          0.5,
          0.7,
          1,
          0,
          0.1,
          0.3,
          0.5,
          0.7,
          1,
          0,
          0.1,
          0.3,
          0.5,
          0.7,
          1,
          0,
          0.1,
          0.3,
          0.5,
          0.7,
          1,
          0,
          0.1,
          0.3,
          0.5,
          0.7,
          1,
          0,
          0.1,
          0.3,
          0.5,
          0.7,
          1,
          0,
          0.1,
          0.3,
          0.5,
          0.7,
          1,
          0,
          0.1,
          0.3,
          0.5,
          0.7,
          1,
          0,
          0.1,
          0.3,
          0.5,
          0.7,
          1,
          0,
          0.1,
          0.3,
          0.5,
          0.7,
          1,
          0,
          0.1,
          0.3,
          0.5,
          0.7,
          1,
          0,
          0.1,
          0.3,
          0.5,
          0.7,
          1,
          0,
          0.1,
          0.3,
          0.5,
          0.7,
          1,
          0,
          0.1,
          0.3,
          0.5,
          0.7,
          1,
          0,
          0.1,
          0.3,
          0.5,
          0.7,
          1,
          0,
          0.1,
          0.3,
          0.5,
          0.7,
          1,
          0,
          0.1,
          0.3,
          0.5,
          0.7,
          1,
          0,
          0.1,
          0.3,
          0.5,
          0.7,
          1,
          0,
          0.1,
          0.3,
          0.5,
          0.7,
          1,
          0,
          0.1,
          0.3,
          0.5,
          0.7,
          1,
          0,
          0.1,
          0.3,
          0.5,
          0.7,
          1,
          0,
          0.1,
          0.3,
          0.5,
          0.7,
          1,
          0,
          0.1,
          0.3,
          0.5,
          0.7,
          1,
          0,
          0.1,
          0.3,
          0.5,
          0.7,
          1,
          0,
          0.1,
          0.3,
          0.5,
          0.7,
          1,
          0,
          0.1,
          0.3,
          0.5,
          0.7,
          1,
          0,
          0.1,
          0.3,
          0.5,
          0.7,
          1,
          0,
          0.1,
          0.3,
          0.5,
          0.7,
          1,
          0,
          0.1,
          0.3,
          0.5,
          0.7,
          1,
          0,
          0.1,
          0.3,
          0.5,
          0.7,
          1,
          0,
          0.1,
          0.3,
          0.5,
          0.7,
          1,
          0,
          0.1,
          0.3,
          0.5,
          0.7,
          1,
          0,
          0.1,
          0.3,
          0.5,
          0.7,
          1,
          0,
          0.1,
          0.3,
          0.5,
          0.7,
          1,
          0,
          0.1,
          0.3,
          0.5,
          0.7,
          1,
          0,
          0.1,
          0.3,
          0.5,
          0.7,
          1,
          0,
          0.1,
          0.3,
          0.5,
          0.7,
          1
         ],
         "xaxis": "x",
         "y": [
          0.013108253479003906,
          0.019651174545288086,
          0.0052032470703125,
          0.020044803619384766,
          0.011794567108154297,
          0.01533961296081543,
          0.010998249053955078,
          0.005231380462646484,
          0.013522863388061523,
          0.0199735164642334,
          0.01220846176147461,
          0.0018422603607177734,
          0.014668464660644531,
          0.02070474624633789,
          0.016780376434326172,
          0.015784740447998047,
          0.017148971557617188,
          0.016467809677124023,
          0.01464986801147461,
          0.017077922821044922,
          0.016749143600463867,
          0.0180203914642334,
          0.01486825942993164,
          0.007888317108154297,
          0.01567554473876953,
          0,
          0.0164947509765625,
          0.021196842193603516,
          0.011833906173706055,
          0,
          0.016866445541381836,
          0.02310323715209961,
          0.012906789779663086,
          0.013106107711791992,
          0,
          0.02647686004638672,
          0.005789279937744141,
          0.0193784236907959,
          0.012174844741821289,
          0.003647327423095703,
          0.020566225051879883,
          0.0072247982025146484,
          0.021178245544433594,
          0.026317596435546875,
          0.02344512939453125,
          0.023049116134643555,
          0.0344846248626709,
          0.011700630187988281,
          0.030682802200317383,
          0.02238178253173828,
          0.009212732315063477,
          0.02644062042236328,
          0.02178955078125,
          0.009886980056762695,
          0.016808509826660156,
          0.015695571899414062,
          0.019730091094970703,
          0.031270742416381836,
          0.024037599563598633,
          0.01985645294189453,
          0.019523143768310547,
          0.036833763122558594,
          0.021642684936523438,
          0.024604082107543945,
          0.02177882194519043,
          0.026746034622192383,
          0.027465343475341797,
          0.022432804107666016,
          0.01163625717163086,
          0.024646282196044922,
          0.017993688583374023,
          0.018102407455444336,
          0.022286415100097656,
          0.013023614883422852,
          0.01566791534423828,
          0.03127241134643555,
          0.021069765090942383,
          0.017325878143310547,
          0.014580249786376953,
          0.004820823669433594,
          0.031331539154052734,
          0.01562047004699707,
          0.020910263061523438,
          0.014002799987792969,
          0.046875953674316406,
          0.03132319450378418,
          0.018241167068481445,
          0.03134799003601074,
          0.031241655349731445,
          0.03988504409790039,
          0.015695810317993164,
          0.031222820281982422,
          0.03127789497375488,
          0.04007434844970703,
          0.022544384002685547,
          0.030649185180664062,
          0.022318124771118164,
          0.03050684928894043,
          0.030544281005859375,
          0.03708648681640625,
          0.023421049118041992,
          0.030717849731445312,
          0.030783891677856445,
          0.030586957931518555,
          0.030585289001464844,
          0.0307462215423584,
          0.030704259872436523,
          0.026880264282226562,
          0.03263425827026367,
          0.0307466983795166,
          0.030656814575195312,
          0.030575990676879883,
          0.028403043746948242,
          0.028409957885742188,
          0.030479907989501953,
          0.022470474243164062,
          0.022466421127319336,
          0.03040003776550293,
          0.030709505081176758,
          0.02256917953491211,
          0.028609514236450195,
          0.024676799774169922,
          0.030838966369628906,
          0.030648231506347656,
          0.04091382026672363,
          0.0505223274230957,
          0.061156272888183594,
          0.05305910110473633,
          0.06087994575500488,
          0.06170773506164551,
          0.059152841567993164,
          0.05282902717590332,
          0.06131172180175781,
          0.05984830856323242,
          0.052324771881103516,
          0.06130337715148926,
          0.059249162673950195,
          0.07766294479370117,
          0.0856180191040039,
          0.06523346900939941,
          0.06527066230773926,
          0.07118439674377441,
          0.07992696762084961,
          0.0840003490447998,
          0.08342361450195312,
          0.07731080055236816,
          0.0709376335144043,
          0.2543222904205322,
          0.17484664916992188,
          0.08324050903320312,
          0.08162927627563477,
          0.08295583724975586,
          0.07610273361206055,
          0.0671689510345459,
          0.06611800193786621,
          0.07978940010070801,
          0.0766298770904541,
          0.08326554298400879,
          0.0666968822479248,
          0.08285021781921387,
          0.06699681282043457,
          0.08134293556213379,
          0.0698394775390625,
          0.06655144691467285,
          0.08390164375305176,
          0.0843956470489502,
          0.06635761260986328,
          0.08478760719299316,
          0.12296605110168457,
          0.13329029083251953,
          0.1158905029296875,
          0.11657285690307617,
          0.10975217819213867,
          0.09254693984985352,
          0.07680082321166992,
          0.08645224571228027,
          0.10236525535583496,
          0.09893441200256348,
          0.0951082706451416,
          0.0968482494354248,
          0.09183168411254883,
          0.08711981773376465,
          0.07175731658935547,
          0.10302114486694336,
          0.11490416526794434,
          0.11954712867736816,
          0.1149749755859375,
          0.11670231819152832,
          0.10363388061523438,
          0.10479450225830078,
          0.0923914909362793,
          0.10058999061584473,
          0.10151982307434082,
          0.11395978927612305,
          0.10095334053039551,
          0.09681224822998047,
          0.09887051582336426,
          0.10296487808227539,
          0.10140585899353027,
          0.09105443954467773,
          0.07807779312133789,
          0.08420467376708984,
          0.10020923614501953,
          0.08682012557983398,
          0.1233527660369873,
          0.08186912536621094,
          0.08375263214111328,
          0.08968663215637207,
          0.08132767677307129,
          0.09121966361999512,
          0.14311981201171875,
          0.1447739601135254,
          0.14081311225891113,
          0.14252710342407227,
          0.14223456382751465,
          0.14284682273864746,
          0.14284038543701172,
          0.1507272720336914,
          0.1524512767791748,
          0.13150954246520996,
          0.15266919136047363,
          0.1430201530456543,
          0.14296483993530273,
          0.1423940658569336,
          0.14277267456054688,
          0.15343451499938965,
          0.14322566986083984,
          0.1434614658355713,
          0.20462965965270996,
          0.1425774097442627,
          0.14250993728637695,
          0.1351463794708252,
          0.16084957122802734,
          0.17368507385253906,
          0.2167370319366455,
          0.2131972312927246,
          0.18850159645080566,
          0.14381766319274902,
          0.15715265274047852,
          0.13071060180664062,
          0.14679956436157227,
          0.16605854034423828,
          0.1714644432067871,
          0.17245078086853027,
          0.18303632736206055,
          0.1997852325439453,
          0.1832265853881836,
          0.1756906509399414,
          0.1890242099761963,
          0.15652036666870117,
          0.14966058731079102,
          0.15878748893737793
         ],
         "yaxis": "y"
        }
       ],
       "layout": {
        "coloraxis": {
         "colorbar": {
          "title": {
           "text": "Количество вершин"
          }
         },
         "colorscale": [
          [
           0,
           "#0d0887"
          ],
          [
           0.1111111111111111,
           "#46039f"
          ],
          [
           0.2222222222222222,
           "#7201a8"
          ],
          [
           0.3333333333333333,
           "#9c179e"
          ],
          [
           0.4444444444444444,
           "#bd3786"
          ],
          [
           0.5555555555555556,
           "#d8576b"
          ],
          [
           0.6666666666666666,
           "#ed7953"
          ],
          [
           0.7777777777777778,
           "#fb9f3a"
          ],
          [
           0.8888888888888888,
           "#fdca26"
          ],
          [
           1,
           "#f0f921"
          ]
         ]
        },
        "legend": {
         "tracegroupgap": 0
        },
        "margin": {
         "t": 60
        },
        "template": {
         "data": {
          "bar": [
           {
            "error_x": {
             "color": "#2a3f5f"
            },
            "error_y": {
             "color": "#2a3f5f"
            },
            "marker": {
             "line": {
              "color": "#E5ECF6",
              "width": 0.5
             },
             "pattern": {
              "fillmode": "overlay",
              "size": 10,
              "solidity": 0.2
             }
            },
            "type": "bar"
           }
          ],
          "barpolar": [
           {
            "marker": {
             "line": {
              "color": "#E5ECF6",
              "width": 0.5
             },
             "pattern": {
              "fillmode": "overlay",
              "size": 10,
              "solidity": 0.2
             }
            },
            "type": "barpolar"
           }
          ],
          "carpet": [
           {
            "aaxis": {
             "endlinecolor": "#2a3f5f",
             "gridcolor": "white",
             "linecolor": "white",
             "minorgridcolor": "white",
             "startlinecolor": "#2a3f5f"
            },
            "baxis": {
             "endlinecolor": "#2a3f5f",
             "gridcolor": "white",
             "linecolor": "white",
             "minorgridcolor": "white",
             "startlinecolor": "#2a3f5f"
            },
            "type": "carpet"
           }
          ],
          "choropleth": [
           {
            "colorbar": {
             "outlinewidth": 0,
             "ticks": ""
            },
            "type": "choropleth"
           }
          ],
          "contour": [
           {
            "colorbar": {
             "outlinewidth": 0,
             "ticks": ""
            },
            "colorscale": [
             [
              0,
              "#0d0887"
             ],
             [
              0.1111111111111111,
              "#46039f"
             ],
             [
              0.2222222222222222,
              "#7201a8"
             ],
             [
              0.3333333333333333,
              "#9c179e"
             ],
             [
              0.4444444444444444,
              "#bd3786"
             ],
             [
              0.5555555555555556,
              "#d8576b"
             ],
             [
              0.6666666666666666,
              "#ed7953"
             ],
             [
              0.7777777777777778,
              "#fb9f3a"
             ],
             [
              0.8888888888888888,
              "#fdca26"
             ],
             [
              1,
              "#f0f921"
             ]
            ],
            "type": "contour"
           }
          ],
          "contourcarpet": [
           {
            "colorbar": {
             "outlinewidth": 0,
             "ticks": ""
            },
            "type": "contourcarpet"
           }
          ],
          "heatmap": [
           {
            "colorbar": {
             "outlinewidth": 0,
             "ticks": ""
            },
            "colorscale": [
             [
              0,
              "#0d0887"
             ],
             [
              0.1111111111111111,
              "#46039f"
             ],
             [
              0.2222222222222222,
              "#7201a8"
             ],
             [
              0.3333333333333333,
              "#9c179e"
             ],
             [
              0.4444444444444444,
              "#bd3786"
             ],
             [
              0.5555555555555556,
              "#d8576b"
             ],
             [
              0.6666666666666666,
              "#ed7953"
             ],
             [
              0.7777777777777778,
              "#fb9f3a"
             ],
             [
              0.8888888888888888,
              "#fdca26"
             ],
             [
              1,
              "#f0f921"
             ]
            ],
            "type": "heatmap"
           }
          ],
          "heatmapgl": [
           {
            "colorbar": {
             "outlinewidth": 0,
             "ticks": ""
            },
            "colorscale": [
             [
              0,
              "#0d0887"
             ],
             [
              0.1111111111111111,
              "#46039f"
             ],
             [
              0.2222222222222222,
              "#7201a8"
             ],
             [
              0.3333333333333333,
              "#9c179e"
             ],
             [
              0.4444444444444444,
              "#bd3786"
             ],
             [
              0.5555555555555556,
              "#d8576b"
             ],
             [
              0.6666666666666666,
              "#ed7953"
             ],
             [
              0.7777777777777778,
              "#fb9f3a"
             ],
             [
              0.8888888888888888,
              "#fdca26"
             ],
             [
              1,
              "#f0f921"
             ]
            ],
            "type": "heatmapgl"
           }
          ],
          "histogram": [
           {
            "marker": {
             "pattern": {
              "fillmode": "overlay",
              "size": 10,
              "solidity": 0.2
             }
            },
            "type": "histogram"
           }
          ],
          "histogram2d": [
           {
            "colorbar": {
             "outlinewidth": 0,
             "ticks": ""
            },
            "colorscale": [
             [
              0,
              "#0d0887"
             ],
             [
              0.1111111111111111,
              "#46039f"
             ],
             [
              0.2222222222222222,
              "#7201a8"
             ],
             [
              0.3333333333333333,
              "#9c179e"
             ],
             [
              0.4444444444444444,
              "#bd3786"
             ],
             [
              0.5555555555555556,
              "#d8576b"
             ],
             [
              0.6666666666666666,
              "#ed7953"
             ],
             [
              0.7777777777777778,
              "#fb9f3a"
             ],
             [
              0.8888888888888888,
              "#fdca26"
             ],
             [
              1,
              "#f0f921"
             ]
            ],
            "type": "histogram2d"
           }
          ],
          "histogram2dcontour": [
           {
            "colorbar": {
             "outlinewidth": 0,
             "ticks": ""
            },
            "colorscale": [
             [
              0,
              "#0d0887"
             ],
             [
              0.1111111111111111,
              "#46039f"
             ],
             [
              0.2222222222222222,
              "#7201a8"
             ],
             [
              0.3333333333333333,
              "#9c179e"
             ],
             [
              0.4444444444444444,
              "#bd3786"
             ],
             [
              0.5555555555555556,
              "#d8576b"
             ],
             [
              0.6666666666666666,
              "#ed7953"
             ],
             [
              0.7777777777777778,
              "#fb9f3a"
             ],
             [
              0.8888888888888888,
              "#fdca26"
             ],
             [
              1,
              "#f0f921"
             ]
            ],
            "type": "histogram2dcontour"
           }
          ],
          "mesh3d": [
           {
            "colorbar": {
             "outlinewidth": 0,
             "ticks": ""
            },
            "type": "mesh3d"
           }
          ],
          "parcoords": [
           {
            "line": {
             "colorbar": {
              "outlinewidth": 0,
              "ticks": ""
             }
            },
            "type": "parcoords"
           }
          ],
          "pie": [
           {
            "automargin": true,
            "type": "pie"
           }
          ],
          "scatter": [
           {
            "fillpattern": {
             "fillmode": "overlay",
             "size": 10,
             "solidity": 0.2
            },
            "type": "scatter"
           }
          ],
          "scatter3d": [
           {
            "line": {
             "colorbar": {
              "outlinewidth": 0,
              "ticks": ""
             }
            },
            "marker": {
             "colorbar": {
              "outlinewidth": 0,
              "ticks": ""
             }
            },
            "type": "scatter3d"
           }
          ],
          "scattercarpet": [
           {
            "marker": {
             "colorbar": {
              "outlinewidth": 0,
              "ticks": ""
             }
            },
            "type": "scattercarpet"
           }
          ],
          "scattergeo": [
           {
            "marker": {
             "colorbar": {
              "outlinewidth": 0,
              "ticks": ""
             }
            },
            "type": "scattergeo"
           }
          ],
          "scattergl": [
           {
            "marker": {
             "colorbar": {
              "outlinewidth": 0,
              "ticks": ""
             }
            },
            "type": "scattergl"
           }
          ],
          "scattermapbox": [
           {
            "marker": {
             "colorbar": {
              "outlinewidth": 0,
              "ticks": ""
             }
            },
            "type": "scattermapbox"
           }
          ],
          "scatterpolar": [
           {
            "marker": {
             "colorbar": {
              "outlinewidth": 0,
              "ticks": ""
             }
            },
            "type": "scatterpolar"
           }
          ],
          "scatterpolargl": [
           {
            "marker": {
             "colorbar": {
              "outlinewidth": 0,
              "ticks": ""
             }
            },
            "type": "scatterpolargl"
           }
          ],
          "scatterternary": [
           {
            "marker": {
             "colorbar": {
              "outlinewidth": 0,
              "ticks": ""
             }
            },
            "type": "scatterternary"
           }
          ],
          "surface": [
           {
            "colorbar": {
             "outlinewidth": 0,
             "ticks": ""
            },
            "colorscale": [
             [
              0,
              "#0d0887"
             ],
             [
              0.1111111111111111,
              "#46039f"
             ],
             [
              0.2222222222222222,
              "#7201a8"
             ],
             [
              0.3333333333333333,
              "#9c179e"
             ],
             [
              0.4444444444444444,
              "#bd3786"
             ],
             [
              0.5555555555555556,
              "#d8576b"
             ],
             [
              0.6666666666666666,
              "#ed7953"
             ],
             [
              0.7777777777777778,
              "#fb9f3a"
             ],
             [
              0.8888888888888888,
              "#fdca26"
             ],
             [
              1,
              "#f0f921"
             ]
            ],
            "type": "surface"
           }
          ],
          "table": [
           {
            "cells": {
             "fill": {
              "color": "#EBF0F8"
             },
             "line": {
              "color": "white"
             }
            },
            "header": {
             "fill": {
              "color": "#C8D4E3"
             },
             "line": {
              "color": "white"
             }
            },
            "type": "table"
           }
          ]
         },
         "layout": {
          "annotationdefaults": {
           "arrowcolor": "#2a3f5f",
           "arrowhead": 0,
           "arrowwidth": 1
          },
          "autotypenumbers": "strict",
          "coloraxis": {
           "colorbar": {
            "outlinewidth": 0,
            "ticks": ""
           }
          },
          "colorscale": {
           "diverging": [
            [
             0,
             "#8e0152"
            ],
            [
             0.1,
             "#c51b7d"
            ],
            [
             0.2,
             "#de77ae"
            ],
            [
             0.3,
             "#f1b6da"
            ],
            [
             0.4,
             "#fde0ef"
            ],
            [
             0.5,
             "#f7f7f7"
            ],
            [
             0.6,
             "#e6f5d0"
            ],
            [
             0.7,
             "#b8e186"
            ],
            [
             0.8,
             "#7fbc41"
            ],
            [
             0.9,
             "#4d9221"
            ],
            [
             1,
             "#276419"
            ]
           ],
           "sequential": [
            [
             0,
             "#0d0887"
            ],
            [
             0.1111111111111111,
             "#46039f"
            ],
            [
             0.2222222222222222,
             "#7201a8"
            ],
            [
             0.3333333333333333,
             "#9c179e"
            ],
            [
             0.4444444444444444,
             "#bd3786"
            ],
            [
             0.5555555555555556,
             "#d8576b"
            ],
            [
             0.6666666666666666,
             "#ed7953"
            ],
            [
             0.7777777777777778,
             "#fb9f3a"
            ],
            [
             0.8888888888888888,
             "#fdca26"
            ],
            [
             1,
             "#f0f921"
            ]
           ],
           "sequentialminus": [
            [
             0,
             "#0d0887"
            ],
            [
             0.1111111111111111,
             "#46039f"
            ],
            [
             0.2222222222222222,
             "#7201a8"
            ],
            [
             0.3333333333333333,
             "#9c179e"
            ],
            [
             0.4444444444444444,
             "#bd3786"
            ],
            [
             0.5555555555555556,
             "#d8576b"
            ],
            [
             0.6666666666666666,
             "#ed7953"
            ],
            [
             0.7777777777777778,
             "#fb9f3a"
            ],
            [
             0.8888888888888888,
             "#fdca26"
            ],
            [
             1,
             "#f0f921"
            ]
           ]
          },
          "colorway": [
           "#636efa",
           "#EF553B",
           "#00cc96",
           "#ab63fa",
           "#FFA15A",
           "#19d3f3",
           "#FF6692",
           "#B6E880",
           "#FF97FF",
           "#FECB52"
          ],
          "font": {
           "color": "#2a3f5f"
          },
          "geo": {
           "bgcolor": "white",
           "lakecolor": "white",
           "landcolor": "#E5ECF6",
           "showlakes": true,
           "showland": true,
           "subunitcolor": "white"
          },
          "hoverlabel": {
           "align": "left"
          },
          "hovermode": "closest",
          "mapbox": {
           "style": "light"
          },
          "paper_bgcolor": "white",
          "plot_bgcolor": "#E5ECF6",
          "polar": {
           "angularaxis": {
            "gridcolor": "white",
            "linecolor": "white",
            "ticks": ""
           },
           "bgcolor": "#E5ECF6",
           "radialaxis": {
            "gridcolor": "white",
            "linecolor": "white",
            "ticks": ""
           }
          },
          "scene": {
           "xaxis": {
            "backgroundcolor": "#E5ECF6",
            "gridcolor": "white",
            "gridwidth": 2,
            "linecolor": "white",
            "showbackground": true,
            "ticks": "",
            "zerolinecolor": "white"
           },
           "yaxis": {
            "backgroundcolor": "#E5ECF6",
            "gridcolor": "white",
            "gridwidth": 2,
            "linecolor": "white",
            "showbackground": true,
            "ticks": "",
            "zerolinecolor": "white"
           },
           "zaxis": {
            "backgroundcolor": "#E5ECF6",
            "gridcolor": "white",
            "gridwidth": 2,
            "linecolor": "white",
            "showbackground": true,
            "ticks": "",
            "zerolinecolor": "white"
           }
          },
          "shapedefaults": {
           "line": {
            "color": "#2a3f5f"
           }
          },
          "ternary": {
           "aaxis": {
            "gridcolor": "white",
            "linecolor": "white",
            "ticks": ""
           },
           "baxis": {
            "gridcolor": "white",
            "linecolor": "white",
            "ticks": ""
           },
           "bgcolor": "#E5ECF6",
           "caxis": {
            "gridcolor": "white",
            "linecolor": "white",
            "ticks": ""
           }
          },
          "title": {
           "x": 0.05
          },
          "xaxis": {
           "automargin": true,
           "gridcolor": "white",
           "linecolor": "white",
           "ticks": "",
           "title": {
            "standoff": 15
           },
           "zerolinecolor": "white",
           "zerolinewidth": 2
          },
          "yaxis": {
           "automargin": true,
           "gridcolor": "white",
           "linecolor": "white",
           "ticks": "",
           "title": {
            "standoff": 15
           },
           "zerolinecolor": "white",
           "zerolinewidth": 2
          }
         }
        },
        "xaxis": {
         "anchor": "y",
         "domain": [
          0,
          1
         ],
         "title": {
          "text": "Уровень push/pull"
         }
        },
        "yaxis": {
         "anchor": "x",
         "domain": [
          0,
          1
         ],
         "title": {
          "text": "Время"
         }
        }
       }
      }
     },
     "metadata": {},
     "output_type": "display_data"
    }
   ],
   "source": [
    "px.scatter(resume, x = 'Уровень push/pull', y = 'Время', color = 'Количество вершин')"
   ]
  },
  {
   "cell_type": "code",
   "execution_count": 139,
   "id": "864d3dbd",
   "metadata": {},
   "outputs": [
    {
     "data": {
      "text/html": [
       "<div>\n",
       "<style scoped>\n",
       "    .dataframe tbody tr th:only-of-type {\n",
       "        vertical-align: middle;\n",
       "    }\n",
       "\n",
       "    .dataframe tbody tr th {\n",
       "        vertical-align: top;\n",
       "    }\n",
       "\n",
       "    .dataframe thead th {\n",
       "        text-align: right;\n",
       "    }\n",
       "</style>\n",
       "<table border=\"1\" class=\"dataframe\">\n",
       "  <thead>\n",
       "    <tr style=\"text-align: right;\">\n",
       "      <th></th>\n",
       "      <th>Функция</th>\n",
       "      <th>Количество вершин</th>\n",
       "      <th>Степень разреженности</th>\n",
       "      <th>Количество стартовых вершин</th>\n",
       "      <th>Уровень push/pull</th>\n",
       "      <th>Время</th>\n",
       "    </tr>\n",
       "  </thead>\n",
       "  <tbody>\n",
       "    <tr>\n",
       "      <th>0</th>\n",
       "      <td>classic</td>\n",
       "      <td>400</td>\n",
       "      <td>0.1</td>\n",
       "      <td>40</td>\n",
       "      <td>NaN</td>\n",
       "      <td>0.004465</td>\n",
       "    </tr>\n",
       "    <tr>\n",
       "      <th>1</th>\n",
       "      <td>push_pull</td>\n",
       "      <td>400</td>\n",
       "      <td>0.1</td>\n",
       "      <td>40</td>\n",
       "      <td>0.0</td>\n",
       "      <td>0.018927</td>\n",
       "    </tr>\n",
       "    <tr>\n",
       "      <th>2</th>\n",
       "      <td>classic</td>\n",
       "      <td>400</td>\n",
       "      <td>0.1</td>\n",
       "      <td>40</td>\n",
       "      <td>NaN</td>\n",
       "      <td>0.010441</td>\n",
       "    </tr>\n",
       "    <tr>\n",
       "      <th>3</th>\n",
       "      <td>push_pull</td>\n",
       "      <td>400</td>\n",
       "      <td>0.1</td>\n",
       "      <td>40</td>\n",
       "      <td>0.1</td>\n",
       "      <td>0.011998</td>\n",
       "    </tr>\n",
       "    <tr>\n",
       "      <th>4</th>\n",
       "      <td>classic</td>\n",
       "      <td>400</td>\n",
       "      <td>0.1</td>\n",
       "      <td>40</td>\n",
       "      <td>NaN</td>\n",
       "      <td>0.005455</td>\n",
       "    </tr>\n",
       "    <tr>\n",
       "      <th>...</th>\n",
       "      <td>...</td>\n",
       "      <td>...</td>\n",
       "      <td>...</td>\n",
       "      <td>...</td>\n",
       "      <td>...</td>\n",
       "      <td>...</td>\n",
       "    </tr>\n",
       "    <tr>\n",
       "      <th>415</th>\n",
       "      <td>push_pull</td>\n",
       "      <td>5000</td>\n",
       "      <td>1.0</td>\n",
       "      <td>500</td>\n",
       "      <td>0.5</td>\n",
       "      <td>0.142575</td>\n",
       "    </tr>\n",
       "    <tr>\n",
       "      <th>416</th>\n",
       "      <td>classic</td>\n",
       "      <td>5000</td>\n",
       "      <td>1.0</td>\n",
       "      <td>500</td>\n",
       "      <td>NaN</td>\n",
       "      <td>0.080150</td>\n",
       "    </tr>\n",
       "    <tr>\n",
       "      <th>417</th>\n",
       "      <td>push_pull</td>\n",
       "      <td>5000</td>\n",
       "      <td>1.0</td>\n",
       "      <td>500</td>\n",
       "      <td>0.7</td>\n",
       "      <td>0.140224</td>\n",
       "    </tr>\n",
       "    <tr>\n",
       "      <th>418</th>\n",
       "      <td>classic</td>\n",
       "      <td>5000</td>\n",
       "      <td>1.0</td>\n",
       "      <td>500</td>\n",
       "      <td>NaN</td>\n",
       "      <td>0.089180</td>\n",
       "    </tr>\n",
       "    <tr>\n",
       "      <th>419</th>\n",
       "      <td>push_pull</td>\n",
       "      <td>5000</td>\n",
       "      <td>1.0</td>\n",
       "      <td>500</td>\n",
       "      <td>1.0</td>\n",
       "      <td>0.145659</td>\n",
       "    </tr>\n",
       "  </tbody>\n",
       "</table>\n",
       "<p>420 rows × 6 columns</p>\n",
       "</div>"
      ],
      "text/plain": [
       "       Функция  Количество вершин  Степень разреженности  \\\n",
       "0      classic                400                    0.1   \n",
       "1    push_pull                400                    0.1   \n",
       "2      classic                400                    0.1   \n",
       "3    push_pull                400                    0.1   \n",
       "4      classic                400                    0.1   \n",
       "..         ...                ...                    ...   \n",
       "415  push_pull               5000                    1.0   \n",
       "416    classic               5000                    1.0   \n",
       "417  push_pull               5000                    1.0   \n",
       "418    classic               5000                    1.0   \n",
       "419  push_pull               5000                    1.0   \n",
       "\n",
       "     Количество стартовых вершин  Уровень push/pull     Время  \n",
       "0                             40                NaN  0.004465  \n",
       "1                             40                0.0  0.018927  \n",
       "2                             40                NaN  0.010441  \n",
       "3                             40                0.1  0.011998  \n",
       "4                             40                NaN  0.005455  \n",
       "..                           ...                ...       ...  \n",
       "415                          500                0.5  0.142575  \n",
       "416                          500                NaN  0.080150  \n",
       "417                          500                0.7  0.140224  \n",
       "418                          500                NaN  0.089180  \n",
       "419                          500                1.0  0.145659  \n",
       "\n",
       "[420 rows x 6 columns]"
      ]
     },
     "execution_count": 139,
     "metadata": {},
     "output_type": "execute_result"
    }
   ],
   "source": [
    "compet = pd.DataFrame(columns=['Функция', 'Количество вершин', 'Степень разреженности', 'Количество стартовых вершин', 'Уровень push/pull', 'Время'])\n",
    "count_vertices = [400, 600, 1000, 3000, 5000]\n",
    "densityes = [0.1, 0.3, 0.6, 0.7, 0.8, 0.9, 1]\n",
    "\n",
    "for count_vertice in count_vertices:\n",
    "    for density in densityes:\n",
    "        graph = generate_graph(count_vertice, density)\n",
    "        for i in [0.0, 0.1, 0.3, 0.5, 0.7, 1.0]:\n",
    "            work_time = test_Bellman_Ford(graph, range(0,int(count_vertice*0.1)))\n",
    "            compet.loc[len(compet)] = 'classic', count_vertice, density, int(count_vertice*0.1), np.nan, work_time\n",
    "            work_time = test_Bellman_Ford_push_pull(graph, range(0,int(count_vertice*0.1)), i)\n",
    "            compet.loc[len(compet)] = 'push_pull', count_vertice, density, int(count_vertice*0.1), i, work_time\n",
    "compet\n"
   ]
  },
  {
   "cell_type": "code",
   "execution_count": 141,
   "id": "3671bfb9",
   "metadata": {},
   "outputs": [
    {
     "data": {
      "application/vnd.plotly.v1+json": {
       "config": {
        "plotlyServerURL": "https://plot.ly"
       },
       "data": [
        {
         "hovertemplate": "Функция=%{x}<br>Время=%{y}<br>Уровень push/pull=%{marker.color}<extra></extra>",
         "legendgroup": "",
         "marker": {
          "color": [
           null,
           0,
           null,
           0.1,
           null,
           0.3,
           null,
           0.5,
           null,
           0.7,
           null,
           1,
           null,
           0,
           null,
           0.1,
           null,
           0.3,
           null,
           0.5,
           null,
           0.7,
           null,
           1,
           null,
           0,
           null,
           0.1,
           null,
           0.3,
           null,
           0.5,
           null,
           0.7,
           null,
           1,
           null,
           0,
           null,
           0.1,
           null,
           0.3,
           null,
           0.5,
           null,
           0.7,
           null,
           1,
           null,
           0,
           null,
           0.1,
           null,
           0.3,
           null,
           0.5,
           null,
           0.7,
           null,
           1,
           null,
           0,
           null,
           0.1,
           null,
           0.3,
           null,
           0.5,
           null,
           0.7,
           null,
           1,
           null,
           0,
           null,
           0.1,
           null,
           0.3,
           null,
           0.5,
           null,
           0.7,
           null,
           1,
           null,
           0,
           null,
           0.1,
           null,
           0.3,
           null,
           0.5,
           null,
           0.7,
           null,
           1,
           null,
           0,
           null,
           0.1,
           null,
           0.3,
           null,
           0.5,
           null,
           0.7,
           null,
           1,
           null,
           0,
           null,
           0.1,
           null,
           0.3,
           null,
           0.5,
           null,
           0.7,
           null,
           1,
           null,
           0,
           null,
           0.1,
           null,
           0.3,
           null,
           0.5,
           null,
           0.7,
           null,
           1,
           null,
           0,
           null,
           0.1,
           null,
           0.3,
           null,
           0.5,
           null,
           0.7,
           null,
           1,
           null,
           0,
           null,
           0.1,
           null,
           0.3,
           null,
           0.5,
           null,
           0.7,
           null,
           1,
           null,
           0,
           null,
           0.1,
           null,
           0.3,
           null,
           0.5,
           null,
           0.7,
           null,
           1,
           null,
           0,
           null,
           0.1,
           null,
           0.3,
           null,
           0.5,
           null,
           0.7,
           null,
           1,
           null,
           0,
           null,
           0.1,
           null,
           0.3,
           null,
           0.5,
           null,
           0.7,
           null,
           1,
           null,
           0,
           null,
           0.1,
           null,
           0.3,
           null,
           0.5,
           null,
           0.7,
           null,
           1,
           null,
           0,
           null,
           0.1,
           null,
           0.3,
           null,
           0.5,
           null,
           0.7,
           null,
           1,
           null,
           0,
           null,
           0.1,
           null,
           0.3,
           null,
           0.5,
           null,
           0.7,
           null,
           1,
           null,
           0,
           null,
           0.1,
           null,
           0.3,
           null,
           0.5,
           null,
           0.7,
           null,
           1,
           null,
           0,
           null,
           0.1,
           null,
           0.3,
           null,
           0.5,
           null,
           0.7,
           null,
           1,
           null,
           0,
           null,
           0.1,
           null,
           0.3,
           null,
           0.5,
           null,
           0.7,
           null,
           1,
           null,
           0,
           null,
           0.1,
           null,
           0.3,
           null,
           0.5,
           null,
           0.7,
           null,
           1,
           null,
           0,
           null,
           0.1,
           null,
           0.3,
           null,
           0.5,
           null,
           0.7,
           null,
           1,
           null,
           0,
           null,
           0.1,
           null,
           0.3,
           null,
           0.5,
           null,
           0.7,
           null,
           1,
           null,
           0,
           null,
           0.1,
           null,
           0.3,
           null,
           0.5,
           null,
           0.7,
           null,
           1,
           null,
           0,
           null,
           0.1,
           null,
           0.3,
           null,
           0.5,
           null,
           0.7,
           null,
           1,
           null,
           0,
           null,
           0.1,
           null,
           0.3,
           null,
           0.5,
           null,
           0.7,
           null,
           1,
           null,
           0,
           null,
           0.1,
           null,
           0.3,
           null,
           0.5,
           null,
           0.7,
           null,
           1,
           null,
           0,
           null,
           0.1,
           null,
           0.3,
           null,
           0.5,
           null,
           0.7,
           null,
           1,
           null,
           0,
           null,
           0.1,
           null,
           0.3,
           null,
           0.5,
           null,
           0.7,
           null,
           1,
           null,
           0,
           null,
           0.1,
           null,
           0.3,
           null,
           0.5,
           null,
           0.7,
           null,
           1,
           null,
           0,
           null,
           0.1,
           null,
           0.3,
           null,
           0.5,
           null,
           0.7,
           null,
           1,
           null,
           0,
           null,
           0.1,
           null,
           0.3,
           null,
           0.5,
           null,
           0.7,
           null,
           1,
           null,
           0,
           null,
           0.1,
           null,
           0.3,
           null,
           0.5,
           null,
           0.7,
           null,
           1
          ],
          "coloraxis": "coloraxis",
          "symbol": "circle"
         },
         "mode": "markers",
         "name": "",
         "orientation": "v",
         "showlegend": false,
         "type": "scatter",
         "x": [
          "classic",
          "push_pull",
          "classic",
          "push_pull",
          "classic",
          "push_pull",
          "classic",
          "push_pull",
          "classic",
          "push_pull",
          "classic",
          "push_pull",
          "classic",
          "push_pull",
          "classic",
          "push_pull",
          "classic",
          "push_pull",
          "classic",
          "push_pull",
          "classic",
          "push_pull",
          "classic",
          "push_pull",
          "classic",
          "push_pull",
          "classic",
          "push_pull",
          "classic",
          "push_pull",
          "classic",
          "push_pull",
          "classic",
          "push_pull",
          "classic",
          "push_pull",
          "classic",
          "push_pull",
          "classic",
          "push_pull",
          "classic",
          "push_pull",
          "classic",
          "push_pull",
          "classic",
          "push_pull",
          "classic",
          "push_pull",
          "classic",
          "push_pull",
          "classic",
          "push_pull",
          "classic",
          "push_pull",
          "classic",
          "push_pull",
          "classic",
          "push_pull",
          "classic",
          "push_pull",
          "classic",
          "push_pull",
          "classic",
          "push_pull",
          "classic",
          "push_pull",
          "classic",
          "push_pull",
          "classic",
          "push_pull",
          "classic",
          "push_pull",
          "classic",
          "push_pull",
          "classic",
          "push_pull",
          "classic",
          "push_pull",
          "classic",
          "push_pull",
          "classic",
          "push_pull",
          "classic",
          "push_pull",
          "classic",
          "push_pull",
          "classic",
          "push_pull",
          "classic",
          "push_pull",
          "classic",
          "push_pull",
          "classic",
          "push_pull",
          "classic",
          "push_pull",
          "classic",
          "push_pull",
          "classic",
          "push_pull",
          "classic",
          "push_pull",
          "classic",
          "push_pull",
          "classic",
          "push_pull",
          "classic",
          "push_pull",
          "classic",
          "push_pull",
          "classic",
          "push_pull",
          "classic",
          "push_pull",
          "classic",
          "push_pull",
          "classic",
          "push_pull",
          "classic",
          "push_pull",
          "classic",
          "push_pull",
          "classic",
          "push_pull",
          "classic",
          "push_pull",
          "classic",
          "push_pull",
          "classic",
          "push_pull",
          "classic",
          "push_pull",
          "classic",
          "push_pull",
          "classic",
          "push_pull",
          "classic",
          "push_pull",
          "classic",
          "push_pull",
          "classic",
          "push_pull",
          "classic",
          "push_pull",
          "classic",
          "push_pull",
          "classic",
          "push_pull",
          "classic",
          "push_pull",
          "classic",
          "push_pull",
          "classic",
          "push_pull",
          "classic",
          "push_pull",
          "classic",
          "push_pull",
          "classic",
          "push_pull",
          "classic",
          "push_pull",
          "classic",
          "push_pull",
          "classic",
          "push_pull",
          "classic",
          "push_pull",
          "classic",
          "push_pull",
          "classic",
          "push_pull",
          "classic",
          "push_pull",
          "classic",
          "push_pull",
          "classic",
          "push_pull",
          "classic",
          "push_pull",
          "classic",
          "push_pull",
          "classic",
          "push_pull",
          "classic",
          "push_pull",
          "classic",
          "push_pull",
          "classic",
          "push_pull",
          "classic",
          "push_pull",
          "classic",
          "push_pull",
          "classic",
          "push_pull",
          "classic",
          "push_pull",
          "classic",
          "push_pull",
          "classic",
          "push_pull",
          "classic",
          "push_pull",
          "classic",
          "push_pull",
          "classic",
          "push_pull",
          "classic",
          "push_pull",
          "classic",
          "push_pull",
          "classic",
          "push_pull",
          "classic",
          "push_pull",
          "classic",
          "push_pull",
          "classic",
          "push_pull",
          "classic",
          "push_pull",
          "classic",
          "push_pull",
          "classic",
          "push_pull",
          "classic",
          "push_pull",
          "classic",
          "push_pull",
          "classic",
          "push_pull",
          "classic",
          "push_pull",
          "classic",
          "push_pull",
          "classic",
          "push_pull",
          "classic",
          "push_pull",
          "classic",
          "push_pull",
          "classic",
          "push_pull",
          "classic",
          "push_pull",
          "classic",
          "push_pull",
          "classic",
          "push_pull",
          "classic",
          "push_pull",
          "classic",
          "push_pull",
          "classic",
          "push_pull",
          "classic",
          "push_pull",
          "classic",
          "push_pull",
          "classic",
          "push_pull",
          "classic",
          "push_pull",
          "classic",
          "push_pull",
          "classic",
          "push_pull",
          "classic",
          "push_pull",
          "classic",
          "push_pull",
          "classic",
          "push_pull",
          "classic",
          "push_pull",
          "classic",
          "push_pull",
          "classic",
          "push_pull",
          "classic",
          "push_pull",
          "classic",
          "push_pull",
          "classic",
          "push_pull",
          "classic",
          "push_pull",
          "classic",
          "push_pull",
          "classic",
          "push_pull",
          "classic",
          "push_pull",
          "classic",
          "push_pull",
          "classic",
          "push_pull",
          "classic",
          "push_pull",
          "classic",
          "push_pull",
          "classic",
          "push_pull",
          "classic",
          "push_pull",
          "classic",
          "push_pull",
          "classic",
          "push_pull",
          "classic",
          "push_pull",
          "classic",
          "push_pull",
          "classic",
          "push_pull",
          "classic",
          "push_pull",
          "classic",
          "push_pull",
          "classic",
          "push_pull",
          "classic",
          "push_pull",
          "classic",
          "push_pull",
          "classic",
          "push_pull",
          "classic",
          "push_pull",
          "classic",
          "push_pull",
          "classic",
          "push_pull",
          "classic",
          "push_pull",
          "classic",
          "push_pull",
          "classic",
          "push_pull",
          "classic",
          "push_pull",
          "classic",
          "push_pull",
          "classic",
          "push_pull",
          "classic",
          "push_pull",
          "classic",
          "push_pull",
          "classic",
          "push_pull",
          "classic",
          "push_pull",
          "classic",
          "push_pull",
          "classic",
          "push_pull",
          "classic",
          "push_pull",
          "classic",
          "push_pull",
          "classic",
          "push_pull",
          "classic",
          "push_pull",
          "classic",
          "push_pull",
          "classic",
          "push_pull",
          "classic",
          "push_pull",
          "classic",
          "push_pull",
          "classic",
          "push_pull",
          "classic",
          "push_pull",
          "classic",
          "push_pull",
          "classic",
          "push_pull",
          "classic",
          "push_pull",
          "classic",
          "push_pull",
          "classic",
          "push_pull",
          "classic",
          "push_pull",
          "classic",
          "push_pull",
          "classic",
          "push_pull",
          "classic",
          "push_pull",
          "classic",
          "push_pull",
          "classic",
          "push_pull",
          "classic",
          "push_pull",
          "classic",
          "push_pull",
          "classic",
          "push_pull",
          "classic",
          "push_pull",
          "classic",
          "push_pull",
          "classic",
          "push_pull",
          "classic",
          "push_pull",
          "classic",
          "push_pull",
          "classic",
          "push_pull",
          "classic",
          "push_pull"
         ],
         "xaxis": "x",
         "y": [
          0.004464864730834961,
          0.01892709732055664,
          0.010440587997436523,
          0.011998176574707031,
          0.0054547786712646484,
          0.013254404067993164,
          0,
          0.02106022834777832,
          0.01590442657470703,
          0.012174844741821289,
          0,
          0.019464969635009766,
          0,
          0.012117385864257812,
          0.016488075256347656,
          0.01570272445678711,
          0.00279998779296875,
          0.013527631759643555,
          0,
          0.019455432891845703,
          0.014941692352294922,
          0.01198720932006836,
          0,
          0.01655745506286621,
          0,
          0.0008759498596191406,
          0.01685786247253418,
          0.01577019691467285,
          0.0042684078216552734,
          0.016710281372070312,
          0.011927604675292969,
          0,
          0.0005335807800292969,
          0.016608715057373047,
          0,
          0.016692638397216797,
          0,
          0.019837379455566406,
          0.019031047821044922,
          0.012865066528320312,
          0.008260965347290039,
          0.01273965835571289,
          0.008237361907958984,
          0.010100603103637695,
          0.011513948440551758,
          0,
          0.0009477138519287109,
          0.02143692970275879,
          0.01181936264038086,
          0.0009360313415527344,
          0.014261722564697266,
          0.016719341278076172,
          0,
          0.018490314483642578,
          0.014996767044067383,
          0,
          0,
          0.02068328857421875,
          0,
          0.016731739044189453,
          0.0016710758209228516,
          0.01678013801574707,
          0,
          0.00360870361328125,
          0.01689910888671875,
          0.01573634147644043,
          0,
          0.016797542572021484,
          0.01227426528930664,
          0,
          0.021371841430664062,
          0.011723518371582031,
          0.009495735168457031,
          0.010056734085083008,
          0.010485649108886719,
          0.007923364639282227,
          0.012741804122924805,
          0.016567468643188477,
          0.002226114273071289,
          0.018686294555664062,
          0.0022411346435546875,
          0.012227058410644531,
          0.0051729679107666016,
          0.013715505599975586,
          0.013637542724609375,
          0.02050018310546875,
          0.011777639389038086,
          0.02215576171875,
          0.020077228546142578,
          0.022574424743652344,
          0.01755547523498535,
          0.029871225357055664,
          0.020981311798095703,
          0.022220611572265625,
          0.02388620376586914,
          0.01699662208557129,
          0.01111459732055664,
          0.011215925216674805,
          0.008144378662109375,
          0.016763687133789062,
          0.021877050399780273,
          0.011011123657226562,
          0.025358915328979492,
          0.020144939422607422,
          0.002315044403076172,
          0.016720056533813477,
          0.001417398452758789,
          0.021833419799804688,
          0.0038869380950927734,
          0.02395153045654297,
          0.015543460845947266,
          0.023119688034057617,
          0.016643285751342773,
          0.06488466262817383,
          0.01644420623779297,
          0.032222747802734375,
          0,
          0.03159618377685547,
          0.00141143798828125,
          0.018633365631103516,
          0,
          0.030511140823364258,
          0.001972198486328125,
          0.02928900718688965,
          0.0016345977783203125,
          0.016655683517456055,
          0.0006859302520751953,
          0.016495227813720703,
          0.016596555709838867,
          0.020017623901367188,
          0.013544082641601562,
          0.016555070877075195,
          0.016831636428833008,
          0.01627969741821289,
          0.016847610473632812,
          0.021072864532470703,
          0.013339042663574219,
          0.026011943817138672,
          0.013030529022216797,
          0.007873058319091797,
          0.015915632247924805,
          0.02626633644104004,
          0.0023632049560546875,
          0.017019271850585938,
          0.023125410079956055,
          0.009496450424194336,
          0.01664280891418457,
          0.027534008026123047,
          0.006108283996582031,
          0.01649951934814453,
          0.017220258712768555,
          0.016124486923217773,
          0.016658306121826172,
          0.01676321029663086,
          0.018376827239990234,
          0.015148162841796875,
          0.01644301414489746,
          0.01681351661682129,
          0.01624011993408203,
          0.01657891273498535,
          0.019577980041503906,
          0.01393437385559082,
          0.01662421226501465,
          0.016654253005981445,
          0.01667499542236328,
          0.016779422760009766,
          0.016546249389648438,
          0.018335342407226562,
          0.015216827392578125,
          0.03299760818481445,
          0.01682281494140625,
          0.03484487533569336,
          0.015392065048217773,
          0.032729148864746094,
          0.017502784729003906,
          0.034618377685546875,
          0.01468801498413086,
          0.03310108184814453,
          0.017047882080078125,
          0.03313589096069336,
          0.018616437911987305,
          0.03111410140991211,
          0.016762495040893555,
          0.03325033187866211,
          0.018555402755737305,
          0.031234025955200195,
          0.01714920997619629,
          0.0327601432800293,
          0.019113540649414062,
          0.031131267547607422,
          0.016854047775268555,
          0.03281736373901367,
          0.01714181900024414,
          0.03321576118469238,
          0.016544342041015625,
          0.03324389457702637,
          0.01712942123413086,
          0.032850027084350586,
          0.017820119857788086,
          0.03178143501281738,
          0.017577648162841797,
          0.032791852951049805,
          0.01662588119506836,
          0.03364109992980957,
          0.01647353172302246,
          0.0194244384765625,
          0.029502391815185547,
          0.01764845848083496,
          0.01689004898071289,
          0.01962137222290039,
          0.014894723892211914,
          0.03219437599182129,
          0.0177304744720459,
          0.032350778579711914,
          0.033827781677246094,
          0.0320591926574707,
          0.017186641693115234,
          0.033348798751831055,
          0.014283180236816406,
          0.03399300575256348,
          0.015647172927856445,
          0.03359794616699219,
          0.019443273544311523,
          0.030241012573242188,
          0.01643967628479004,
          0.033576011657714844,
          0.019074440002441406,
          0.030842065811157227,
          0.016604900360107422,
          0.033147335052490234,
          0.032059431076049805,
          0.01720905303955078,
          0.01884913444519043,
          0.03146171569824219,
          0.019969463348388672,
          0.030155658721923828,
          0.01641058921813965,
          0.0342409610748291,
          0.01595592498779297,
          0.033431291580200195,
          0.016318559646606445,
          0.03325843811035156,
          0.016652584075927734,
          0.033704519271850586,
          0.01632237434387207,
          0.03340959548950195,
          0.017299413681030273,
          0.03595852851867676,
          0.013646602630615234,
          0.034946441650390625,
          0.014869928359985352,
          0.036416053771972656,
          0.047020673751831055,
          0.08310079574584961,
          0.05836033821105957,
          0.08352184295654297,
          0.04926300048828125,
          0.08339977264404297,
          0.05004167556762695,
          0.10022616386413574,
          0.05113935470581055,
          0.08469724655151367,
          0.05062150955200195,
          0.09335088729858398,
          0.05291461944580078,
          0.08124685287475586,
          0.05417513847351074,
          0.08444333076477051,
          0.04384803771972656,
          0.08582735061645508,
          0.05189108848571777,
          0.09010481834411621,
          0.056247711181640625,
          0.08763980865478516,
          0.05179119110107422,
          0.0838923454284668,
          0.050446271896362305,
          0.08818697929382324,
          0.04987525939941406,
          0.08477139472961426,
          0.052710771560668945,
          0.08364725112915039,
          0.0524444580078125,
          0.08489346504211426,
          0.052095890045166016,
          0.09254908561706543,
          0.0521087646484375,
          0.08714890480041504,
          0.054605722427368164,
          0.09539651870727539,
          0.04957008361816406,
          0.09362435340881348,
          0.05048203468322754,
          0.08744287490844727,
          0.052881717681884766,
          0.08564543724060059,
          0.05205178260803223,
          0.09381985664367676,
          0.05259990692138672,
          0.08121323585510254,
          0.06343770027160645,
          0.08528280258178711,
          0.05099034309387207,
          0.08918070793151855,
          0.05638527870178223,
          0.0857231616973877,
          0.052301645278930664,
          0.08557677268981934,
          0.05328369140625,
          0.08477020263671875,
          0.0522158145904541,
          0.08688044548034668,
          0.052408695220947266,
          0.07482242584228516,
          0.06616544723510742,
          0.08351516723632812,
          0.05311846733093262,
          0.08614134788513184,
          0.06194639205932617,
          0.08482575416564941,
          0.05264139175415039,
          0.10155797004699707,
          0.04279589653015137,
          0.1001901626586914,
          0.04998612403869629,
          0.09183979034423828,
          0.07485246658325195,
          0.08422470092773438,
          0.05678915977478027,
          0.08288812637329102,
          0.05586695671081543,
          0.08470487594604492,
          0.051965951919555664,
          0.0855095386505127,
          0.04967999458312988,
          0.08710408210754395,
          0.07241368293762207,
          0.14037442207336426,
          0.0834197998046875,
          0.14714837074279785,
          0.07955193519592285,
          0.1553361415863037,
          0.08474493026733398,
          0.13948416709899902,
          0.08860182762145996,
          0.13575339317321777,
          0.08541417121887207,
          0.14547252655029297,
          0.08368325233459473,
          0.1496720314025879,
          0.08337211608886719,
          0.16640472412109375,
          0.08311271667480469,
          0.1501772403717041,
          0.08762359619140625,
          0.1486647129058838,
          0.08014702796936035,
          0.18329644203186035,
          0.08892965316772461,
          0.1435232162475586,
          0.08321547508239746,
          0.15425348281860352,
          0.09932684898376465,
          0.14231038093566895,
          0.08314728736877441,
          0.13814330101013184,
          0.08559775352478027,
          0.16141819953918457,
          0.0857536792755127,
          0.14426684379577637,
          0.0914769172668457,
          0.147446870803833,
          0.08656573295593262,
          0.14562225341796875,
          0.08527636528015137,
          0.14722585678100586,
          0.08317446708679199,
          0.1409904956817627,
          0.08588171005249023,
          0.1359097957611084,
          0.09469985961914062,
          0.14296722412109375,
          0.08482027053833008,
          0.14008092880249023,
          0.1251060962677002,
          0.14627361297607422,
          0.0903317928314209,
          0.1430799961090088,
          0.08580565452575684,
          0.14716792106628418,
          0.09167075157165527,
          0.14425277709960938,
          0.08057808876037598,
          0.15150737762451172,
          0.08574628829956055,
          0.14783763885498047,
          0.08338475227355957,
          0.14650249481201172,
          0.0923616886138916,
          0.1461777687072754,
          0.08418703079223633,
          0.145402193069458,
          0.08342313766479492,
          0.14814329147338867,
          0.09201741218566895,
          0.14583086967468262,
          0.08044147491455078,
          0.15156102180480957,
          0.07966351509094238,
          0.14988470077514648,
          0.0918424129486084,
          0.14430999755859375,
          0.08410859107971191,
          0.14706778526306152,
          0.09064793586730957,
          0.14257478713989258,
          0.08015012741088867,
          0.14022350311279297,
          0.08917975425720215,
          0.1456594467163086
         ],
         "yaxis": "y"
        }
       ],
       "layout": {
        "coloraxis": {
         "colorbar": {
          "title": {
           "text": "Уровень push/pull"
          }
         },
         "colorscale": [
          [
           0,
           "#0d0887"
          ],
          [
           0.1111111111111111,
           "#46039f"
          ],
          [
           0.2222222222222222,
           "#7201a8"
          ],
          [
           0.3333333333333333,
           "#9c179e"
          ],
          [
           0.4444444444444444,
           "#bd3786"
          ],
          [
           0.5555555555555556,
           "#d8576b"
          ],
          [
           0.6666666666666666,
           "#ed7953"
          ],
          [
           0.7777777777777778,
           "#fb9f3a"
          ],
          [
           0.8888888888888888,
           "#fdca26"
          ],
          [
           1,
           "#f0f921"
          ]
         ]
        },
        "legend": {
         "tracegroupgap": 0
        },
        "margin": {
         "t": 60
        },
        "template": {
         "data": {
          "bar": [
           {
            "error_x": {
             "color": "#2a3f5f"
            },
            "error_y": {
             "color": "#2a3f5f"
            },
            "marker": {
             "line": {
              "color": "#E5ECF6",
              "width": 0.5
             },
             "pattern": {
              "fillmode": "overlay",
              "size": 10,
              "solidity": 0.2
             }
            },
            "type": "bar"
           }
          ],
          "barpolar": [
           {
            "marker": {
             "line": {
              "color": "#E5ECF6",
              "width": 0.5
             },
             "pattern": {
              "fillmode": "overlay",
              "size": 10,
              "solidity": 0.2
             }
            },
            "type": "barpolar"
           }
          ],
          "carpet": [
           {
            "aaxis": {
             "endlinecolor": "#2a3f5f",
             "gridcolor": "white",
             "linecolor": "white",
             "minorgridcolor": "white",
             "startlinecolor": "#2a3f5f"
            },
            "baxis": {
             "endlinecolor": "#2a3f5f",
             "gridcolor": "white",
             "linecolor": "white",
             "minorgridcolor": "white",
             "startlinecolor": "#2a3f5f"
            },
            "type": "carpet"
           }
          ],
          "choropleth": [
           {
            "colorbar": {
             "outlinewidth": 0,
             "ticks": ""
            },
            "type": "choropleth"
           }
          ],
          "contour": [
           {
            "colorbar": {
             "outlinewidth": 0,
             "ticks": ""
            },
            "colorscale": [
             [
              0,
              "#0d0887"
             ],
             [
              0.1111111111111111,
              "#46039f"
             ],
             [
              0.2222222222222222,
              "#7201a8"
             ],
             [
              0.3333333333333333,
              "#9c179e"
             ],
             [
              0.4444444444444444,
              "#bd3786"
             ],
             [
              0.5555555555555556,
              "#d8576b"
             ],
             [
              0.6666666666666666,
              "#ed7953"
             ],
             [
              0.7777777777777778,
              "#fb9f3a"
             ],
             [
              0.8888888888888888,
              "#fdca26"
             ],
             [
              1,
              "#f0f921"
             ]
            ],
            "type": "contour"
           }
          ],
          "contourcarpet": [
           {
            "colorbar": {
             "outlinewidth": 0,
             "ticks": ""
            },
            "type": "contourcarpet"
           }
          ],
          "heatmap": [
           {
            "colorbar": {
             "outlinewidth": 0,
             "ticks": ""
            },
            "colorscale": [
             [
              0,
              "#0d0887"
             ],
             [
              0.1111111111111111,
              "#46039f"
             ],
             [
              0.2222222222222222,
              "#7201a8"
             ],
             [
              0.3333333333333333,
              "#9c179e"
             ],
             [
              0.4444444444444444,
              "#bd3786"
             ],
             [
              0.5555555555555556,
              "#d8576b"
             ],
             [
              0.6666666666666666,
              "#ed7953"
             ],
             [
              0.7777777777777778,
              "#fb9f3a"
             ],
             [
              0.8888888888888888,
              "#fdca26"
             ],
             [
              1,
              "#f0f921"
             ]
            ],
            "type": "heatmap"
           }
          ],
          "heatmapgl": [
           {
            "colorbar": {
             "outlinewidth": 0,
             "ticks": ""
            },
            "colorscale": [
             [
              0,
              "#0d0887"
             ],
             [
              0.1111111111111111,
              "#46039f"
             ],
             [
              0.2222222222222222,
              "#7201a8"
             ],
             [
              0.3333333333333333,
              "#9c179e"
             ],
             [
              0.4444444444444444,
              "#bd3786"
             ],
             [
              0.5555555555555556,
              "#d8576b"
             ],
             [
              0.6666666666666666,
              "#ed7953"
             ],
             [
              0.7777777777777778,
              "#fb9f3a"
             ],
             [
              0.8888888888888888,
              "#fdca26"
             ],
             [
              1,
              "#f0f921"
             ]
            ],
            "type": "heatmapgl"
           }
          ],
          "histogram": [
           {
            "marker": {
             "pattern": {
              "fillmode": "overlay",
              "size": 10,
              "solidity": 0.2
             }
            },
            "type": "histogram"
           }
          ],
          "histogram2d": [
           {
            "colorbar": {
             "outlinewidth": 0,
             "ticks": ""
            },
            "colorscale": [
             [
              0,
              "#0d0887"
             ],
             [
              0.1111111111111111,
              "#46039f"
             ],
             [
              0.2222222222222222,
              "#7201a8"
             ],
             [
              0.3333333333333333,
              "#9c179e"
             ],
             [
              0.4444444444444444,
              "#bd3786"
             ],
             [
              0.5555555555555556,
              "#d8576b"
             ],
             [
              0.6666666666666666,
              "#ed7953"
             ],
             [
              0.7777777777777778,
              "#fb9f3a"
             ],
             [
              0.8888888888888888,
              "#fdca26"
             ],
             [
              1,
              "#f0f921"
             ]
            ],
            "type": "histogram2d"
           }
          ],
          "histogram2dcontour": [
           {
            "colorbar": {
             "outlinewidth": 0,
             "ticks": ""
            },
            "colorscale": [
             [
              0,
              "#0d0887"
             ],
             [
              0.1111111111111111,
              "#46039f"
             ],
             [
              0.2222222222222222,
              "#7201a8"
             ],
             [
              0.3333333333333333,
              "#9c179e"
             ],
             [
              0.4444444444444444,
              "#bd3786"
             ],
             [
              0.5555555555555556,
              "#d8576b"
             ],
             [
              0.6666666666666666,
              "#ed7953"
             ],
             [
              0.7777777777777778,
              "#fb9f3a"
             ],
             [
              0.8888888888888888,
              "#fdca26"
             ],
             [
              1,
              "#f0f921"
             ]
            ],
            "type": "histogram2dcontour"
           }
          ],
          "mesh3d": [
           {
            "colorbar": {
             "outlinewidth": 0,
             "ticks": ""
            },
            "type": "mesh3d"
           }
          ],
          "parcoords": [
           {
            "line": {
             "colorbar": {
              "outlinewidth": 0,
              "ticks": ""
             }
            },
            "type": "parcoords"
           }
          ],
          "pie": [
           {
            "automargin": true,
            "type": "pie"
           }
          ],
          "scatter": [
           {
            "fillpattern": {
             "fillmode": "overlay",
             "size": 10,
             "solidity": 0.2
            },
            "type": "scatter"
           }
          ],
          "scatter3d": [
           {
            "line": {
             "colorbar": {
              "outlinewidth": 0,
              "ticks": ""
             }
            },
            "marker": {
             "colorbar": {
              "outlinewidth": 0,
              "ticks": ""
             }
            },
            "type": "scatter3d"
           }
          ],
          "scattercarpet": [
           {
            "marker": {
             "colorbar": {
              "outlinewidth": 0,
              "ticks": ""
             }
            },
            "type": "scattercarpet"
           }
          ],
          "scattergeo": [
           {
            "marker": {
             "colorbar": {
              "outlinewidth": 0,
              "ticks": ""
             }
            },
            "type": "scattergeo"
           }
          ],
          "scattergl": [
           {
            "marker": {
             "colorbar": {
              "outlinewidth": 0,
              "ticks": ""
             }
            },
            "type": "scattergl"
           }
          ],
          "scattermapbox": [
           {
            "marker": {
             "colorbar": {
              "outlinewidth": 0,
              "ticks": ""
             }
            },
            "type": "scattermapbox"
           }
          ],
          "scatterpolar": [
           {
            "marker": {
             "colorbar": {
              "outlinewidth": 0,
              "ticks": ""
             }
            },
            "type": "scatterpolar"
           }
          ],
          "scatterpolargl": [
           {
            "marker": {
             "colorbar": {
              "outlinewidth": 0,
              "ticks": ""
             }
            },
            "type": "scatterpolargl"
           }
          ],
          "scatterternary": [
           {
            "marker": {
             "colorbar": {
              "outlinewidth": 0,
              "ticks": ""
             }
            },
            "type": "scatterternary"
           }
          ],
          "surface": [
           {
            "colorbar": {
             "outlinewidth": 0,
             "ticks": ""
            },
            "colorscale": [
             [
              0,
              "#0d0887"
             ],
             [
              0.1111111111111111,
              "#46039f"
             ],
             [
              0.2222222222222222,
              "#7201a8"
             ],
             [
              0.3333333333333333,
              "#9c179e"
             ],
             [
              0.4444444444444444,
              "#bd3786"
             ],
             [
              0.5555555555555556,
              "#d8576b"
             ],
             [
              0.6666666666666666,
              "#ed7953"
             ],
             [
              0.7777777777777778,
              "#fb9f3a"
             ],
             [
              0.8888888888888888,
              "#fdca26"
             ],
             [
              1,
              "#f0f921"
             ]
            ],
            "type": "surface"
           }
          ],
          "table": [
           {
            "cells": {
             "fill": {
              "color": "#EBF0F8"
             },
             "line": {
              "color": "white"
             }
            },
            "header": {
             "fill": {
              "color": "#C8D4E3"
             },
             "line": {
              "color": "white"
             }
            },
            "type": "table"
           }
          ]
         },
         "layout": {
          "annotationdefaults": {
           "arrowcolor": "#2a3f5f",
           "arrowhead": 0,
           "arrowwidth": 1
          },
          "autotypenumbers": "strict",
          "coloraxis": {
           "colorbar": {
            "outlinewidth": 0,
            "ticks": ""
           }
          },
          "colorscale": {
           "diverging": [
            [
             0,
             "#8e0152"
            ],
            [
             0.1,
             "#c51b7d"
            ],
            [
             0.2,
             "#de77ae"
            ],
            [
             0.3,
             "#f1b6da"
            ],
            [
             0.4,
             "#fde0ef"
            ],
            [
             0.5,
             "#f7f7f7"
            ],
            [
             0.6,
             "#e6f5d0"
            ],
            [
             0.7,
             "#b8e186"
            ],
            [
             0.8,
             "#7fbc41"
            ],
            [
             0.9,
             "#4d9221"
            ],
            [
             1,
             "#276419"
            ]
           ],
           "sequential": [
            [
             0,
             "#0d0887"
            ],
            [
             0.1111111111111111,
             "#46039f"
            ],
            [
             0.2222222222222222,
             "#7201a8"
            ],
            [
             0.3333333333333333,
             "#9c179e"
            ],
            [
             0.4444444444444444,
             "#bd3786"
            ],
            [
             0.5555555555555556,
             "#d8576b"
            ],
            [
             0.6666666666666666,
             "#ed7953"
            ],
            [
             0.7777777777777778,
             "#fb9f3a"
            ],
            [
             0.8888888888888888,
             "#fdca26"
            ],
            [
             1,
             "#f0f921"
            ]
           ],
           "sequentialminus": [
            [
             0,
             "#0d0887"
            ],
            [
             0.1111111111111111,
             "#46039f"
            ],
            [
             0.2222222222222222,
             "#7201a8"
            ],
            [
             0.3333333333333333,
             "#9c179e"
            ],
            [
             0.4444444444444444,
             "#bd3786"
            ],
            [
             0.5555555555555556,
             "#d8576b"
            ],
            [
             0.6666666666666666,
             "#ed7953"
            ],
            [
             0.7777777777777778,
             "#fb9f3a"
            ],
            [
             0.8888888888888888,
             "#fdca26"
            ],
            [
             1,
             "#f0f921"
            ]
           ]
          },
          "colorway": [
           "#636efa",
           "#EF553B",
           "#00cc96",
           "#ab63fa",
           "#FFA15A",
           "#19d3f3",
           "#FF6692",
           "#B6E880",
           "#FF97FF",
           "#FECB52"
          ],
          "font": {
           "color": "#2a3f5f"
          },
          "geo": {
           "bgcolor": "white",
           "lakecolor": "white",
           "landcolor": "#E5ECF6",
           "showlakes": true,
           "showland": true,
           "subunitcolor": "white"
          },
          "hoverlabel": {
           "align": "left"
          },
          "hovermode": "closest",
          "mapbox": {
           "style": "light"
          },
          "paper_bgcolor": "white",
          "plot_bgcolor": "#E5ECF6",
          "polar": {
           "angularaxis": {
            "gridcolor": "white",
            "linecolor": "white",
            "ticks": ""
           },
           "bgcolor": "#E5ECF6",
           "radialaxis": {
            "gridcolor": "white",
            "linecolor": "white",
            "ticks": ""
           }
          },
          "scene": {
           "xaxis": {
            "backgroundcolor": "#E5ECF6",
            "gridcolor": "white",
            "gridwidth": 2,
            "linecolor": "white",
            "showbackground": true,
            "ticks": "",
            "zerolinecolor": "white"
           },
           "yaxis": {
            "backgroundcolor": "#E5ECF6",
            "gridcolor": "white",
            "gridwidth": 2,
            "linecolor": "white",
            "showbackground": true,
            "ticks": "",
            "zerolinecolor": "white"
           },
           "zaxis": {
            "backgroundcolor": "#E5ECF6",
            "gridcolor": "white",
            "gridwidth": 2,
            "linecolor": "white",
            "showbackground": true,
            "ticks": "",
            "zerolinecolor": "white"
           }
          },
          "shapedefaults": {
           "line": {
            "color": "#2a3f5f"
           }
          },
          "ternary": {
           "aaxis": {
            "gridcolor": "white",
            "linecolor": "white",
            "ticks": ""
           },
           "baxis": {
            "gridcolor": "white",
            "linecolor": "white",
            "ticks": ""
           },
           "bgcolor": "#E5ECF6",
           "caxis": {
            "gridcolor": "white",
            "linecolor": "white",
            "ticks": ""
           }
          },
          "title": {
           "x": 0.05
          },
          "xaxis": {
           "automargin": true,
           "gridcolor": "white",
           "linecolor": "white",
           "ticks": "",
           "title": {
            "standoff": 15
           },
           "zerolinecolor": "white",
           "zerolinewidth": 2
          },
          "yaxis": {
           "automargin": true,
           "gridcolor": "white",
           "linecolor": "white",
           "ticks": "",
           "title": {
            "standoff": 15
           },
           "zerolinecolor": "white",
           "zerolinewidth": 2
          }
         }
        },
        "xaxis": {
         "anchor": "y",
         "domain": [
          0,
          1
         ],
         "title": {
          "text": "Функция"
         }
        },
        "yaxis": {
         "anchor": "x",
         "domain": [
          0,
          1
         ],
         "title": {
          "text": "Время"
         }
        }
       }
      }
     },
     "metadata": {},
     "output_type": "display_data"
    }
   ],
   "source": [
    "px.scatter(compet, x = 'Функция', y = 'Время', color = 'Уровень push/pull')"
   ]
  },
  {
   "cell_type": "code",
   "execution_count": 142,
   "id": "e2277eef",
   "metadata": {},
   "outputs": [
    {
     "data": {
      "application/vnd.plotly.v1+json": {
       "config": {
        "plotlyServerURL": "https://plot.ly"
       },
       "data": [
        {
         "hovertemplate": "Функция=%{x}<br>Время=%{y}<br>Количество вершин=%{marker.color}<extra></extra>",
         "legendgroup": "",
         "marker": {
          "color": [
           400,
           400,
           400,
           400,
           400,
           400,
           400,
           400,
           400,
           400,
           400,
           400,
           400,
           400,
           400,
           400,
           400,
           400,
           400,
           400,
           400,
           400,
           400,
           400,
           400,
           400,
           400,
           400,
           400,
           400,
           400,
           400,
           400,
           400,
           400,
           400,
           400,
           400,
           400,
           400,
           400,
           400,
           400,
           400,
           400,
           400,
           400,
           400,
           400,
           400,
           400,
           400,
           400,
           400,
           400,
           400,
           400,
           400,
           400,
           400,
           400,
           400,
           400,
           400,
           400,
           400,
           400,
           400,
           400,
           400,
           400,
           400,
           400,
           400,
           400,
           400,
           400,
           400,
           400,
           400,
           400,
           400,
           400,
           400,
           600,
           600,
           600,
           600,
           600,
           600,
           600,
           600,
           600,
           600,
           600,
           600,
           600,
           600,
           600,
           600,
           600,
           600,
           600,
           600,
           600,
           600,
           600,
           600,
           600,
           600,
           600,
           600,
           600,
           600,
           600,
           600,
           600,
           600,
           600,
           600,
           600,
           600,
           600,
           600,
           600,
           600,
           600,
           600,
           600,
           600,
           600,
           600,
           600,
           600,
           600,
           600,
           600,
           600,
           600,
           600,
           600,
           600,
           600,
           600,
           600,
           600,
           600,
           600,
           600,
           600,
           600,
           600,
           600,
           600,
           600,
           600,
           600,
           600,
           600,
           600,
           600,
           600,
           600,
           600,
           600,
           600,
           600,
           600,
           1000,
           1000,
           1000,
           1000,
           1000,
           1000,
           1000,
           1000,
           1000,
           1000,
           1000,
           1000,
           1000,
           1000,
           1000,
           1000,
           1000,
           1000,
           1000,
           1000,
           1000,
           1000,
           1000,
           1000,
           1000,
           1000,
           1000,
           1000,
           1000,
           1000,
           1000,
           1000,
           1000,
           1000,
           1000,
           1000,
           1000,
           1000,
           1000,
           1000,
           1000,
           1000,
           1000,
           1000,
           1000,
           1000,
           1000,
           1000,
           1000,
           1000,
           1000,
           1000,
           1000,
           1000,
           1000,
           1000,
           1000,
           1000,
           1000,
           1000,
           1000,
           1000,
           1000,
           1000,
           1000,
           1000,
           1000,
           1000,
           1000,
           1000,
           1000,
           1000,
           1000,
           1000,
           1000,
           1000,
           1000,
           1000,
           1000,
           1000,
           1000,
           1000,
           1000,
           1000,
           3000,
           3000,
           3000,
           3000,
           3000,
           3000,
           3000,
           3000,
           3000,
           3000,
           3000,
           3000,
           3000,
           3000,
           3000,
           3000,
           3000,
           3000,
           3000,
           3000,
           3000,
           3000,
           3000,
           3000,
           3000,
           3000,
           3000,
           3000,
           3000,
           3000,
           3000,
           3000,
           3000,
           3000,
           3000,
           3000,
           3000,
           3000,
           3000,
           3000,
           3000,
           3000,
           3000,
           3000,
           3000,
           3000,
           3000,
           3000,
           3000,
           3000,
           3000,
           3000,
           3000,
           3000,
           3000,
           3000,
           3000,
           3000,
           3000,
           3000,
           3000,
           3000,
           3000,
           3000,
           3000,
           3000,
           3000,
           3000,
           3000,
           3000,
           3000,
           3000,
           3000,
           3000,
           3000,
           3000,
           3000,
           3000,
           3000,
           3000,
           3000,
           3000,
           3000,
           3000,
           5000,
           5000,
           5000,
           5000,
           5000,
           5000,
           5000,
           5000,
           5000,
           5000,
           5000,
           5000,
           5000,
           5000,
           5000,
           5000,
           5000,
           5000,
           5000,
           5000,
           5000,
           5000,
           5000,
           5000,
           5000,
           5000,
           5000,
           5000,
           5000,
           5000,
           5000,
           5000,
           5000,
           5000,
           5000,
           5000,
           5000,
           5000,
           5000,
           5000,
           5000,
           5000,
           5000,
           5000,
           5000,
           5000,
           5000,
           5000,
           5000,
           5000,
           5000,
           5000,
           5000,
           5000,
           5000,
           5000,
           5000,
           5000,
           5000,
           5000,
           5000,
           5000,
           5000,
           5000,
           5000,
           5000,
           5000,
           5000,
           5000,
           5000,
           5000,
           5000,
           5000,
           5000,
           5000,
           5000,
           5000,
           5000,
           5000,
           5000,
           5000,
           5000,
           5000,
           5000
          ],
          "coloraxis": "coloraxis",
          "symbol": "circle"
         },
         "mode": "markers",
         "name": "",
         "orientation": "v",
         "showlegend": false,
         "type": "scatter",
         "x": [
          "classic",
          "push_pull",
          "classic",
          "push_pull",
          "classic",
          "push_pull",
          "classic",
          "push_pull",
          "classic",
          "push_pull",
          "classic",
          "push_pull",
          "classic",
          "push_pull",
          "classic",
          "push_pull",
          "classic",
          "push_pull",
          "classic",
          "push_pull",
          "classic",
          "push_pull",
          "classic",
          "push_pull",
          "classic",
          "push_pull",
          "classic",
          "push_pull",
          "classic",
          "push_pull",
          "classic",
          "push_pull",
          "classic",
          "push_pull",
          "classic",
          "push_pull",
          "classic",
          "push_pull",
          "classic",
          "push_pull",
          "classic",
          "push_pull",
          "classic",
          "push_pull",
          "classic",
          "push_pull",
          "classic",
          "push_pull",
          "classic",
          "push_pull",
          "classic",
          "push_pull",
          "classic",
          "push_pull",
          "classic",
          "push_pull",
          "classic",
          "push_pull",
          "classic",
          "push_pull",
          "classic",
          "push_pull",
          "classic",
          "push_pull",
          "classic",
          "push_pull",
          "classic",
          "push_pull",
          "classic",
          "push_pull",
          "classic",
          "push_pull",
          "classic",
          "push_pull",
          "classic",
          "push_pull",
          "classic",
          "push_pull",
          "classic",
          "push_pull",
          "classic",
          "push_pull",
          "classic",
          "push_pull",
          "classic",
          "push_pull",
          "classic",
          "push_pull",
          "classic",
          "push_pull",
          "classic",
          "push_pull",
          "classic",
          "push_pull",
          "classic",
          "push_pull",
          "classic",
          "push_pull",
          "classic",
          "push_pull",
          "classic",
          "push_pull",
          "classic",
          "push_pull",
          "classic",
          "push_pull",
          "classic",
          "push_pull",
          "classic",
          "push_pull",
          "classic",
          "push_pull",
          "classic",
          "push_pull",
          "classic",
          "push_pull",
          "classic",
          "push_pull",
          "classic",
          "push_pull",
          "classic",
          "push_pull",
          "classic",
          "push_pull",
          "classic",
          "push_pull",
          "classic",
          "push_pull",
          "classic",
          "push_pull",
          "classic",
          "push_pull",
          "classic",
          "push_pull",
          "classic",
          "push_pull",
          "classic",
          "push_pull",
          "classic",
          "push_pull",
          "classic",
          "push_pull",
          "classic",
          "push_pull",
          "classic",
          "push_pull",
          "classic",
          "push_pull",
          "classic",
          "push_pull",
          "classic",
          "push_pull",
          "classic",
          "push_pull",
          "classic",
          "push_pull",
          "classic",
          "push_pull",
          "classic",
          "push_pull",
          "classic",
          "push_pull",
          "classic",
          "push_pull",
          "classic",
          "push_pull",
          "classic",
          "push_pull",
          "classic",
          "push_pull",
          "classic",
          "push_pull",
          "classic",
          "push_pull",
          "classic",
          "push_pull",
          "classic",
          "push_pull",
          "classic",
          "push_pull",
          "classic",
          "push_pull",
          "classic",
          "push_pull",
          "classic",
          "push_pull",
          "classic",
          "push_pull",
          "classic",
          "push_pull",
          "classic",
          "push_pull",
          "classic",
          "push_pull",
          "classic",
          "push_pull",
          "classic",
          "push_pull",
          "classic",
          "push_pull",
          "classic",
          "push_pull",
          "classic",
          "push_pull",
          "classic",
          "push_pull",
          "classic",
          "push_pull",
          "classic",
          "push_pull",
          "classic",
          "push_pull",
          "classic",
          "push_pull",
          "classic",
          "push_pull",
          "classic",
          "push_pull",
          "classic",
          "push_pull",
          "classic",
          "push_pull",
          "classic",
          "push_pull",
          "classic",
          "push_pull",
          "classic",
          "push_pull",
          "classic",
          "push_pull",
          "classic",
          "push_pull",
          "classic",
          "push_pull",
          "classic",
          "push_pull",
          "classic",
          "push_pull",
          "classic",
          "push_pull",
          "classic",
          "push_pull",
          "classic",
          "push_pull",
          "classic",
          "push_pull",
          "classic",
          "push_pull",
          "classic",
          "push_pull",
          "classic",
          "push_pull",
          "classic",
          "push_pull",
          "classic",
          "push_pull",
          "classic",
          "push_pull",
          "classic",
          "push_pull",
          "classic",
          "push_pull",
          "classic",
          "push_pull",
          "classic",
          "push_pull",
          "classic",
          "push_pull",
          "classic",
          "push_pull",
          "classic",
          "push_pull",
          "classic",
          "push_pull",
          "classic",
          "push_pull",
          "classic",
          "push_pull",
          "classic",
          "push_pull",
          "classic",
          "push_pull",
          "classic",
          "push_pull",
          "classic",
          "push_pull",
          "classic",
          "push_pull",
          "classic",
          "push_pull",
          "classic",
          "push_pull",
          "classic",
          "push_pull",
          "classic",
          "push_pull",
          "classic",
          "push_pull",
          "classic",
          "push_pull",
          "classic",
          "push_pull",
          "classic",
          "push_pull",
          "classic",
          "push_pull",
          "classic",
          "push_pull",
          "classic",
          "push_pull",
          "classic",
          "push_pull",
          "classic",
          "push_pull",
          "classic",
          "push_pull",
          "classic",
          "push_pull",
          "classic",
          "push_pull",
          "classic",
          "push_pull",
          "classic",
          "push_pull",
          "classic",
          "push_pull",
          "classic",
          "push_pull",
          "classic",
          "push_pull",
          "classic",
          "push_pull",
          "classic",
          "push_pull",
          "classic",
          "push_pull",
          "classic",
          "push_pull",
          "classic",
          "push_pull",
          "classic",
          "push_pull",
          "classic",
          "push_pull",
          "classic",
          "push_pull",
          "classic",
          "push_pull",
          "classic",
          "push_pull",
          "classic",
          "push_pull",
          "classic",
          "push_pull",
          "classic",
          "push_pull",
          "classic",
          "push_pull",
          "classic",
          "push_pull",
          "classic",
          "push_pull",
          "classic",
          "push_pull",
          "classic",
          "push_pull",
          "classic",
          "push_pull",
          "classic",
          "push_pull",
          "classic",
          "push_pull",
          "classic",
          "push_pull",
          "classic",
          "push_pull",
          "classic",
          "push_pull",
          "classic",
          "push_pull",
          "classic",
          "push_pull",
          "classic",
          "push_pull",
          "classic",
          "push_pull",
          "classic",
          "push_pull",
          "classic",
          "push_pull",
          "classic",
          "push_pull",
          "classic",
          "push_pull",
          "classic",
          "push_pull",
          "classic",
          "push_pull",
          "classic",
          "push_pull",
          "classic",
          "push_pull",
          "classic",
          "push_pull",
          "classic",
          "push_pull",
          "classic",
          "push_pull",
          "classic",
          "push_pull",
          "classic",
          "push_pull",
          "classic",
          "push_pull",
          "classic",
          "push_pull",
          "classic",
          "push_pull",
          "classic",
          "push_pull"
         ],
         "xaxis": "x",
         "y": [
          0.004464864730834961,
          0.01892709732055664,
          0.010440587997436523,
          0.011998176574707031,
          0.0054547786712646484,
          0.013254404067993164,
          0,
          0.02106022834777832,
          0.01590442657470703,
          0.012174844741821289,
          0,
          0.019464969635009766,
          0,
          0.012117385864257812,
          0.016488075256347656,
          0.01570272445678711,
          0.00279998779296875,
          0.013527631759643555,
          0,
          0.019455432891845703,
          0.014941692352294922,
          0.01198720932006836,
          0,
          0.01655745506286621,
          0,
          0.0008759498596191406,
          0.01685786247253418,
          0.01577019691467285,
          0.0042684078216552734,
          0.016710281372070312,
          0.011927604675292969,
          0,
          0.0005335807800292969,
          0.016608715057373047,
          0,
          0.016692638397216797,
          0,
          0.019837379455566406,
          0.019031047821044922,
          0.012865066528320312,
          0.008260965347290039,
          0.01273965835571289,
          0.008237361907958984,
          0.010100603103637695,
          0.011513948440551758,
          0,
          0.0009477138519287109,
          0.02143692970275879,
          0.01181936264038086,
          0.0009360313415527344,
          0.014261722564697266,
          0.016719341278076172,
          0,
          0.018490314483642578,
          0.014996767044067383,
          0,
          0,
          0.02068328857421875,
          0,
          0.016731739044189453,
          0.0016710758209228516,
          0.01678013801574707,
          0,
          0.00360870361328125,
          0.01689910888671875,
          0.01573634147644043,
          0,
          0.016797542572021484,
          0.01227426528930664,
          0,
          0.021371841430664062,
          0.011723518371582031,
          0.009495735168457031,
          0.010056734085083008,
          0.010485649108886719,
          0.007923364639282227,
          0.012741804122924805,
          0.016567468643188477,
          0.002226114273071289,
          0.018686294555664062,
          0.0022411346435546875,
          0.012227058410644531,
          0.0051729679107666016,
          0.013715505599975586,
          0.013637542724609375,
          0.02050018310546875,
          0.011777639389038086,
          0.02215576171875,
          0.020077228546142578,
          0.022574424743652344,
          0.01755547523498535,
          0.029871225357055664,
          0.020981311798095703,
          0.022220611572265625,
          0.02388620376586914,
          0.01699662208557129,
          0.01111459732055664,
          0.011215925216674805,
          0.008144378662109375,
          0.016763687133789062,
          0.021877050399780273,
          0.011011123657226562,
          0.025358915328979492,
          0.020144939422607422,
          0.002315044403076172,
          0.016720056533813477,
          0.001417398452758789,
          0.021833419799804688,
          0.0038869380950927734,
          0.02395153045654297,
          0.015543460845947266,
          0.023119688034057617,
          0.016643285751342773,
          0.06488466262817383,
          0.01644420623779297,
          0.032222747802734375,
          0,
          0.03159618377685547,
          0.00141143798828125,
          0.018633365631103516,
          0,
          0.030511140823364258,
          0.001972198486328125,
          0.02928900718688965,
          0.0016345977783203125,
          0.016655683517456055,
          0.0006859302520751953,
          0.016495227813720703,
          0.016596555709838867,
          0.020017623901367188,
          0.013544082641601562,
          0.016555070877075195,
          0.016831636428833008,
          0.01627969741821289,
          0.016847610473632812,
          0.021072864532470703,
          0.013339042663574219,
          0.026011943817138672,
          0.013030529022216797,
          0.007873058319091797,
          0.015915632247924805,
          0.02626633644104004,
          0.0023632049560546875,
          0.017019271850585938,
          0.023125410079956055,
          0.009496450424194336,
          0.01664280891418457,
          0.027534008026123047,
          0.006108283996582031,
          0.01649951934814453,
          0.017220258712768555,
          0.016124486923217773,
          0.016658306121826172,
          0.01676321029663086,
          0.018376827239990234,
          0.015148162841796875,
          0.01644301414489746,
          0.01681351661682129,
          0.01624011993408203,
          0.01657891273498535,
          0.019577980041503906,
          0.01393437385559082,
          0.01662421226501465,
          0.016654253005981445,
          0.01667499542236328,
          0.016779422760009766,
          0.016546249389648438,
          0.018335342407226562,
          0.015216827392578125,
          0.03299760818481445,
          0.01682281494140625,
          0.03484487533569336,
          0.015392065048217773,
          0.032729148864746094,
          0.017502784729003906,
          0.034618377685546875,
          0.01468801498413086,
          0.03310108184814453,
          0.017047882080078125,
          0.03313589096069336,
          0.018616437911987305,
          0.03111410140991211,
          0.016762495040893555,
          0.03325033187866211,
          0.018555402755737305,
          0.031234025955200195,
          0.01714920997619629,
          0.0327601432800293,
          0.019113540649414062,
          0.031131267547607422,
          0.016854047775268555,
          0.03281736373901367,
          0.01714181900024414,
          0.03321576118469238,
          0.016544342041015625,
          0.03324389457702637,
          0.01712942123413086,
          0.032850027084350586,
          0.017820119857788086,
          0.03178143501281738,
          0.017577648162841797,
          0.032791852951049805,
          0.01662588119506836,
          0.03364109992980957,
          0.01647353172302246,
          0.0194244384765625,
          0.029502391815185547,
          0.01764845848083496,
          0.01689004898071289,
          0.01962137222290039,
          0.014894723892211914,
          0.03219437599182129,
          0.0177304744720459,
          0.032350778579711914,
          0.033827781677246094,
          0.0320591926574707,
          0.017186641693115234,
          0.033348798751831055,
          0.014283180236816406,
          0.03399300575256348,
          0.015647172927856445,
          0.03359794616699219,
          0.019443273544311523,
          0.030241012573242188,
          0.01643967628479004,
          0.033576011657714844,
          0.019074440002441406,
          0.030842065811157227,
          0.016604900360107422,
          0.033147335052490234,
          0.032059431076049805,
          0.01720905303955078,
          0.01884913444519043,
          0.03146171569824219,
          0.019969463348388672,
          0.030155658721923828,
          0.01641058921813965,
          0.0342409610748291,
          0.01595592498779297,
          0.033431291580200195,
          0.016318559646606445,
          0.03325843811035156,
          0.016652584075927734,
          0.033704519271850586,
          0.01632237434387207,
          0.03340959548950195,
          0.017299413681030273,
          0.03595852851867676,
          0.013646602630615234,
          0.034946441650390625,
          0.014869928359985352,
          0.036416053771972656,
          0.047020673751831055,
          0.08310079574584961,
          0.05836033821105957,
          0.08352184295654297,
          0.04926300048828125,
          0.08339977264404297,
          0.05004167556762695,
          0.10022616386413574,
          0.05113935470581055,
          0.08469724655151367,
          0.05062150955200195,
          0.09335088729858398,
          0.05291461944580078,
          0.08124685287475586,
          0.05417513847351074,
          0.08444333076477051,
          0.04384803771972656,
          0.08582735061645508,
          0.05189108848571777,
          0.09010481834411621,
          0.056247711181640625,
          0.08763980865478516,
          0.05179119110107422,
          0.0838923454284668,
          0.050446271896362305,
          0.08818697929382324,
          0.04987525939941406,
          0.08477139472961426,
          0.052710771560668945,
          0.08364725112915039,
          0.0524444580078125,
          0.08489346504211426,
          0.052095890045166016,
          0.09254908561706543,
          0.0521087646484375,
          0.08714890480041504,
          0.054605722427368164,
          0.09539651870727539,
          0.04957008361816406,
          0.09362435340881348,
          0.05048203468322754,
          0.08744287490844727,
          0.052881717681884766,
          0.08564543724060059,
          0.05205178260803223,
          0.09381985664367676,
          0.05259990692138672,
          0.08121323585510254,
          0.06343770027160645,
          0.08528280258178711,
          0.05099034309387207,
          0.08918070793151855,
          0.05638527870178223,
          0.0857231616973877,
          0.052301645278930664,
          0.08557677268981934,
          0.05328369140625,
          0.08477020263671875,
          0.0522158145904541,
          0.08688044548034668,
          0.052408695220947266,
          0.07482242584228516,
          0.06616544723510742,
          0.08351516723632812,
          0.05311846733093262,
          0.08614134788513184,
          0.06194639205932617,
          0.08482575416564941,
          0.05264139175415039,
          0.10155797004699707,
          0.04279589653015137,
          0.1001901626586914,
          0.04998612403869629,
          0.09183979034423828,
          0.07485246658325195,
          0.08422470092773438,
          0.05678915977478027,
          0.08288812637329102,
          0.05586695671081543,
          0.08470487594604492,
          0.051965951919555664,
          0.0855095386505127,
          0.04967999458312988,
          0.08710408210754395,
          0.07241368293762207,
          0.14037442207336426,
          0.0834197998046875,
          0.14714837074279785,
          0.07955193519592285,
          0.1553361415863037,
          0.08474493026733398,
          0.13948416709899902,
          0.08860182762145996,
          0.13575339317321777,
          0.08541417121887207,
          0.14547252655029297,
          0.08368325233459473,
          0.1496720314025879,
          0.08337211608886719,
          0.16640472412109375,
          0.08311271667480469,
          0.1501772403717041,
          0.08762359619140625,
          0.1486647129058838,
          0.08014702796936035,
          0.18329644203186035,
          0.08892965316772461,
          0.1435232162475586,
          0.08321547508239746,
          0.15425348281860352,
          0.09932684898376465,
          0.14231038093566895,
          0.08314728736877441,
          0.13814330101013184,
          0.08559775352478027,
          0.16141819953918457,
          0.0857536792755127,
          0.14426684379577637,
          0.0914769172668457,
          0.147446870803833,
          0.08656573295593262,
          0.14562225341796875,
          0.08527636528015137,
          0.14722585678100586,
          0.08317446708679199,
          0.1409904956817627,
          0.08588171005249023,
          0.1359097957611084,
          0.09469985961914062,
          0.14296722412109375,
          0.08482027053833008,
          0.14008092880249023,
          0.1251060962677002,
          0.14627361297607422,
          0.0903317928314209,
          0.1430799961090088,
          0.08580565452575684,
          0.14716792106628418,
          0.09167075157165527,
          0.14425277709960938,
          0.08057808876037598,
          0.15150737762451172,
          0.08574628829956055,
          0.14783763885498047,
          0.08338475227355957,
          0.14650249481201172,
          0.0923616886138916,
          0.1461777687072754,
          0.08418703079223633,
          0.145402193069458,
          0.08342313766479492,
          0.14814329147338867,
          0.09201741218566895,
          0.14583086967468262,
          0.08044147491455078,
          0.15156102180480957,
          0.07966351509094238,
          0.14988470077514648,
          0.0918424129486084,
          0.14430999755859375,
          0.08410859107971191,
          0.14706778526306152,
          0.09064793586730957,
          0.14257478713989258,
          0.08015012741088867,
          0.14022350311279297,
          0.08917975425720215,
          0.1456594467163086
         ],
         "yaxis": "y"
        }
       ],
       "layout": {
        "coloraxis": {
         "colorbar": {
          "title": {
           "text": "Количество вершин"
          }
         },
         "colorscale": [
          [
           0,
           "#0d0887"
          ],
          [
           0.1111111111111111,
           "#46039f"
          ],
          [
           0.2222222222222222,
           "#7201a8"
          ],
          [
           0.3333333333333333,
           "#9c179e"
          ],
          [
           0.4444444444444444,
           "#bd3786"
          ],
          [
           0.5555555555555556,
           "#d8576b"
          ],
          [
           0.6666666666666666,
           "#ed7953"
          ],
          [
           0.7777777777777778,
           "#fb9f3a"
          ],
          [
           0.8888888888888888,
           "#fdca26"
          ],
          [
           1,
           "#f0f921"
          ]
         ]
        },
        "legend": {
         "tracegroupgap": 0
        },
        "margin": {
         "t": 60
        },
        "template": {
         "data": {
          "bar": [
           {
            "error_x": {
             "color": "#2a3f5f"
            },
            "error_y": {
             "color": "#2a3f5f"
            },
            "marker": {
             "line": {
              "color": "#E5ECF6",
              "width": 0.5
             },
             "pattern": {
              "fillmode": "overlay",
              "size": 10,
              "solidity": 0.2
             }
            },
            "type": "bar"
           }
          ],
          "barpolar": [
           {
            "marker": {
             "line": {
              "color": "#E5ECF6",
              "width": 0.5
             },
             "pattern": {
              "fillmode": "overlay",
              "size": 10,
              "solidity": 0.2
             }
            },
            "type": "barpolar"
           }
          ],
          "carpet": [
           {
            "aaxis": {
             "endlinecolor": "#2a3f5f",
             "gridcolor": "white",
             "linecolor": "white",
             "minorgridcolor": "white",
             "startlinecolor": "#2a3f5f"
            },
            "baxis": {
             "endlinecolor": "#2a3f5f",
             "gridcolor": "white",
             "linecolor": "white",
             "minorgridcolor": "white",
             "startlinecolor": "#2a3f5f"
            },
            "type": "carpet"
           }
          ],
          "choropleth": [
           {
            "colorbar": {
             "outlinewidth": 0,
             "ticks": ""
            },
            "type": "choropleth"
           }
          ],
          "contour": [
           {
            "colorbar": {
             "outlinewidth": 0,
             "ticks": ""
            },
            "colorscale": [
             [
              0,
              "#0d0887"
             ],
             [
              0.1111111111111111,
              "#46039f"
             ],
             [
              0.2222222222222222,
              "#7201a8"
             ],
             [
              0.3333333333333333,
              "#9c179e"
             ],
             [
              0.4444444444444444,
              "#bd3786"
             ],
             [
              0.5555555555555556,
              "#d8576b"
             ],
             [
              0.6666666666666666,
              "#ed7953"
             ],
             [
              0.7777777777777778,
              "#fb9f3a"
             ],
             [
              0.8888888888888888,
              "#fdca26"
             ],
             [
              1,
              "#f0f921"
             ]
            ],
            "type": "contour"
           }
          ],
          "contourcarpet": [
           {
            "colorbar": {
             "outlinewidth": 0,
             "ticks": ""
            },
            "type": "contourcarpet"
           }
          ],
          "heatmap": [
           {
            "colorbar": {
             "outlinewidth": 0,
             "ticks": ""
            },
            "colorscale": [
             [
              0,
              "#0d0887"
             ],
             [
              0.1111111111111111,
              "#46039f"
             ],
             [
              0.2222222222222222,
              "#7201a8"
             ],
             [
              0.3333333333333333,
              "#9c179e"
             ],
             [
              0.4444444444444444,
              "#bd3786"
             ],
             [
              0.5555555555555556,
              "#d8576b"
             ],
             [
              0.6666666666666666,
              "#ed7953"
             ],
             [
              0.7777777777777778,
              "#fb9f3a"
             ],
             [
              0.8888888888888888,
              "#fdca26"
             ],
             [
              1,
              "#f0f921"
             ]
            ],
            "type": "heatmap"
           }
          ],
          "heatmapgl": [
           {
            "colorbar": {
             "outlinewidth": 0,
             "ticks": ""
            },
            "colorscale": [
             [
              0,
              "#0d0887"
             ],
             [
              0.1111111111111111,
              "#46039f"
             ],
             [
              0.2222222222222222,
              "#7201a8"
             ],
             [
              0.3333333333333333,
              "#9c179e"
             ],
             [
              0.4444444444444444,
              "#bd3786"
             ],
             [
              0.5555555555555556,
              "#d8576b"
             ],
             [
              0.6666666666666666,
              "#ed7953"
             ],
             [
              0.7777777777777778,
              "#fb9f3a"
             ],
             [
              0.8888888888888888,
              "#fdca26"
             ],
             [
              1,
              "#f0f921"
             ]
            ],
            "type": "heatmapgl"
           }
          ],
          "histogram": [
           {
            "marker": {
             "pattern": {
              "fillmode": "overlay",
              "size": 10,
              "solidity": 0.2
             }
            },
            "type": "histogram"
           }
          ],
          "histogram2d": [
           {
            "colorbar": {
             "outlinewidth": 0,
             "ticks": ""
            },
            "colorscale": [
             [
              0,
              "#0d0887"
             ],
             [
              0.1111111111111111,
              "#46039f"
             ],
             [
              0.2222222222222222,
              "#7201a8"
             ],
             [
              0.3333333333333333,
              "#9c179e"
             ],
             [
              0.4444444444444444,
              "#bd3786"
             ],
             [
              0.5555555555555556,
              "#d8576b"
             ],
             [
              0.6666666666666666,
              "#ed7953"
             ],
             [
              0.7777777777777778,
              "#fb9f3a"
             ],
             [
              0.8888888888888888,
              "#fdca26"
             ],
             [
              1,
              "#f0f921"
             ]
            ],
            "type": "histogram2d"
           }
          ],
          "histogram2dcontour": [
           {
            "colorbar": {
             "outlinewidth": 0,
             "ticks": ""
            },
            "colorscale": [
             [
              0,
              "#0d0887"
             ],
             [
              0.1111111111111111,
              "#46039f"
             ],
             [
              0.2222222222222222,
              "#7201a8"
             ],
             [
              0.3333333333333333,
              "#9c179e"
             ],
             [
              0.4444444444444444,
              "#bd3786"
             ],
             [
              0.5555555555555556,
              "#d8576b"
             ],
             [
              0.6666666666666666,
              "#ed7953"
             ],
             [
              0.7777777777777778,
              "#fb9f3a"
             ],
             [
              0.8888888888888888,
              "#fdca26"
             ],
             [
              1,
              "#f0f921"
             ]
            ],
            "type": "histogram2dcontour"
           }
          ],
          "mesh3d": [
           {
            "colorbar": {
             "outlinewidth": 0,
             "ticks": ""
            },
            "type": "mesh3d"
           }
          ],
          "parcoords": [
           {
            "line": {
             "colorbar": {
              "outlinewidth": 0,
              "ticks": ""
             }
            },
            "type": "parcoords"
           }
          ],
          "pie": [
           {
            "automargin": true,
            "type": "pie"
           }
          ],
          "scatter": [
           {
            "fillpattern": {
             "fillmode": "overlay",
             "size": 10,
             "solidity": 0.2
            },
            "type": "scatter"
           }
          ],
          "scatter3d": [
           {
            "line": {
             "colorbar": {
              "outlinewidth": 0,
              "ticks": ""
             }
            },
            "marker": {
             "colorbar": {
              "outlinewidth": 0,
              "ticks": ""
             }
            },
            "type": "scatter3d"
           }
          ],
          "scattercarpet": [
           {
            "marker": {
             "colorbar": {
              "outlinewidth": 0,
              "ticks": ""
             }
            },
            "type": "scattercarpet"
           }
          ],
          "scattergeo": [
           {
            "marker": {
             "colorbar": {
              "outlinewidth": 0,
              "ticks": ""
             }
            },
            "type": "scattergeo"
           }
          ],
          "scattergl": [
           {
            "marker": {
             "colorbar": {
              "outlinewidth": 0,
              "ticks": ""
             }
            },
            "type": "scattergl"
           }
          ],
          "scattermapbox": [
           {
            "marker": {
             "colorbar": {
              "outlinewidth": 0,
              "ticks": ""
             }
            },
            "type": "scattermapbox"
           }
          ],
          "scatterpolar": [
           {
            "marker": {
             "colorbar": {
              "outlinewidth": 0,
              "ticks": ""
             }
            },
            "type": "scatterpolar"
           }
          ],
          "scatterpolargl": [
           {
            "marker": {
             "colorbar": {
              "outlinewidth": 0,
              "ticks": ""
             }
            },
            "type": "scatterpolargl"
           }
          ],
          "scatterternary": [
           {
            "marker": {
             "colorbar": {
              "outlinewidth": 0,
              "ticks": ""
             }
            },
            "type": "scatterternary"
           }
          ],
          "surface": [
           {
            "colorbar": {
             "outlinewidth": 0,
             "ticks": ""
            },
            "colorscale": [
             [
              0,
              "#0d0887"
             ],
             [
              0.1111111111111111,
              "#46039f"
             ],
             [
              0.2222222222222222,
              "#7201a8"
             ],
             [
              0.3333333333333333,
              "#9c179e"
             ],
             [
              0.4444444444444444,
              "#bd3786"
             ],
             [
              0.5555555555555556,
              "#d8576b"
             ],
             [
              0.6666666666666666,
              "#ed7953"
             ],
             [
              0.7777777777777778,
              "#fb9f3a"
             ],
             [
              0.8888888888888888,
              "#fdca26"
             ],
             [
              1,
              "#f0f921"
             ]
            ],
            "type": "surface"
           }
          ],
          "table": [
           {
            "cells": {
             "fill": {
              "color": "#EBF0F8"
             },
             "line": {
              "color": "white"
             }
            },
            "header": {
             "fill": {
              "color": "#C8D4E3"
             },
             "line": {
              "color": "white"
             }
            },
            "type": "table"
           }
          ]
         },
         "layout": {
          "annotationdefaults": {
           "arrowcolor": "#2a3f5f",
           "arrowhead": 0,
           "arrowwidth": 1
          },
          "autotypenumbers": "strict",
          "coloraxis": {
           "colorbar": {
            "outlinewidth": 0,
            "ticks": ""
           }
          },
          "colorscale": {
           "diverging": [
            [
             0,
             "#8e0152"
            ],
            [
             0.1,
             "#c51b7d"
            ],
            [
             0.2,
             "#de77ae"
            ],
            [
             0.3,
             "#f1b6da"
            ],
            [
             0.4,
             "#fde0ef"
            ],
            [
             0.5,
             "#f7f7f7"
            ],
            [
             0.6,
             "#e6f5d0"
            ],
            [
             0.7,
             "#b8e186"
            ],
            [
             0.8,
             "#7fbc41"
            ],
            [
             0.9,
             "#4d9221"
            ],
            [
             1,
             "#276419"
            ]
           ],
           "sequential": [
            [
             0,
             "#0d0887"
            ],
            [
             0.1111111111111111,
             "#46039f"
            ],
            [
             0.2222222222222222,
             "#7201a8"
            ],
            [
             0.3333333333333333,
             "#9c179e"
            ],
            [
             0.4444444444444444,
             "#bd3786"
            ],
            [
             0.5555555555555556,
             "#d8576b"
            ],
            [
             0.6666666666666666,
             "#ed7953"
            ],
            [
             0.7777777777777778,
             "#fb9f3a"
            ],
            [
             0.8888888888888888,
             "#fdca26"
            ],
            [
             1,
             "#f0f921"
            ]
           ],
           "sequentialminus": [
            [
             0,
             "#0d0887"
            ],
            [
             0.1111111111111111,
             "#46039f"
            ],
            [
             0.2222222222222222,
             "#7201a8"
            ],
            [
             0.3333333333333333,
             "#9c179e"
            ],
            [
             0.4444444444444444,
             "#bd3786"
            ],
            [
             0.5555555555555556,
             "#d8576b"
            ],
            [
             0.6666666666666666,
             "#ed7953"
            ],
            [
             0.7777777777777778,
             "#fb9f3a"
            ],
            [
             0.8888888888888888,
             "#fdca26"
            ],
            [
             1,
             "#f0f921"
            ]
           ]
          },
          "colorway": [
           "#636efa",
           "#EF553B",
           "#00cc96",
           "#ab63fa",
           "#FFA15A",
           "#19d3f3",
           "#FF6692",
           "#B6E880",
           "#FF97FF",
           "#FECB52"
          ],
          "font": {
           "color": "#2a3f5f"
          },
          "geo": {
           "bgcolor": "white",
           "lakecolor": "white",
           "landcolor": "#E5ECF6",
           "showlakes": true,
           "showland": true,
           "subunitcolor": "white"
          },
          "hoverlabel": {
           "align": "left"
          },
          "hovermode": "closest",
          "mapbox": {
           "style": "light"
          },
          "paper_bgcolor": "white",
          "plot_bgcolor": "#E5ECF6",
          "polar": {
           "angularaxis": {
            "gridcolor": "white",
            "linecolor": "white",
            "ticks": ""
           },
           "bgcolor": "#E5ECF6",
           "radialaxis": {
            "gridcolor": "white",
            "linecolor": "white",
            "ticks": ""
           }
          },
          "scene": {
           "xaxis": {
            "backgroundcolor": "#E5ECF6",
            "gridcolor": "white",
            "gridwidth": 2,
            "linecolor": "white",
            "showbackground": true,
            "ticks": "",
            "zerolinecolor": "white"
           },
           "yaxis": {
            "backgroundcolor": "#E5ECF6",
            "gridcolor": "white",
            "gridwidth": 2,
            "linecolor": "white",
            "showbackground": true,
            "ticks": "",
            "zerolinecolor": "white"
           },
           "zaxis": {
            "backgroundcolor": "#E5ECF6",
            "gridcolor": "white",
            "gridwidth": 2,
            "linecolor": "white",
            "showbackground": true,
            "ticks": "",
            "zerolinecolor": "white"
           }
          },
          "shapedefaults": {
           "line": {
            "color": "#2a3f5f"
           }
          },
          "ternary": {
           "aaxis": {
            "gridcolor": "white",
            "linecolor": "white",
            "ticks": ""
           },
           "baxis": {
            "gridcolor": "white",
            "linecolor": "white",
            "ticks": ""
           },
           "bgcolor": "#E5ECF6",
           "caxis": {
            "gridcolor": "white",
            "linecolor": "white",
            "ticks": ""
           }
          },
          "title": {
           "x": 0.05
          },
          "xaxis": {
           "automargin": true,
           "gridcolor": "white",
           "linecolor": "white",
           "ticks": "",
           "title": {
            "standoff": 15
           },
           "zerolinecolor": "white",
           "zerolinewidth": 2
          },
          "yaxis": {
           "automargin": true,
           "gridcolor": "white",
           "linecolor": "white",
           "ticks": "",
           "title": {
            "standoff": 15
           },
           "zerolinecolor": "white",
           "zerolinewidth": 2
          }
         }
        },
        "xaxis": {
         "anchor": "y",
         "domain": [
          0,
          1
         ],
         "title": {
          "text": "Функция"
         }
        },
        "yaxis": {
         "anchor": "x",
         "domain": [
          0,
          1
         ],
         "title": {
          "text": "Время"
         }
        }
       }
      }
     },
     "metadata": {},
     "output_type": "display_data"
    }
   ],
   "source": [
    "px.scatter(compet, x = 'Функция', y = 'Время', color = 'Количество вершин')"
   ]
  },
  {
   "cell_type": "markdown",
   "id": "eaeef8e7",
   "metadata": {},
   "source": [
    "## Bellman-Ford mult push/pull"
   ]
  },
  {
   "cell_type": "code",
   "execution_count": 155,
   "id": "9986c33b",
   "metadata": {},
   "outputs": [
    {
     "data": {
      "text/plain": [
       "range(0, 50)"
      ]
     },
     "execution_count": 155,
     "metadata": {},
     "output_type": "execute_result"
    }
   ],
   "source": [
    "range(0,int(500*0.1))"
   ]
  },
  {
   "cell_type": "code",
   "execution_count": null,
   "id": "5f9a3fb0",
   "metadata": {},
   "outputs": [],
   "source": [
    "resume1 = pd.DataFrame(columns=['Количество вершин', 'Степень разреженности', 'Количество стартовых вершин', 'Уровень push/pull', 'Время'])\n",
    "count_vertices = [400, 600, 1000, 3000]\n",
    "densityes = [0.1, 0.3, 0.6, 0.8, 1]\n",
    "\n",
    "for count_vertice in count_vertices:\n",
    "    for density in densityes:\n",
    "        graph = generate_graph(count_vertice, density)\n",
    "        for i in [0.0, 0.1, 0.3, 0.5, 0.7, 1.0]:\n",
    "            work_time = test_Bellman_Ford_mult_push_pull(graph, range(0, int(count_vertice*0.1)), i)\n",
    "            resume1.loc[len(resume1)] = count_vertice, density, int(count_vertice*0.1), i, work_time\n"
   ]
  },
  {
   "cell_type": "code",
   "execution_count": 161,
   "id": "78b8a618",
   "metadata": {},
   "outputs": [
    {
     "data": {
      "text/html": [
       "<div>\n",
       "<style scoped>\n",
       "    .dataframe tbody tr th:only-of-type {\n",
       "        vertical-align: middle;\n",
       "    }\n",
       "\n",
       "    .dataframe tbody tr th {\n",
       "        vertical-align: top;\n",
       "    }\n",
       "\n",
       "    .dataframe thead th {\n",
       "        text-align: right;\n",
       "    }\n",
       "</style>\n",
       "<table border=\"1\" class=\"dataframe\">\n",
       "  <thead>\n",
       "    <tr style=\"text-align: right;\">\n",
       "      <th></th>\n",
       "      <th>Количество вершин</th>\n",
       "      <th>Степень разреженности</th>\n",
       "      <th>Количество стартовых вершин</th>\n",
       "      <th>Уровень push/pull</th>\n",
       "      <th>Время</th>\n",
       "    </tr>\n",
       "  </thead>\n",
       "  <tbody>\n",
       "    <tr>\n",
       "      <th>0</th>\n",
       "      <td>400.0</td>\n",
       "      <td>0.1</td>\n",
       "      <td>40.0</td>\n",
       "      <td>0.0</td>\n",
       "      <td>0.645916</td>\n",
       "    </tr>\n",
       "    <tr>\n",
       "      <th>1</th>\n",
       "      <td>400.0</td>\n",
       "      <td>0.1</td>\n",
       "      <td>40.0</td>\n",
       "      <td>0.1</td>\n",
       "      <td>0.621133</td>\n",
       "    </tr>\n",
       "    <tr>\n",
       "      <th>2</th>\n",
       "      <td>400.0</td>\n",
       "      <td>0.1</td>\n",
       "      <td>40.0</td>\n",
       "      <td>0.3</td>\n",
       "      <td>0.761393</td>\n",
       "    </tr>\n",
       "    <tr>\n",
       "      <th>3</th>\n",
       "      <td>400.0</td>\n",
       "      <td>0.1</td>\n",
       "      <td>40.0</td>\n",
       "      <td>0.5</td>\n",
       "      <td>0.632513</td>\n",
       "    </tr>\n",
       "    <tr>\n",
       "      <th>4</th>\n",
       "      <td>400.0</td>\n",
       "      <td>0.1</td>\n",
       "      <td>40.0</td>\n",
       "      <td>0.7</td>\n",
       "      <td>0.632320</td>\n",
       "    </tr>\n",
       "    <tr>\n",
       "      <th>...</th>\n",
       "      <td>...</td>\n",
       "      <td>...</td>\n",
       "      <td>...</td>\n",
       "      <td>...</td>\n",
       "      <td>...</td>\n",
       "    </tr>\n",
       "    <tr>\n",
       "      <th>98</th>\n",
       "      <td>3000.0</td>\n",
       "      <td>0.3</td>\n",
       "      <td>300.0</td>\n",
       "      <td>0.3</td>\n",
       "      <td>32.948505</td>\n",
       "    </tr>\n",
       "    <tr>\n",
       "      <th>99</th>\n",
       "      <td>3000.0</td>\n",
       "      <td>0.3</td>\n",
       "      <td>300.0</td>\n",
       "      <td>0.5</td>\n",
       "      <td>34.388400</td>\n",
       "    </tr>\n",
       "    <tr>\n",
       "      <th>100</th>\n",
       "      <td>3000.0</td>\n",
       "      <td>0.3</td>\n",
       "      <td>300.0</td>\n",
       "      <td>0.7</td>\n",
       "      <td>33.185493</td>\n",
       "    </tr>\n",
       "    <tr>\n",
       "      <th>101</th>\n",
       "      <td>3000.0</td>\n",
       "      <td>0.3</td>\n",
       "      <td>300.0</td>\n",
       "      <td>1.0</td>\n",
       "      <td>33.009961</td>\n",
       "    </tr>\n",
       "    <tr>\n",
       "      <th>102</th>\n",
       "      <td>3000.0</td>\n",
       "      <td>0.6</td>\n",
       "      <td>300.0</td>\n",
       "      <td>0.0</td>\n",
       "      <td>33.506038</td>\n",
       "    </tr>\n",
       "  </tbody>\n",
       "</table>\n",
       "<p>103 rows × 5 columns</p>\n",
       "</div>"
      ],
      "text/plain": [
       "     Количество вершин  Степень разреженности  Количество стартовых вершин  \\\n",
       "0                400.0                    0.1                         40.0   \n",
       "1                400.0                    0.1                         40.0   \n",
       "2                400.0                    0.1                         40.0   \n",
       "3                400.0                    0.1                         40.0   \n",
       "4                400.0                    0.1                         40.0   \n",
       "..                 ...                    ...                          ...   \n",
       "98              3000.0                    0.3                        300.0   \n",
       "99              3000.0                    0.3                        300.0   \n",
       "100             3000.0                    0.3                        300.0   \n",
       "101             3000.0                    0.3                        300.0   \n",
       "102             3000.0                    0.6                        300.0   \n",
       "\n",
       "     Уровень push/pull      Время  \n",
       "0                  0.0   0.645916  \n",
       "1                  0.1   0.621133  \n",
       "2                  0.3   0.761393  \n",
       "3                  0.5   0.632513  \n",
       "4                  0.7   0.632320  \n",
       "..                 ...        ...  \n",
       "98                 0.3  32.948505  \n",
       "99                 0.5  34.388400  \n",
       "100                0.7  33.185493  \n",
       "101                1.0  33.009961  \n",
       "102                0.0  33.506038  \n",
       "\n",
       "[103 rows x 5 columns]"
      ]
     },
     "execution_count": 161,
     "metadata": {},
     "output_type": "execute_result"
    }
   ],
   "source": [
    "resume1"
   ]
  },
  {
   "cell_type": "code",
   "execution_count": 162,
   "id": "363c46ae",
   "metadata": {},
   "outputs": [
    {
     "data": {
      "application/vnd.plotly.v1+json": {
       "config": {
        "plotlyServerURL": "https://plot.ly"
       },
       "data": [
        {
         "hovertemplate": "Количество вершин=%{x}<br>Время=%{y}<br>Уровень push/pull=%{marker.color}<extra></extra>",
         "legendgroup": "",
         "marker": {
          "color": [
           0,
           0.1,
           0.3,
           0.5,
           0.7,
           1,
           0,
           0.1,
           0.3,
           0.5,
           0.7,
           1,
           0,
           0.1,
           0.3,
           0.5,
           0.7,
           1,
           0,
           0.1,
           0.3,
           0.5,
           0.7,
           1,
           0,
           0.1,
           0.3,
           0.5,
           0.7,
           1,
           0,
           0.1,
           0.3,
           0.5,
           0.7,
           1,
           0,
           0.1,
           0.3,
           0.5,
           0.7,
           1,
           0,
           0.1,
           0.3,
           0.5,
           0.7,
           1,
           0,
           0.1,
           0.3,
           0.5,
           0.7,
           1,
           0,
           0.1,
           0.3,
           0.5,
           0.7,
           1,
           0,
           0.1,
           0.3,
           0.5,
           0.7,
           1,
           0,
           0.1,
           0.3,
           0.5,
           0.7,
           1,
           0,
           0.1,
           0.3,
           0.5,
           0.7,
           1,
           0,
           0.1,
           0.3,
           0.5,
           0.7,
           1,
           0,
           0.1,
           0.3,
           0.5,
           0.7,
           1,
           0,
           0.1,
           0.3,
           0.5,
           0.7,
           1,
           0,
           0.1,
           0.3,
           0.5,
           0.7,
           1,
           0
          ],
          "coloraxis": "coloraxis",
          "symbol": "circle"
         },
         "mode": "markers",
         "name": "",
         "orientation": "v",
         "showlegend": false,
         "type": "scatter",
         "x": [
          400,
          400,
          400,
          400,
          400,
          400,
          400,
          400,
          400,
          400,
          400,
          400,
          400,
          400,
          400,
          400,
          400,
          400,
          400,
          400,
          400,
          400,
          400,
          400,
          400,
          400,
          400,
          400,
          400,
          400,
          600,
          600,
          600,
          600,
          600,
          600,
          600,
          600,
          600,
          600,
          600,
          600,
          600,
          600,
          600,
          600,
          600,
          600,
          600,
          600,
          600,
          600,
          600,
          600,
          600,
          600,
          600,
          600,
          600,
          600,
          1000,
          1000,
          1000,
          1000,
          1000,
          1000,
          1000,
          1000,
          1000,
          1000,
          1000,
          1000,
          1000,
          1000,
          1000,
          1000,
          1000,
          1000,
          1000,
          1000,
          1000,
          1000,
          1000,
          1000,
          1000,
          1000,
          1000,
          1000,
          1000,
          1000,
          3000,
          3000,
          3000,
          3000,
          3000,
          3000,
          3000,
          3000,
          3000,
          3000,
          3000,
          3000,
          3000
         ],
         "xaxis": "x",
         "y": [
          0.6459159851074219,
          0.6211333274841309,
          0.7613925933837891,
          0.6325132846832275,
          0.6323204040527344,
          0.6000511646270752,
          0.6212458610534668,
          0.6270766258239746,
          0.6139426231384277,
          0.6221253871917725,
          0.6124391555786133,
          0.6197004318237305,
          0.5965249538421631,
          0.6077563762664795,
          0.6063244342803955,
          0.6075208187103271,
          0.6043462753295898,
          0.6166508197784424,
          0.5994083881378174,
          0.5971226692199707,
          0.6356432437896729,
          0.6067545413970947,
          0.6087493896484375,
          0.5967488288879395,
          0.6072690486907959,
          0.6078743934631348,
          0.6037249565124512,
          0.6119143962860107,
          0.5964581966400146,
          0.6104912757873535,
          1.3442628383636475,
          1.3432633876800537,
          1.385486125946045,
          1.38145112991333,
          1.3543567657470703,
          1.349534273147583,
          1.3523056507110596,
          1.3948476314544678,
          1.3230154514312744,
          1.341606855392456,
          1.3397603034973145,
          1.3698933124542236,
          1.3489341735839844,
          1.3774912357330322,
          1.3609046936035156,
          1.379305362701416,
          1.3661279678344727,
          1.377964735031128,
          1.3352413177490234,
          1.3739399909973145,
          1.3539402484893799,
          1.3518779277801514,
          1.3646125793457031,
          1.3656675815582275,
          1.3390100002288818,
          1.3529751300811768,
          1.3468799591064453,
          1.3745548725128174,
          1.3658125400543213,
          1.370532751083374,
          3.7717950344085693,
          3.871034860610962,
          4.47627329826355,
          3.7833986282348633,
          3.813472032546997,
          3.7690064907073975,
          3.733895778656006,
          3.7570066452026367,
          3.7844090461730957,
          3.7869279384613037,
          3.6910037994384766,
          3.758687973022461,
          3.7106821537017822,
          3.702807903289795,
          3.7762465476989746,
          3.797905445098877,
          3.7380659580230713,
          3.720715045928955,
          3.7311019897460938,
          3.7301137447357178,
          3.746800184249878,
          3.7286217212677,
          3.7761998176574707,
          3.7549264430999756,
          3.75527024269104,
          3.7805397510528564,
          4.079735994338989,
          3.773090124130249,
          3.820638418197632,
          3.770322799682617,
          34.83123755455017,
          33.12438249588013,
          33.071640968322754,
          34.17562675476074,
          33.084940910339355,
          33.55811929702759,
          32.88667631149292,
          32.96163892745972,
          32.94850540161133,
          34.3884003162384,
          33.18549346923828,
          33.009960651397705,
          33.506038427352905
         ],
         "yaxis": "y"
        }
       ],
       "layout": {
        "coloraxis": {
         "colorbar": {
          "title": {
           "text": "Уровень push/pull"
          }
         },
         "colorscale": [
          [
           0,
           "#0d0887"
          ],
          [
           0.1111111111111111,
           "#46039f"
          ],
          [
           0.2222222222222222,
           "#7201a8"
          ],
          [
           0.3333333333333333,
           "#9c179e"
          ],
          [
           0.4444444444444444,
           "#bd3786"
          ],
          [
           0.5555555555555556,
           "#d8576b"
          ],
          [
           0.6666666666666666,
           "#ed7953"
          ],
          [
           0.7777777777777778,
           "#fb9f3a"
          ],
          [
           0.8888888888888888,
           "#fdca26"
          ],
          [
           1,
           "#f0f921"
          ]
         ]
        },
        "legend": {
         "tracegroupgap": 0
        },
        "margin": {
         "t": 60
        },
        "template": {
         "data": {
          "bar": [
           {
            "error_x": {
             "color": "#2a3f5f"
            },
            "error_y": {
             "color": "#2a3f5f"
            },
            "marker": {
             "line": {
              "color": "#E5ECF6",
              "width": 0.5
             },
             "pattern": {
              "fillmode": "overlay",
              "size": 10,
              "solidity": 0.2
             }
            },
            "type": "bar"
           }
          ],
          "barpolar": [
           {
            "marker": {
             "line": {
              "color": "#E5ECF6",
              "width": 0.5
             },
             "pattern": {
              "fillmode": "overlay",
              "size": 10,
              "solidity": 0.2
             }
            },
            "type": "barpolar"
           }
          ],
          "carpet": [
           {
            "aaxis": {
             "endlinecolor": "#2a3f5f",
             "gridcolor": "white",
             "linecolor": "white",
             "minorgridcolor": "white",
             "startlinecolor": "#2a3f5f"
            },
            "baxis": {
             "endlinecolor": "#2a3f5f",
             "gridcolor": "white",
             "linecolor": "white",
             "minorgridcolor": "white",
             "startlinecolor": "#2a3f5f"
            },
            "type": "carpet"
           }
          ],
          "choropleth": [
           {
            "colorbar": {
             "outlinewidth": 0,
             "ticks": ""
            },
            "type": "choropleth"
           }
          ],
          "contour": [
           {
            "colorbar": {
             "outlinewidth": 0,
             "ticks": ""
            },
            "colorscale": [
             [
              0,
              "#0d0887"
             ],
             [
              0.1111111111111111,
              "#46039f"
             ],
             [
              0.2222222222222222,
              "#7201a8"
             ],
             [
              0.3333333333333333,
              "#9c179e"
             ],
             [
              0.4444444444444444,
              "#bd3786"
             ],
             [
              0.5555555555555556,
              "#d8576b"
             ],
             [
              0.6666666666666666,
              "#ed7953"
             ],
             [
              0.7777777777777778,
              "#fb9f3a"
             ],
             [
              0.8888888888888888,
              "#fdca26"
             ],
             [
              1,
              "#f0f921"
             ]
            ],
            "type": "contour"
           }
          ],
          "contourcarpet": [
           {
            "colorbar": {
             "outlinewidth": 0,
             "ticks": ""
            },
            "type": "contourcarpet"
           }
          ],
          "heatmap": [
           {
            "colorbar": {
             "outlinewidth": 0,
             "ticks": ""
            },
            "colorscale": [
             [
              0,
              "#0d0887"
             ],
             [
              0.1111111111111111,
              "#46039f"
             ],
             [
              0.2222222222222222,
              "#7201a8"
             ],
             [
              0.3333333333333333,
              "#9c179e"
             ],
             [
              0.4444444444444444,
              "#bd3786"
             ],
             [
              0.5555555555555556,
              "#d8576b"
             ],
             [
              0.6666666666666666,
              "#ed7953"
             ],
             [
              0.7777777777777778,
              "#fb9f3a"
             ],
             [
              0.8888888888888888,
              "#fdca26"
             ],
             [
              1,
              "#f0f921"
             ]
            ],
            "type": "heatmap"
           }
          ],
          "heatmapgl": [
           {
            "colorbar": {
             "outlinewidth": 0,
             "ticks": ""
            },
            "colorscale": [
             [
              0,
              "#0d0887"
             ],
             [
              0.1111111111111111,
              "#46039f"
             ],
             [
              0.2222222222222222,
              "#7201a8"
             ],
             [
              0.3333333333333333,
              "#9c179e"
             ],
             [
              0.4444444444444444,
              "#bd3786"
             ],
             [
              0.5555555555555556,
              "#d8576b"
             ],
             [
              0.6666666666666666,
              "#ed7953"
             ],
             [
              0.7777777777777778,
              "#fb9f3a"
             ],
             [
              0.8888888888888888,
              "#fdca26"
             ],
             [
              1,
              "#f0f921"
             ]
            ],
            "type": "heatmapgl"
           }
          ],
          "histogram": [
           {
            "marker": {
             "pattern": {
              "fillmode": "overlay",
              "size": 10,
              "solidity": 0.2
             }
            },
            "type": "histogram"
           }
          ],
          "histogram2d": [
           {
            "colorbar": {
             "outlinewidth": 0,
             "ticks": ""
            },
            "colorscale": [
             [
              0,
              "#0d0887"
             ],
             [
              0.1111111111111111,
              "#46039f"
             ],
             [
              0.2222222222222222,
              "#7201a8"
             ],
             [
              0.3333333333333333,
              "#9c179e"
             ],
             [
              0.4444444444444444,
              "#bd3786"
             ],
             [
              0.5555555555555556,
              "#d8576b"
             ],
             [
              0.6666666666666666,
              "#ed7953"
             ],
             [
              0.7777777777777778,
              "#fb9f3a"
             ],
             [
              0.8888888888888888,
              "#fdca26"
             ],
             [
              1,
              "#f0f921"
             ]
            ],
            "type": "histogram2d"
           }
          ],
          "histogram2dcontour": [
           {
            "colorbar": {
             "outlinewidth": 0,
             "ticks": ""
            },
            "colorscale": [
             [
              0,
              "#0d0887"
             ],
             [
              0.1111111111111111,
              "#46039f"
             ],
             [
              0.2222222222222222,
              "#7201a8"
             ],
             [
              0.3333333333333333,
              "#9c179e"
             ],
             [
              0.4444444444444444,
              "#bd3786"
             ],
             [
              0.5555555555555556,
              "#d8576b"
             ],
             [
              0.6666666666666666,
              "#ed7953"
             ],
             [
              0.7777777777777778,
              "#fb9f3a"
             ],
             [
              0.8888888888888888,
              "#fdca26"
             ],
             [
              1,
              "#f0f921"
             ]
            ],
            "type": "histogram2dcontour"
           }
          ],
          "mesh3d": [
           {
            "colorbar": {
             "outlinewidth": 0,
             "ticks": ""
            },
            "type": "mesh3d"
           }
          ],
          "parcoords": [
           {
            "line": {
             "colorbar": {
              "outlinewidth": 0,
              "ticks": ""
             }
            },
            "type": "parcoords"
           }
          ],
          "pie": [
           {
            "automargin": true,
            "type": "pie"
           }
          ],
          "scatter": [
           {
            "fillpattern": {
             "fillmode": "overlay",
             "size": 10,
             "solidity": 0.2
            },
            "type": "scatter"
           }
          ],
          "scatter3d": [
           {
            "line": {
             "colorbar": {
              "outlinewidth": 0,
              "ticks": ""
             }
            },
            "marker": {
             "colorbar": {
              "outlinewidth": 0,
              "ticks": ""
             }
            },
            "type": "scatter3d"
           }
          ],
          "scattercarpet": [
           {
            "marker": {
             "colorbar": {
              "outlinewidth": 0,
              "ticks": ""
             }
            },
            "type": "scattercarpet"
           }
          ],
          "scattergeo": [
           {
            "marker": {
             "colorbar": {
              "outlinewidth": 0,
              "ticks": ""
             }
            },
            "type": "scattergeo"
           }
          ],
          "scattergl": [
           {
            "marker": {
             "colorbar": {
              "outlinewidth": 0,
              "ticks": ""
             }
            },
            "type": "scattergl"
           }
          ],
          "scattermapbox": [
           {
            "marker": {
             "colorbar": {
              "outlinewidth": 0,
              "ticks": ""
             }
            },
            "type": "scattermapbox"
           }
          ],
          "scatterpolar": [
           {
            "marker": {
             "colorbar": {
              "outlinewidth": 0,
              "ticks": ""
             }
            },
            "type": "scatterpolar"
           }
          ],
          "scatterpolargl": [
           {
            "marker": {
             "colorbar": {
              "outlinewidth": 0,
              "ticks": ""
             }
            },
            "type": "scatterpolargl"
           }
          ],
          "scatterternary": [
           {
            "marker": {
             "colorbar": {
              "outlinewidth": 0,
              "ticks": ""
             }
            },
            "type": "scatterternary"
           }
          ],
          "surface": [
           {
            "colorbar": {
             "outlinewidth": 0,
             "ticks": ""
            },
            "colorscale": [
             [
              0,
              "#0d0887"
             ],
             [
              0.1111111111111111,
              "#46039f"
             ],
             [
              0.2222222222222222,
              "#7201a8"
             ],
             [
              0.3333333333333333,
              "#9c179e"
             ],
             [
              0.4444444444444444,
              "#bd3786"
             ],
             [
              0.5555555555555556,
              "#d8576b"
             ],
             [
              0.6666666666666666,
              "#ed7953"
             ],
             [
              0.7777777777777778,
              "#fb9f3a"
             ],
             [
              0.8888888888888888,
              "#fdca26"
             ],
             [
              1,
              "#f0f921"
             ]
            ],
            "type": "surface"
           }
          ],
          "table": [
           {
            "cells": {
             "fill": {
              "color": "#EBF0F8"
             },
             "line": {
              "color": "white"
             }
            },
            "header": {
             "fill": {
              "color": "#C8D4E3"
             },
             "line": {
              "color": "white"
             }
            },
            "type": "table"
           }
          ]
         },
         "layout": {
          "annotationdefaults": {
           "arrowcolor": "#2a3f5f",
           "arrowhead": 0,
           "arrowwidth": 1
          },
          "autotypenumbers": "strict",
          "coloraxis": {
           "colorbar": {
            "outlinewidth": 0,
            "ticks": ""
           }
          },
          "colorscale": {
           "diverging": [
            [
             0,
             "#8e0152"
            ],
            [
             0.1,
             "#c51b7d"
            ],
            [
             0.2,
             "#de77ae"
            ],
            [
             0.3,
             "#f1b6da"
            ],
            [
             0.4,
             "#fde0ef"
            ],
            [
             0.5,
             "#f7f7f7"
            ],
            [
             0.6,
             "#e6f5d0"
            ],
            [
             0.7,
             "#b8e186"
            ],
            [
             0.8,
             "#7fbc41"
            ],
            [
             0.9,
             "#4d9221"
            ],
            [
             1,
             "#276419"
            ]
           ],
           "sequential": [
            [
             0,
             "#0d0887"
            ],
            [
             0.1111111111111111,
             "#46039f"
            ],
            [
             0.2222222222222222,
             "#7201a8"
            ],
            [
             0.3333333333333333,
             "#9c179e"
            ],
            [
             0.4444444444444444,
             "#bd3786"
            ],
            [
             0.5555555555555556,
             "#d8576b"
            ],
            [
             0.6666666666666666,
             "#ed7953"
            ],
            [
             0.7777777777777778,
             "#fb9f3a"
            ],
            [
             0.8888888888888888,
             "#fdca26"
            ],
            [
             1,
             "#f0f921"
            ]
           ],
           "sequentialminus": [
            [
             0,
             "#0d0887"
            ],
            [
             0.1111111111111111,
             "#46039f"
            ],
            [
             0.2222222222222222,
             "#7201a8"
            ],
            [
             0.3333333333333333,
             "#9c179e"
            ],
            [
             0.4444444444444444,
             "#bd3786"
            ],
            [
             0.5555555555555556,
             "#d8576b"
            ],
            [
             0.6666666666666666,
             "#ed7953"
            ],
            [
             0.7777777777777778,
             "#fb9f3a"
            ],
            [
             0.8888888888888888,
             "#fdca26"
            ],
            [
             1,
             "#f0f921"
            ]
           ]
          },
          "colorway": [
           "#636efa",
           "#EF553B",
           "#00cc96",
           "#ab63fa",
           "#FFA15A",
           "#19d3f3",
           "#FF6692",
           "#B6E880",
           "#FF97FF",
           "#FECB52"
          ],
          "font": {
           "color": "#2a3f5f"
          },
          "geo": {
           "bgcolor": "white",
           "lakecolor": "white",
           "landcolor": "#E5ECF6",
           "showlakes": true,
           "showland": true,
           "subunitcolor": "white"
          },
          "hoverlabel": {
           "align": "left"
          },
          "hovermode": "closest",
          "mapbox": {
           "style": "light"
          },
          "paper_bgcolor": "white",
          "plot_bgcolor": "#E5ECF6",
          "polar": {
           "angularaxis": {
            "gridcolor": "white",
            "linecolor": "white",
            "ticks": ""
           },
           "bgcolor": "#E5ECF6",
           "radialaxis": {
            "gridcolor": "white",
            "linecolor": "white",
            "ticks": ""
           }
          },
          "scene": {
           "xaxis": {
            "backgroundcolor": "#E5ECF6",
            "gridcolor": "white",
            "gridwidth": 2,
            "linecolor": "white",
            "showbackground": true,
            "ticks": "",
            "zerolinecolor": "white"
           },
           "yaxis": {
            "backgroundcolor": "#E5ECF6",
            "gridcolor": "white",
            "gridwidth": 2,
            "linecolor": "white",
            "showbackground": true,
            "ticks": "",
            "zerolinecolor": "white"
           },
           "zaxis": {
            "backgroundcolor": "#E5ECF6",
            "gridcolor": "white",
            "gridwidth": 2,
            "linecolor": "white",
            "showbackground": true,
            "ticks": "",
            "zerolinecolor": "white"
           }
          },
          "shapedefaults": {
           "line": {
            "color": "#2a3f5f"
           }
          },
          "ternary": {
           "aaxis": {
            "gridcolor": "white",
            "linecolor": "white",
            "ticks": ""
           },
           "baxis": {
            "gridcolor": "white",
            "linecolor": "white",
            "ticks": ""
           },
           "bgcolor": "#E5ECF6",
           "caxis": {
            "gridcolor": "white",
            "linecolor": "white",
            "ticks": ""
           }
          },
          "title": {
           "x": 0.05
          },
          "xaxis": {
           "automargin": true,
           "gridcolor": "white",
           "linecolor": "white",
           "ticks": "",
           "title": {
            "standoff": 15
           },
           "zerolinecolor": "white",
           "zerolinewidth": 2
          },
          "yaxis": {
           "automargin": true,
           "gridcolor": "white",
           "linecolor": "white",
           "ticks": "",
           "title": {
            "standoff": 15
           },
           "zerolinecolor": "white",
           "zerolinewidth": 2
          }
         }
        },
        "xaxis": {
         "anchor": "y",
         "domain": [
          0,
          1
         ],
         "title": {
          "text": "Количество вершин"
         }
        },
        "yaxis": {
         "anchor": "x",
         "domain": [
          0,
          1
         ],
         "title": {
          "text": "Время"
         }
        }
       }
      }
     },
     "metadata": {},
     "output_type": "display_data"
    }
   ],
   "source": [
    "px.scatter(resume1, x = 'Количество вершин', y = 'Время', color = 'Уровень push/pull')"
   ]
  },
  {
   "cell_type": "code",
   "execution_count": 163,
   "id": "5a536d7e",
   "metadata": {},
   "outputs": [
    {
     "data": {
      "application/vnd.plotly.v1+json": {
       "config": {
        "plotlyServerURL": "https://plot.ly"
       },
       "data": [
        {
         "hovertemplate": "Степень разреженности=%{x}<br>Время=%{y}<br>Уровень push/pull=%{marker.color}<extra></extra>",
         "legendgroup": "",
         "marker": {
          "color": [
           0,
           0.1,
           0.3,
           0.5,
           0.7,
           1,
           0,
           0.1,
           0.3,
           0.5,
           0.7,
           1,
           0,
           0.1,
           0.3,
           0.5,
           0.7,
           1,
           0,
           0.1,
           0.3,
           0.5,
           0.7,
           1,
           0,
           0.1,
           0.3,
           0.5,
           0.7,
           1,
           0,
           0.1,
           0.3,
           0.5,
           0.7,
           1,
           0,
           0.1,
           0.3,
           0.5,
           0.7,
           1,
           0,
           0.1,
           0.3,
           0.5,
           0.7,
           1,
           0,
           0.1,
           0.3,
           0.5,
           0.7,
           1,
           0,
           0.1,
           0.3,
           0.5,
           0.7,
           1,
           0,
           0.1,
           0.3,
           0.5,
           0.7,
           1,
           0,
           0.1,
           0.3,
           0.5,
           0.7,
           1,
           0,
           0.1,
           0.3,
           0.5,
           0.7,
           1,
           0,
           0.1,
           0.3,
           0.5,
           0.7,
           1,
           0,
           0.1,
           0.3,
           0.5,
           0.7,
           1,
           0,
           0.1,
           0.3,
           0.5,
           0.7,
           1,
           0,
           0.1,
           0.3,
           0.5,
           0.7,
           1,
           0
          ],
          "coloraxis": "coloraxis",
          "symbol": "circle"
         },
         "mode": "markers",
         "name": "",
         "orientation": "v",
         "showlegend": false,
         "type": "scatter",
         "x": [
          0.1,
          0.1,
          0.1,
          0.1,
          0.1,
          0.1,
          0.3,
          0.3,
          0.3,
          0.3,
          0.3,
          0.3,
          0.6,
          0.6,
          0.6,
          0.6,
          0.6,
          0.6,
          0.8,
          0.8,
          0.8,
          0.8,
          0.8,
          0.8,
          1,
          1,
          1,
          1,
          1,
          1,
          0.1,
          0.1,
          0.1,
          0.1,
          0.1,
          0.1,
          0.3,
          0.3,
          0.3,
          0.3,
          0.3,
          0.3,
          0.6,
          0.6,
          0.6,
          0.6,
          0.6,
          0.6,
          0.8,
          0.8,
          0.8,
          0.8,
          0.8,
          0.8,
          1,
          1,
          1,
          1,
          1,
          1,
          0.1,
          0.1,
          0.1,
          0.1,
          0.1,
          0.1,
          0.3,
          0.3,
          0.3,
          0.3,
          0.3,
          0.3,
          0.6,
          0.6,
          0.6,
          0.6,
          0.6,
          0.6,
          0.8,
          0.8,
          0.8,
          0.8,
          0.8,
          0.8,
          1,
          1,
          1,
          1,
          1,
          1,
          0.1,
          0.1,
          0.1,
          0.1,
          0.1,
          0.1,
          0.3,
          0.3,
          0.3,
          0.3,
          0.3,
          0.3,
          0.6
         ],
         "xaxis": "x",
         "y": [
          0.6459159851074219,
          0.6211333274841309,
          0.7613925933837891,
          0.6325132846832275,
          0.6323204040527344,
          0.6000511646270752,
          0.6212458610534668,
          0.6270766258239746,
          0.6139426231384277,
          0.6221253871917725,
          0.6124391555786133,
          0.6197004318237305,
          0.5965249538421631,
          0.6077563762664795,
          0.6063244342803955,
          0.6075208187103271,
          0.6043462753295898,
          0.6166508197784424,
          0.5994083881378174,
          0.5971226692199707,
          0.6356432437896729,
          0.6067545413970947,
          0.6087493896484375,
          0.5967488288879395,
          0.6072690486907959,
          0.6078743934631348,
          0.6037249565124512,
          0.6119143962860107,
          0.5964581966400146,
          0.6104912757873535,
          1.3442628383636475,
          1.3432633876800537,
          1.385486125946045,
          1.38145112991333,
          1.3543567657470703,
          1.349534273147583,
          1.3523056507110596,
          1.3948476314544678,
          1.3230154514312744,
          1.341606855392456,
          1.3397603034973145,
          1.3698933124542236,
          1.3489341735839844,
          1.3774912357330322,
          1.3609046936035156,
          1.379305362701416,
          1.3661279678344727,
          1.377964735031128,
          1.3352413177490234,
          1.3739399909973145,
          1.3539402484893799,
          1.3518779277801514,
          1.3646125793457031,
          1.3656675815582275,
          1.3390100002288818,
          1.3529751300811768,
          1.3468799591064453,
          1.3745548725128174,
          1.3658125400543213,
          1.370532751083374,
          3.7717950344085693,
          3.871034860610962,
          4.47627329826355,
          3.7833986282348633,
          3.813472032546997,
          3.7690064907073975,
          3.733895778656006,
          3.7570066452026367,
          3.7844090461730957,
          3.7869279384613037,
          3.6910037994384766,
          3.758687973022461,
          3.7106821537017822,
          3.702807903289795,
          3.7762465476989746,
          3.797905445098877,
          3.7380659580230713,
          3.720715045928955,
          3.7311019897460938,
          3.7301137447357178,
          3.746800184249878,
          3.7286217212677,
          3.7761998176574707,
          3.7549264430999756,
          3.75527024269104,
          3.7805397510528564,
          4.079735994338989,
          3.773090124130249,
          3.820638418197632,
          3.770322799682617,
          34.83123755455017,
          33.12438249588013,
          33.071640968322754,
          34.17562675476074,
          33.084940910339355,
          33.55811929702759,
          32.88667631149292,
          32.96163892745972,
          32.94850540161133,
          34.3884003162384,
          33.18549346923828,
          33.009960651397705,
          33.506038427352905
         ],
         "yaxis": "y"
        }
       ],
       "layout": {
        "coloraxis": {
         "colorbar": {
          "title": {
           "text": "Уровень push/pull"
          }
         },
         "colorscale": [
          [
           0,
           "#0d0887"
          ],
          [
           0.1111111111111111,
           "#46039f"
          ],
          [
           0.2222222222222222,
           "#7201a8"
          ],
          [
           0.3333333333333333,
           "#9c179e"
          ],
          [
           0.4444444444444444,
           "#bd3786"
          ],
          [
           0.5555555555555556,
           "#d8576b"
          ],
          [
           0.6666666666666666,
           "#ed7953"
          ],
          [
           0.7777777777777778,
           "#fb9f3a"
          ],
          [
           0.8888888888888888,
           "#fdca26"
          ],
          [
           1,
           "#f0f921"
          ]
         ]
        },
        "legend": {
         "tracegroupgap": 0
        },
        "margin": {
         "t": 60
        },
        "template": {
         "data": {
          "bar": [
           {
            "error_x": {
             "color": "#2a3f5f"
            },
            "error_y": {
             "color": "#2a3f5f"
            },
            "marker": {
             "line": {
              "color": "#E5ECF6",
              "width": 0.5
             },
             "pattern": {
              "fillmode": "overlay",
              "size": 10,
              "solidity": 0.2
             }
            },
            "type": "bar"
           }
          ],
          "barpolar": [
           {
            "marker": {
             "line": {
              "color": "#E5ECF6",
              "width": 0.5
             },
             "pattern": {
              "fillmode": "overlay",
              "size": 10,
              "solidity": 0.2
             }
            },
            "type": "barpolar"
           }
          ],
          "carpet": [
           {
            "aaxis": {
             "endlinecolor": "#2a3f5f",
             "gridcolor": "white",
             "linecolor": "white",
             "minorgridcolor": "white",
             "startlinecolor": "#2a3f5f"
            },
            "baxis": {
             "endlinecolor": "#2a3f5f",
             "gridcolor": "white",
             "linecolor": "white",
             "minorgridcolor": "white",
             "startlinecolor": "#2a3f5f"
            },
            "type": "carpet"
           }
          ],
          "choropleth": [
           {
            "colorbar": {
             "outlinewidth": 0,
             "ticks": ""
            },
            "type": "choropleth"
           }
          ],
          "contour": [
           {
            "colorbar": {
             "outlinewidth": 0,
             "ticks": ""
            },
            "colorscale": [
             [
              0,
              "#0d0887"
             ],
             [
              0.1111111111111111,
              "#46039f"
             ],
             [
              0.2222222222222222,
              "#7201a8"
             ],
             [
              0.3333333333333333,
              "#9c179e"
             ],
             [
              0.4444444444444444,
              "#bd3786"
             ],
             [
              0.5555555555555556,
              "#d8576b"
             ],
             [
              0.6666666666666666,
              "#ed7953"
             ],
             [
              0.7777777777777778,
              "#fb9f3a"
             ],
             [
              0.8888888888888888,
              "#fdca26"
             ],
             [
              1,
              "#f0f921"
             ]
            ],
            "type": "contour"
           }
          ],
          "contourcarpet": [
           {
            "colorbar": {
             "outlinewidth": 0,
             "ticks": ""
            },
            "type": "contourcarpet"
           }
          ],
          "heatmap": [
           {
            "colorbar": {
             "outlinewidth": 0,
             "ticks": ""
            },
            "colorscale": [
             [
              0,
              "#0d0887"
             ],
             [
              0.1111111111111111,
              "#46039f"
             ],
             [
              0.2222222222222222,
              "#7201a8"
             ],
             [
              0.3333333333333333,
              "#9c179e"
             ],
             [
              0.4444444444444444,
              "#bd3786"
             ],
             [
              0.5555555555555556,
              "#d8576b"
             ],
             [
              0.6666666666666666,
              "#ed7953"
             ],
             [
              0.7777777777777778,
              "#fb9f3a"
             ],
             [
              0.8888888888888888,
              "#fdca26"
             ],
             [
              1,
              "#f0f921"
             ]
            ],
            "type": "heatmap"
           }
          ],
          "heatmapgl": [
           {
            "colorbar": {
             "outlinewidth": 0,
             "ticks": ""
            },
            "colorscale": [
             [
              0,
              "#0d0887"
             ],
             [
              0.1111111111111111,
              "#46039f"
             ],
             [
              0.2222222222222222,
              "#7201a8"
             ],
             [
              0.3333333333333333,
              "#9c179e"
             ],
             [
              0.4444444444444444,
              "#bd3786"
             ],
             [
              0.5555555555555556,
              "#d8576b"
             ],
             [
              0.6666666666666666,
              "#ed7953"
             ],
             [
              0.7777777777777778,
              "#fb9f3a"
             ],
             [
              0.8888888888888888,
              "#fdca26"
             ],
             [
              1,
              "#f0f921"
             ]
            ],
            "type": "heatmapgl"
           }
          ],
          "histogram": [
           {
            "marker": {
             "pattern": {
              "fillmode": "overlay",
              "size": 10,
              "solidity": 0.2
             }
            },
            "type": "histogram"
           }
          ],
          "histogram2d": [
           {
            "colorbar": {
             "outlinewidth": 0,
             "ticks": ""
            },
            "colorscale": [
             [
              0,
              "#0d0887"
             ],
             [
              0.1111111111111111,
              "#46039f"
             ],
             [
              0.2222222222222222,
              "#7201a8"
             ],
             [
              0.3333333333333333,
              "#9c179e"
             ],
             [
              0.4444444444444444,
              "#bd3786"
             ],
             [
              0.5555555555555556,
              "#d8576b"
             ],
             [
              0.6666666666666666,
              "#ed7953"
             ],
             [
              0.7777777777777778,
              "#fb9f3a"
             ],
             [
              0.8888888888888888,
              "#fdca26"
             ],
             [
              1,
              "#f0f921"
             ]
            ],
            "type": "histogram2d"
           }
          ],
          "histogram2dcontour": [
           {
            "colorbar": {
             "outlinewidth": 0,
             "ticks": ""
            },
            "colorscale": [
             [
              0,
              "#0d0887"
             ],
             [
              0.1111111111111111,
              "#46039f"
             ],
             [
              0.2222222222222222,
              "#7201a8"
             ],
             [
              0.3333333333333333,
              "#9c179e"
             ],
             [
              0.4444444444444444,
              "#bd3786"
             ],
             [
              0.5555555555555556,
              "#d8576b"
             ],
             [
              0.6666666666666666,
              "#ed7953"
             ],
             [
              0.7777777777777778,
              "#fb9f3a"
             ],
             [
              0.8888888888888888,
              "#fdca26"
             ],
             [
              1,
              "#f0f921"
             ]
            ],
            "type": "histogram2dcontour"
           }
          ],
          "mesh3d": [
           {
            "colorbar": {
             "outlinewidth": 0,
             "ticks": ""
            },
            "type": "mesh3d"
           }
          ],
          "parcoords": [
           {
            "line": {
             "colorbar": {
              "outlinewidth": 0,
              "ticks": ""
             }
            },
            "type": "parcoords"
           }
          ],
          "pie": [
           {
            "automargin": true,
            "type": "pie"
           }
          ],
          "scatter": [
           {
            "fillpattern": {
             "fillmode": "overlay",
             "size": 10,
             "solidity": 0.2
            },
            "type": "scatter"
           }
          ],
          "scatter3d": [
           {
            "line": {
             "colorbar": {
              "outlinewidth": 0,
              "ticks": ""
             }
            },
            "marker": {
             "colorbar": {
              "outlinewidth": 0,
              "ticks": ""
             }
            },
            "type": "scatter3d"
           }
          ],
          "scattercarpet": [
           {
            "marker": {
             "colorbar": {
              "outlinewidth": 0,
              "ticks": ""
             }
            },
            "type": "scattercarpet"
           }
          ],
          "scattergeo": [
           {
            "marker": {
             "colorbar": {
              "outlinewidth": 0,
              "ticks": ""
             }
            },
            "type": "scattergeo"
           }
          ],
          "scattergl": [
           {
            "marker": {
             "colorbar": {
              "outlinewidth": 0,
              "ticks": ""
             }
            },
            "type": "scattergl"
           }
          ],
          "scattermapbox": [
           {
            "marker": {
             "colorbar": {
              "outlinewidth": 0,
              "ticks": ""
             }
            },
            "type": "scattermapbox"
           }
          ],
          "scatterpolar": [
           {
            "marker": {
             "colorbar": {
              "outlinewidth": 0,
              "ticks": ""
             }
            },
            "type": "scatterpolar"
           }
          ],
          "scatterpolargl": [
           {
            "marker": {
             "colorbar": {
              "outlinewidth": 0,
              "ticks": ""
             }
            },
            "type": "scatterpolargl"
           }
          ],
          "scatterternary": [
           {
            "marker": {
             "colorbar": {
              "outlinewidth": 0,
              "ticks": ""
             }
            },
            "type": "scatterternary"
           }
          ],
          "surface": [
           {
            "colorbar": {
             "outlinewidth": 0,
             "ticks": ""
            },
            "colorscale": [
             [
              0,
              "#0d0887"
             ],
             [
              0.1111111111111111,
              "#46039f"
             ],
             [
              0.2222222222222222,
              "#7201a8"
             ],
             [
              0.3333333333333333,
              "#9c179e"
             ],
             [
              0.4444444444444444,
              "#bd3786"
             ],
             [
              0.5555555555555556,
              "#d8576b"
             ],
             [
              0.6666666666666666,
              "#ed7953"
             ],
             [
              0.7777777777777778,
              "#fb9f3a"
             ],
             [
              0.8888888888888888,
              "#fdca26"
             ],
             [
              1,
              "#f0f921"
             ]
            ],
            "type": "surface"
           }
          ],
          "table": [
           {
            "cells": {
             "fill": {
              "color": "#EBF0F8"
             },
             "line": {
              "color": "white"
             }
            },
            "header": {
             "fill": {
              "color": "#C8D4E3"
             },
             "line": {
              "color": "white"
             }
            },
            "type": "table"
           }
          ]
         },
         "layout": {
          "annotationdefaults": {
           "arrowcolor": "#2a3f5f",
           "arrowhead": 0,
           "arrowwidth": 1
          },
          "autotypenumbers": "strict",
          "coloraxis": {
           "colorbar": {
            "outlinewidth": 0,
            "ticks": ""
           }
          },
          "colorscale": {
           "diverging": [
            [
             0,
             "#8e0152"
            ],
            [
             0.1,
             "#c51b7d"
            ],
            [
             0.2,
             "#de77ae"
            ],
            [
             0.3,
             "#f1b6da"
            ],
            [
             0.4,
             "#fde0ef"
            ],
            [
             0.5,
             "#f7f7f7"
            ],
            [
             0.6,
             "#e6f5d0"
            ],
            [
             0.7,
             "#b8e186"
            ],
            [
             0.8,
             "#7fbc41"
            ],
            [
             0.9,
             "#4d9221"
            ],
            [
             1,
             "#276419"
            ]
           ],
           "sequential": [
            [
             0,
             "#0d0887"
            ],
            [
             0.1111111111111111,
             "#46039f"
            ],
            [
             0.2222222222222222,
             "#7201a8"
            ],
            [
             0.3333333333333333,
             "#9c179e"
            ],
            [
             0.4444444444444444,
             "#bd3786"
            ],
            [
             0.5555555555555556,
             "#d8576b"
            ],
            [
             0.6666666666666666,
             "#ed7953"
            ],
            [
             0.7777777777777778,
             "#fb9f3a"
            ],
            [
             0.8888888888888888,
             "#fdca26"
            ],
            [
             1,
             "#f0f921"
            ]
           ],
           "sequentialminus": [
            [
             0,
             "#0d0887"
            ],
            [
             0.1111111111111111,
             "#46039f"
            ],
            [
             0.2222222222222222,
             "#7201a8"
            ],
            [
             0.3333333333333333,
             "#9c179e"
            ],
            [
             0.4444444444444444,
             "#bd3786"
            ],
            [
             0.5555555555555556,
             "#d8576b"
            ],
            [
             0.6666666666666666,
             "#ed7953"
            ],
            [
             0.7777777777777778,
             "#fb9f3a"
            ],
            [
             0.8888888888888888,
             "#fdca26"
            ],
            [
             1,
             "#f0f921"
            ]
           ]
          },
          "colorway": [
           "#636efa",
           "#EF553B",
           "#00cc96",
           "#ab63fa",
           "#FFA15A",
           "#19d3f3",
           "#FF6692",
           "#B6E880",
           "#FF97FF",
           "#FECB52"
          ],
          "font": {
           "color": "#2a3f5f"
          },
          "geo": {
           "bgcolor": "white",
           "lakecolor": "white",
           "landcolor": "#E5ECF6",
           "showlakes": true,
           "showland": true,
           "subunitcolor": "white"
          },
          "hoverlabel": {
           "align": "left"
          },
          "hovermode": "closest",
          "mapbox": {
           "style": "light"
          },
          "paper_bgcolor": "white",
          "plot_bgcolor": "#E5ECF6",
          "polar": {
           "angularaxis": {
            "gridcolor": "white",
            "linecolor": "white",
            "ticks": ""
           },
           "bgcolor": "#E5ECF6",
           "radialaxis": {
            "gridcolor": "white",
            "linecolor": "white",
            "ticks": ""
           }
          },
          "scene": {
           "xaxis": {
            "backgroundcolor": "#E5ECF6",
            "gridcolor": "white",
            "gridwidth": 2,
            "linecolor": "white",
            "showbackground": true,
            "ticks": "",
            "zerolinecolor": "white"
           },
           "yaxis": {
            "backgroundcolor": "#E5ECF6",
            "gridcolor": "white",
            "gridwidth": 2,
            "linecolor": "white",
            "showbackground": true,
            "ticks": "",
            "zerolinecolor": "white"
           },
           "zaxis": {
            "backgroundcolor": "#E5ECF6",
            "gridcolor": "white",
            "gridwidth": 2,
            "linecolor": "white",
            "showbackground": true,
            "ticks": "",
            "zerolinecolor": "white"
           }
          },
          "shapedefaults": {
           "line": {
            "color": "#2a3f5f"
           }
          },
          "ternary": {
           "aaxis": {
            "gridcolor": "white",
            "linecolor": "white",
            "ticks": ""
           },
           "baxis": {
            "gridcolor": "white",
            "linecolor": "white",
            "ticks": ""
           },
           "bgcolor": "#E5ECF6",
           "caxis": {
            "gridcolor": "white",
            "linecolor": "white",
            "ticks": ""
           }
          },
          "title": {
           "x": 0.05
          },
          "xaxis": {
           "automargin": true,
           "gridcolor": "white",
           "linecolor": "white",
           "ticks": "",
           "title": {
            "standoff": 15
           },
           "zerolinecolor": "white",
           "zerolinewidth": 2
          },
          "yaxis": {
           "automargin": true,
           "gridcolor": "white",
           "linecolor": "white",
           "ticks": "",
           "title": {
            "standoff": 15
           },
           "zerolinecolor": "white",
           "zerolinewidth": 2
          }
         }
        },
        "xaxis": {
         "anchor": "y",
         "domain": [
          0,
          1
         ],
         "title": {
          "text": "Степень разреженности"
         }
        },
        "yaxis": {
         "anchor": "x",
         "domain": [
          0,
          1
         ],
         "title": {
          "text": "Время"
         }
        }
       }
      }
     },
     "metadata": {},
     "output_type": "display_data"
    }
   ],
   "source": [
    "px.scatter(resume1, x = 'Степень разреженности', y = 'Время', color = 'Уровень push/pull')"
   ]
  },
  {
   "cell_type": "code",
   "execution_count": 164,
   "id": "ca15ca78",
   "metadata": {},
   "outputs": [
    {
     "data": {
      "application/vnd.plotly.v1+json": {
       "config": {
        "plotlyServerURL": "https://plot.ly"
       },
       "data": [
        {
         "hovertemplate": "Количество стартовых вершин=%{x}<br>Время=%{y}<br>Уровень push/pull=%{marker.color}<extra></extra>",
         "legendgroup": "",
         "marker": {
          "color": [
           0,
           0.1,
           0.3,
           0.5,
           0.7,
           1,
           0,
           0.1,
           0.3,
           0.5,
           0.7,
           1,
           0,
           0.1,
           0.3,
           0.5,
           0.7,
           1,
           0,
           0.1,
           0.3,
           0.5,
           0.7,
           1,
           0,
           0.1,
           0.3,
           0.5,
           0.7,
           1,
           0,
           0.1,
           0.3,
           0.5,
           0.7,
           1,
           0,
           0.1,
           0.3,
           0.5,
           0.7,
           1,
           0,
           0.1,
           0.3,
           0.5,
           0.7,
           1,
           0,
           0.1,
           0.3,
           0.5,
           0.7,
           1,
           0,
           0.1,
           0.3,
           0.5,
           0.7,
           1,
           0,
           0.1,
           0.3,
           0.5,
           0.7,
           1,
           0,
           0.1,
           0.3,
           0.5,
           0.7,
           1,
           0,
           0.1,
           0.3,
           0.5,
           0.7,
           1,
           0,
           0.1,
           0.3,
           0.5,
           0.7,
           1,
           0,
           0.1,
           0.3,
           0.5,
           0.7,
           1,
           0,
           0.1,
           0.3,
           0.5,
           0.7,
           1,
           0,
           0.1,
           0.3,
           0.5,
           0.7,
           1,
           0
          ],
          "coloraxis": "coloraxis",
          "symbol": "circle"
         },
         "mode": "markers",
         "name": "",
         "orientation": "v",
         "showlegend": false,
         "type": "scatter",
         "x": [
          40,
          40,
          40,
          40,
          40,
          40,
          40,
          40,
          40,
          40,
          40,
          40,
          40,
          40,
          40,
          40,
          40,
          40,
          40,
          40,
          40,
          40,
          40,
          40,
          40,
          40,
          40,
          40,
          40,
          40,
          60,
          60,
          60,
          60,
          60,
          60,
          60,
          60,
          60,
          60,
          60,
          60,
          60,
          60,
          60,
          60,
          60,
          60,
          60,
          60,
          60,
          60,
          60,
          60,
          60,
          60,
          60,
          60,
          60,
          60,
          100,
          100,
          100,
          100,
          100,
          100,
          100,
          100,
          100,
          100,
          100,
          100,
          100,
          100,
          100,
          100,
          100,
          100,
          100,
          100,
          100,
          100,
          100,
          100,
          100,
          100,
          100,
          100,
          100,
          100,
          300,
          300,
          300,
          300,
          300,
          300,
          300,
          300,
          300,
          300,
          300,
          300,
          300
         ],
         "xaxis": "x",
         "y": [
          0.6459159851074219,
          0.6211333274841309,
          0.7613925933837891,
          0.6325132846832275,
          0.6323204040527344,
          0.6000511646270752,
          0.6212458610534668,
          0.6270766258239746,
          0.6139426231384277,
          0.6221253871917725,
          0.6124391555786133,
          0.6197004318237305,
          0.5965249538421631,
          0.6077563762664795,
          0.6063244342803955,
          0.6075208187103271,
          0.6043462753295898,
          0.6166508197784424,
          0.5994083881378174,
          0.5971226692199707,
          0.6356432437896729,
          0.6067545413970947,
          0.6087493896484375,
          0.5967488288879395,
          0.6072690486907959,
          0.6078743934631348,
          0.6037249565124512,
          0.6119143962860107,
          0.5964581966400146,
          0.6104912757873535,
          1.3442628383636475,
          1.3432633876800537,
          1.385486125946045,
          1.38145112991333,
          1.3543567657470703,
          1.349534273147583,
          1.3523056507110596,
          1.3948476314544678,
          1.3230154514312744,
          1.341606855392456,
          1.3397603034973145,
          1.3698933124542236,
          1.3489341735839844,
          1.3774912357330322,
          1.3609046936035156,
          1.379305362701416,
          1.3661279678344727,
          1.377964735031128,
          1.3352413177490234,
          1.3739399909973145,
          1.3539402484893799,
          1.3518779277801514,
          1.3646125793457031,
          1.3656675815582275,
          1.3390100002288818,
          1.3529751300811768,
          1.3468799591064453,
          1.3745548725128174,
          1.3658125400543213,
          1.370532751083374,
          3.7717950344085693,
          3.871034860610962,
          4.47627329826355,
          3.7833986282348633,
          3.813472032546997,
          3.7690064907073975,
          3.733895778656006,
          3.7570066452026367,
          3.7844090461730957,
          3.7869279384613037,
          3.6910037994384766,
          3.758687973022461,
          3.7106821537017822,
          3.702807903289795,
          3.7762465476989746,
          3.797905445098877,
          3.7380659580230713,
          3.720715045928955,
          3.7311019897460938,
          3.7301137447357178,
          3.746800184249878,
          3.7286217212677,
          3.7761998176574707,
          3.7549264430999756,
          3.75527024269104,
          3.7805397510528564,
          4.079735994338989,
          3.773090124130249,
          3.820638418197632,
          3.770322799682617,
          34.83123755455017,
          33.12438249588013,
          33.071640968322754,
          34.17562675476074,
          33.084940910339355,
          33.55811929702759,
          32.88667631149292,
          32.96163892745972,
          32.94850540161133,
          34.3884003162384,
          33.18549346923828,
          33.009960651397705,
          33.506038427352905
         ],
         "yaxis": "y"
        }
       ],
       "layout": {
        "coloraxis": {
         "colorbar": {
          "title": {
           "text": "Уровень push/pull"
          }
         },
         "colorscale": [
          [
           0,
           "#0d0887"
          ],
          [
           0.1111111111111111,
           "#46039f"
          ],
          [
           0.2222222222222222,
           "#7201a8"
          ],
          [
           0.3333333333333333,
           "#9c179e"
          ],
          [
           0.4444444444444444,
           "#bd3786"
          ],
          [
           0.5555555555555556,
           "#d8576b"
          ],
          [
           0.6666666666666666,
           "#ed7953"
          ],
          [
           0.7777777777777778,
           "#fb9f3a"
          ],
          [
           0.8888888888888888,
           "#fdca26"
          ],
          [
           1,
           "#f0f921"
          ]
         ]
        },
        "legend": {
         "tracegroupgap": 0
        },
        "margin": {
         "t": 60
        },
        "template": {
         "data": {
          "bar": [
           {
            "error_x": {
             "color": "#2a3f5f"
            },
            "error_y": {
             "color": "#2a3f5f"
            },
            "marker": {
             "line": {
              "color": "#E5ECF6",
              "width": 0.5
             },
             "pattern": {
              "fillmode": "overlay",
              "size": 10,
              "solidity": 0.2
             }
            },
            "type": "bar"
           }
          ],
          "barpolar": [
           {
            "marker": {
             "line": {
              "color": "#E5ECF6",
              "width": 0.5
             },
             "pattern": {
              "fillmode": "overlay",
              "size": 10,
              "solidity": 0.2
             }
            },
            "type": "barpolar"
           }
          ],
          "carpet": [
           {
            "aaxis": {
             "endlinecolor": "#2a3f5f",
             "gridcolor": "white",
             "linecolor": "white",
             "minorgridcolor": "white",
             "startlinecolor": "#2a3f5f"
            },
            "baxis": {
             "endlinecolor": "#2a3f5f",
             "gridcolor": "white",
             "linecolor": "white",
             "minorgridcolor": "white",
             "startlinecolor": "#2a3f5f"
            },
            "type": "carpet"
           }
          ],
          "choropleth": [
           {
            "colorbar": {
             "outlinewidth": 0,
             "ticks": ""
            },
            "type": "choropleth"
           }
          ],
          "contour": [
           {
            "colorbar": {
             "outlinewidth": 0,
             "ticks": ""
            },
            "colorscale": [
             [
              0,
              "#0d0887"
             ],
             [
              0.1111111111111111,
              "#46039f"
             ],
             [
              0.2222222222222222,
              "#7201a8"
             ],
             [
              0.3333333333333333,
              "#9c179e"
             ],
             [
              0.4444444444444444,
              "#bd3786"
             ],
             [
              0.5555555555555556,
              "#d8576b"
             ],
             [
              0.6666666666666666,
              "#ed7953"
             ],
             [
              0.7777777777777778,
              "#fb9f3a"
             ],
             [
              0.8888888888888888,
              "#fdca26"
             ],
             [
              1,
              "#f0f921"
             ]
            ],
            "type": "contour"
           }
          ],
          "contourcarpet": [
           {
            "colorbar": {
             "outlinewidth": 0,
             "ticks": ""
            },
            "type": "contourcarpet"
           }
          ],
          "heatmap": [
           {
            "colorbar": {
             "outlinewidth": 0,
             "ticks": ""
            },
            "colorscale": [
             [
              0,
              "#0d0887"
             ],
             [
              0.1111111111111111,
              "#46039f"
             ],
             [
              0.2222222222222222,
              "#7201a8"
             ],
             [
              0.3333333333333333,
              "#9c179e"
             ],
             [
              0.4444444444444444,
              "#bd3786"
             ],
             [
              0.5555555555555556,
              "#d8576b"
             ],
             [
              0.6666666666666666,
              "#ed7953"
             ],
             [
              0.7777777777777778,
              "#fb9f3a"
             ],
             [
              0.8888888888888888,
              "#fdca26"
             ],
             [
              1,
              "#f0f921"
             ]
            ],
            "type": "heatmap"
           }
          ],
          "heatmapgl": [
           {
            "colorbar": {
             "outlinewidth": 0,
             "ticks": ""
            },
            "colorscale": [
             [
              0,
              "#0d0887"
             ],
             [
              0.1111111111111111,
              "#46039f"
             ],
             [
              0.2222222222222222,
              "#7201a8"
             ],
             [
              0.3333333333333333,
              "#9c179e"
             ],
             [
              0.4444444444444444,
              "#bd3786"
             ],
             [
              0.5555555555555556,
              "#d8576b"
             ],
             [
              0.6666666666666666,
              "#ed7953"
             ],
             [
              0.7777777777777778,
              "#fb9f3a"
             ],
             [
              0.8888888888888888,
              "#fdca26"
             ],
             [
              1,
              "#f0f921"
             ]
            ],
            "type": "heatmapgl"
           }
          ],
          "histogram": [
           {
            "marker": {
             "pattern": {
              "fillmode": "overlay",
              "size": 10,
              "solidity": 0.2
             }
            },
            "type": "histogram"
           }
          ],
          "histogram2d": [
           {
            "colorbar": {
             "outlinewidth": 0,
             "ticks": ""
            },
            "colorscale": [
             [
              0,
              "#0d0887"
             ],
             [
              0.1111111111111111,
              "#46039f"
             ],
             [
              0.2222222222222222,
              "#7201a8"
             ],
             [
              0.3333333333333333,
              "#9c179e"
             ],
             [
              0.4444444444444444,
              "#bd3786"
             ],
             [
              0.5555555555555556,
              "#d8576b"
             ],
             [
              0.6666666666666666,
              "#ed7953"
             ],
             [
              0.7777777777777778,
              "#fb9f3a"
             ],
             [
              0.8888888888888888,
              "#fdca26"
             ],
             [
              1,
              "#f0f921"
             ]
            ],
            "type": "histogram2d"
           }
          ],
          "histogram2dcontour": [
           {
            "colorbar": {
             "outlinewidth": 0,
             "ticks": ""
            },
            "colorscale": [
             [
              0,
              "#0d0887"
             ],
             [
              0.1111111111111111,
              "#46039f"
             ],
             [
              0.2222222222222222,
              "#7201a8"
             ],
             [
              0.3333333333333333,
              "#9c179e"
             ],
             [
              0.4444444444444444,
              "#bd3786"
             ],
             [
              0.5555555555555556,
              "#d8576b"
             ],
             [
              0.6666666666666666,
              "#ed7953"
             ],
             [
              0.7777777777777778,
              "#fb9f3a"
             ],
             [
              0.8888888888888888,
              "#fdca26"
             ],
             [
              1,
              "#f0f921"
             ]
            ],
            "type": "histogram2dcontour"
           }
          ],
          "mesh3d": [
           {
            "colorbar": {
             "outlinewidth": 0,
             "ticks": ""
            },
            "type": "mesh3d"
           }
          ],
          "parcoords": [
           {
            "line": {
             "colorbar": {
              "outlinewidth": 0,
              "ticks": ""
             }
            },
            "type": "parcoords"
           }
          ],
          "pie": [
           {
            "automargin": true,
            "type": "pie"
           }
          ],
          "scatter": [
           {
            "fillpattern": {
             "fillmode": "overlay",
             "size": 10,
             "solidity": 0.2
            },
            "type": "scatter"
           }
          ],
          "scatter3d": [
           {
            "line": {
             "colorbar": {
              "outlinewidth": 0,
              "ticks": ""
             }
            },
            "marker": {
             "colorbar": {
              "outlinewidth": 0,
              "ticks": ""
             }
            },
            "type": "scatter3d"
           }
          ],
          "scattercarpet": [
           {
            "marker": {
             "colorbar": {
              "outlinewidth": 0,
              "ticks": ""
             }
            },
            "type": "scattercarpet"
           }
          ],
          "scattergeo": [
           {
            "marker": {
             "colorbar": {
              "outlinewidth": 0,
              "ticks": ""
             }
            },
            "type": "scattergeo"
           }
          ],
          "scattergl": [
           {
            "marker": {
             "colorbar": {
              "outlinewidth": 0,
              "ticks": ""
             }
            },
            "type": "scattergl"
           }
          ],
          "scattermapbox": [
           {
            "marker": {
             "colorbar": {
              "outlinewidth": 0,
              "ticks": ""
             }
            },
            "type": "scattermapbox"
           }
          ],
          "scatterpolar": [
           {
            "marker": {
             "colorbar": {
              "outlinewidth": 0,
              "ticks": ""
             }
            },
            "type": "scatterpolar"
           }
          ],
          "scatterpolargl": [
           {
            "marker": {
             "colorbar": {
              "outlinewidth": 0,
              "ticks": ""
             }
            },
            "type": "scatterpolargl"
           }
          ],
          "scatterternary": [
           {
            "marker": {
             "colorbar": {
              "outlinewidth": 0,
              "ticks": ""
             }
            },
            "type": "scatterternary"
           }
          ],
          "surface": [
           {
            "colorbar": {
             "outlinewidth": 0,
             "ticks": ""
            },
            "colorscale": [
             [
              0,
              "#0d0887"
             ],
             [
              0.1111111111111111,
              "#46039f"
             ],
             [
              0.2222222222222222,
              "#7201a8"
             ],
             [
              0.3333333333333333,
              "#9c179e"
             ],
             [
              0.4444444444444444,
              "#bd3786"
             ],
             [
              0.5555555555555556,
              "#d8576b"
             ],
             [
              0.6666666666666666,
              "#ed7953"
             ],
             [
              0.7777777777777778,
              "#fb9f3a"
             ],
             [
              0.8888888888888888,
              "#fdca26"
             ],
             [
              1,
              "#f0f921"
             ]
            ],
            "type": "surface"
           }
          ],
          "table": [
           {
            "cells": {
             "fill": {
              "color": "#EBF0F8"
             },
             "line": {
              "color": "white"
             }
            },
            "header": {
             "fill": {
              "color": "#C8D4E3"
             },
             "line": {
              "color": "white"
             }
            },
            "type": "table"
           }
          ]
         },
         "layout": {
          "annotationdefaults": {
           "arrowcolor": "#2a3f5f",
           "arrowhead": 0,
           "arrowwidth": 1
          },
          "autotypenumbers": "strict",
          "coloraxis": {
           "colorbar": {
            "outlinewidth": 0,
            "ticks": ""
           }
          },
          "colorscale": {
           "diverging": [
            [
             0,
             "#8e0152"
            ],
            [
             0.1,
             "#c51b7d"
            ],
            [
             0.2,
             "#de77ae"
            ],
            [
             0.3,
             "#f1b6da"
            ],
            [
             0.4,
             "#fde0ef"
            ],
            [
             0.5,
             "#f7f7f7"
            ],
            [
             0.6,
             "#e6f5d0"
            ],
            [
             0.7,
             "#b8e186"
            ],
            [
             0.8,
             "#7fbc41"
            ],
            [
             0.9,
             "#4d9221"
            ],
            [
             1,
             "#276419"
            ]
           ],
           "sequential": [
            [
             0,
             "#0d0887"
            ],
            [
             0.1111111111111111,
             "#46039f"
            ],
            [
             0.2222222222222222,
             "#7201a8"
            ],
            [
             0.3333333333333333,
             "#9c179e"
            ],
            [
             0.4444444444444444,
             "#bd3786"
            ],
            [
             0.5555555555555556,
             "#d8576b"
            ],
            [
             0.6666666666666666,
             "#ed7953"
            ],
            [
             0.7777777777777778,
             "#fb9f3a"
            ],
            [
             0.8888888888888888,
             "#fdca26"
            ],
            [
             1,
             "#f0f921"
            ]
           ],
           "sequentialminus": [
            [
             0,
             "#0d0887"
            ],
            [
             0.1111111111111111,
             "#46039f"
            ],
            [
             0.2222222222222222,
             "#7201a8"
            ],
            [
             0.3333333333333333,
             "#9c179e"
            ],
            [
             0.4444444444444444,
             "#bd3786"
            ],
            [
             0.5555555555555556,
             "#d8576b"
            ],
            [
             0.6666666666666666,
             "#ed7953"
            ],
            [
             0.7777777777777778,
             "#fb9f3a"
            ],
            [
             0.8888888888888888,
             "#fdca26"
            ],
            [
             1,
             "#f0f921"
            ]
           ]
          },
          "colorway": [
           "#636efa",
           "#EF553B",
           "#00cc96",
           "#ab63fa",
           "#FFA15A",
           "#19d3f3",
           "#FF6692",
           "#B6E880",
           "#FF97FF",
           "#FECB52"
          ],
          "font": {
           "color": "#2a3f5f"
          },
          "geo": {
           "bgcolor": "white",
           "lakecolor": "white",
           "landcolor": "#E5ECF6",
           "showlakes": true,
           "showland": true,
           "subunitcolor": "white"
          },
          "hoverlabel": {
           "align": "left"
          },
          "hovermode": "closest",
          "mapbox": {
           "style": "light"
          },
          "paper_bgcolor": "white",
          "plot_bgcolor": "#E5ECF6",
          "polar": {
           "angularaxis": {
            "gridcolor": "white",
            "linecolor": "white",
            "ticks": ""
           },
           "bgcolor": "#E5ECF6",
           "radialaxis": {
            "gridcolor": "white",
            "linecolor": "white",
            "ticks": ""
           }
          },
          "scene": {
           "xaxis": {
            "backgroundcolor": "#E5ECF6",
            "gridcolor": "white",
            "gridwidth": 2,
            "linecolor": "white",
            "showbackground": true,
            "ticks": "",
            "zerolinecolor": "white"
           },
           "yaxis": {
            "backgroundcolor": "#E5ECF6",
            "gridcolor": "white",
            "gridwidth": 2,
            "linecolor": "white",
            "showbackground": true,
            "ticks": "",
            "zerolinecolor": "white"
           },
           "zaxis": {
            "backgroundcolor": "#E5ECF6",
            "gridcolor": "white",
            "gridwidth": 2,
            "linecolor": "white",
            "showbackground": true,
            "ticks": "",
            "zerolinecolor": "white"
           }
          },
          "shapedefaults": {
           "line": {
            "color": "#2a3f5f"
           }
          },
          "ternary": {
           "aaxis": {
            "gridcolor": "white",
            "linecolor": "white",
            "ticks": ""
           },
           "baxis": {
            "gridcolor": "white",
            "linecolor": "white",
            "ticks": ""
           },
           "bgcolor": "#E5ECF6",
           "caxis": {
            "gridcolor": "white",
            "linecolor": "white",
            "ticks": ""
           }
          },
          "title": {
           "x": 0.05
          },
          "xaxis": {
           "automargin": true,
           "gridcolor": "white",
           "linecolor": "white",
           "ticks": "",
           "title": {
            "standoff": 15
           },
           "zerolinecolor": "white",
           "zerolinewidth": 2
          },
          "yaxis": {
           "automargin": true,
           "gridcolor": "white",
           "linecolor": "white",
           "ticks": "",
           "title": {
            "standoff": 15
           },
           "zerolinecolor": "white",
           "zerolinewidth": 2
          }
         }
        },
        "xaxis": {
         "anchor": "y",
         "domain": [
          0,
          1
         ],
         "title": {
          "text": "Количество стартовых вершин"
         }
        },
        "yaxis": {
         "anchor": "x",
         "domain": [
          0,
          1
         ],
         "title": {
          "text": "Время"
         }
        }
       }
      }
     },
     "metadata": {},
     "output_type": "display_data"
    }
   ],
   "source": [
    "px.scatter(resume1, x = 'Количество стартовых вершин', y = 'Время', color = 'Уровень push/pull')"
   ]
  },
  {
   "cell_type": "markdown",
   "id": "c4d0ce3c",
   "metadata": {},
   "source": [
    "# Выводы:\n",
    "Заметна линейная зависимость времени при использовании push_pull от размера графа и количества стартовых вершин. При этом степень разреженности особо не оказывает никакого влияния на время работы алгоритма.\n",
    "Уровень pull/push не влияет на время работы алгоритма.\n",
    "\n",
    "В сравнении с классическим алгоритмом, push/pull работает медленнее для всех групп графов (по размеру)\n",
    "\n",
    "В целом, применение pull/push на рассмотренные графы не оказывает влияние.\n",
    "\n"
   ]
  }
 ],
 "metadata": {
  "kernelspec": {
   "display_name": "Python 3 (ipykernel)",
   "language": "python",
   "name": "python3"
  },
  "language_info": {
   "codemirror_mode": {
    "name": "ipython",
    "version": 3
   },
   "file_extension": ".py",
   "mimetype": "text/x-python",
   "name": "python",
   "nbconvert_exporter": "python",
   "pygments_lexer": "ipython3",
   "version": "3.12.0"
  }
 },
 "nbformat": 4,
 "nbformat_minor": 5
}
